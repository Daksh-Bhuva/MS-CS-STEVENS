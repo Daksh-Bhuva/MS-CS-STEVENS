{
  "nbformat": 4,
  "nbformat_minor": 0,
  "metadata": {
    "colab": {
      "name": "DakshBhuva_HW5_Problem1.ipynb",
      "provenance": [],
      "collapsed_sections": [],
      "toc_visible": true
    },
    "kernelspec": {
      "name": "python3",
      "display_name": "Python 3"
    },
    "language_info": {
      "name": "python"
    }
  },
  "cells": [
    {
      "cell_type": "markdown",
      "source": [
        "# *Problem 1. Neural Networks*"
      ],
      "metadata": {
        "id": "yOp82piKv0yb"
      }
    },
    {
      "cell_type": "markdown",
      "source": [
        "### *Develop a Neural Network (NN) model to predict class labels for the Iris data set. Split the data into training, validation and testing set with the ratio of 0.8, 0.1 and 0.1. Train the model on the training set, select the best  model  based  on  the  validation  set,  and  test  your  model  on  the  testing  set.  Report  your  training, validation and testing accuracy. You can use packages such as Tensorflow or Pytorch.* "
      ],
      "metadata": {
        "id": "P-uVl7xhvbHg"
      }
    },
    {
      "cell_type": "markdown",
      "source": [
        "## Using Pytorch to define our neural network\n",
        "\n",
        "\n",
        "*   Two Hidden Layers\n",
        "*   ReLU Activation Function\n",
        "\n"
      ],
      "metadata": {
        "id": "55VAP6c2v_Xc"
      }
    },
    {
      "cell_type": "code",
      "source": [
        "import torch\n",
        "import torch.nn as NeuralNet\n",
        "\n",
        "class neural_network(NeuralNet.Module):\n",
        "    \n",
        "    # There are two hidden layers in our network denoted by h1 and h2\n",
        "    # ReLU is used as the activation function\n",
        "    def __init__(self, numoffeatures, h1, h2,output):\n",
        "        super(neural_network, self).__init__()\n",
        "        self.first   = NeuralNet.Linear(numoffeatures, h1)\n",
        "        self.relu1 = NeuralNet.ReLU()\n",
        "        self.second   = NeuralNet.Linear(h1, h2)\n",
        "        self.relu2 = NeuralNet.ReLU()\n",
        "        self.third   = NeuralNet.Linear(h2, output)    \n",
        "\n",
        "    def forward(self, x):\n",
        "        out = self.first(x)\n",
        "        out = self.relu1(out)\n",
        "        out = self.second(out)\n",
        "        out = self.relu2(out)\n",
        "        out = self.third(out)\n",
        "        \n",
        "        return out"
      ],
      "metadata": {
        "id": "k4hCE3KAgx1S"
      },
      "execution_count": 1,
      "outputs": []
    },
    {
      "cell_type": "markdown",
      "source": [
        "## Deciding the parameters i.e. Input Attributes, Number of nodes in the Hidden Layer and Output Classes"
      ],
      "metadata": {
        "id": "7hOq4vAdxAEt"
      }
    },
    {
      "cell_type": "code",
      "source": [
        "# First layer of our network\n",
        "# 4 attributes as input: 'sepal lenght', 'sepal width', 'petal lenght', 'petal width'\n",
        "numoffeatures = 4 \n",
        "\n",
        "# Number of nodes in 1st and 2nd hidden layers\n",
        "h1 = 5\n",
        "h2 = 9\n",
        "\n",
        "# Last layer of our network\n",
        "# Output Classes: 'Setosa', 'Versicolour', 'Virginica'\n",
        "numofclasses = 3\n",
        "\n",
        "# Number of iterations for backpropagation\n",
        "epochs = 30"
      ],
      "metadata": {
        "id": "HDMpodoLgx3g"
      },
      "execution_count": 2,
      "outputs": []
    },
    {
      "cell_type": "markdown",
      "source": [
        "## Implemening our Neural Network"
      ],
      "metadata": {
        "id": "6D_ZSQJVx2NJ"
      }
    },
    {
      "cell_type": "code",
      "source": [
        "lr = 0.01 \n",
        "m = neural_network(numoffeatures,h1,h2,numofclasses)\n",
        "\n",
        "#choosing optimizer and desired loss function\n",
        "criterion = NeuralNet.CrossEntropyLoss()\n",
        "# Stochastic Optimization\n",
        "optimizer = torch.optim.Adam(m.parameters(), lr=lr)"
      ],
      "metadata": {
        "id": "7cSx1X3Egx68"
      },
      "execution_count": 3,
      "outputs": []
    },
    {
      "cell_type": "markdown",
      "source": [
        "## Loading and splitting the Iris dataset into training, validation and testing set"
      ],
      "metadata": {
        "id": "Y9cp6MyIx_wP"
      }
    },
    {
      "cell_type": "code",
      "source": [
        "from sklearn.datasets import load_iris\n",
        "from sklearn.model_selection import train_test_split\n",
        "\n",
        "iris = load_iris()\n",
        "x , y = iris.data, iris.target\n",
        "\n",
        "# First splitting dataset into train and test with ratio as 0.8 and 0.2\n",
        "train_x , test_x, train_y, test_y = train_test_split(x, y, test_size=0.2, random_state=1)\n",
        "\n",
        "# Now splitting the test 'equally' into test and validation\n",
        "# Hence our dataset is in ratio train:test:val = 0.8:0.1:0.1 \n",
        "test_x , val_x , test_y , val_y = train_test_split(test_x, test_y, test_size=0.5, random_state=1)"
      ],
      "metadata": {
        "id": "85b02Jxtgx-D"
      },
      "execution_count": 4,
      "outputs": []
    },
    {
      "cell_type": "markdown",
      "source": [
        "## Getting tensors and creating loaders for training, validation and testing set"
      ],
      "metadata": {
        "id": "hSGMJDj0ygI8"
      }
    },
    {
      "cell_type": "code",
      "source": [
        "import torch.utils.data as utils\n",
        "import torch.utils.data as td\n",
        "\n",
        "# Training\n",
        "train_x_tnsr = torch.Tensor(train_x).float()\n",
        "train_y_tnsr = torch.Tensor(train_y).long()\n",
        "\n",
        "iris_train_tnsr = utils.TensorDataset(train_x_tnsr,train_y_tnsr)\n",
        "\n",
        "train_data_loader = td.DataLoader(iris_train_tnsr, batch_size=10, shuffle=True, num_workers=1)\n",
        "\n",
        "# Validation\n",
        "val_x_tnsr = torch.Tensor(val_x).float()\n",
        "val_y_tnsr = torch.Tensor(val_y).long()\n",
        "iris_val_tnsr = utils.TensorDataset(val_x_tnsr,val_y_tnsr)\n",
        "val_data_loader = td.DataLoader(iris_val_tnsr, batch_size=10, shuffle=True, num_workers=1)\n",
        "\n",
        "# Testing\n",
        "test_x_tnsr = torch.Tensor(test_x).float()\n",
        "test_y_tnsr = torch.Tensor(test_y).long()\n",
        "\n",
        "iris_test_tnsr = utils.TensorDataset(test_x_tnsr,test_y_tnsr)\n",
        "\n",
        "test_data_loader = td.DataLoader(iris_test_tnsr, batch_size=10, shuffle=True, num_workers=1)"
      ],
      "metadata": {
        "id": "wzCMSZXIgyAo"
      },
      "execution_count": 5,
      "outputs": []
    },
    {
      "cell_type": "markdown",
      "source": [
        "## Defining function to get training loss and validation loss"
      ],
      "metadata": {
        "id": "oX_ViOcxzRa5"
      }
    },
    {
      "cell_type": "code",
      "source": [
        "def train(model, loader, loader1, criterion, optimizer):\n",
        "    \n",
        "    model.train()\n",
        "    \n",
        "    t_loss = 0\n",
        "    v_loss = 0\n",
        "    \n",
        "    for b, tnsr in enumerate(loader):\n",
        "        curr_data, curr_target = tnsr\n",
        "        # Gradients = 0\n",
        "        optimizer.zero_grad()\n",
        "        next = model(curr_data)\n",
        "        loss = criterion(next, curr_target)\n",
        "        # calculating gradients\n",
        "        loss.backward()\n",
        "        # Updating weights\n",
        "        optimizer.step()\n",
        "        t_loss = t_loss + loss.item()\n",
        "    \n",
        "    # evaluating our model\n",
        "    model.eval()\n",
        "    for b, tnsr in enumerate(loader1):\n",
        "        curr_data, curr_target = tnsr\n",
        "        next = model(curr_data)\n",
        "        loss = criterion(next, curr_target)\n",
        "        v_loss = v_loss + loss.item()\n",
        "        \n",
        "        \n",
        "    # Return loss\n",
        "    avg_loss_t = t_loss / len(loader.dataset)\n",
        "    avg_loss_v = v_loss / len(loader1.dataset)\n",
        "    return avg_loss_t, avg_loss_v"
      ],
      "metadata": {
        "id": "OcEl050Ig774"
      },
      "execution_count": 6,
      "outputs": []
    },
    {
      "cell_type": "markdown",
      "source": [
        "## Defining function to get testing loss"
      ],
      "metadata": {
        "id": "xlgrwHwszXRo"
      }
    },
    {
      "cell_type": "code",
      "source": [
        "def test(model, loader, criterion):\n",
        "\n",
        "    # evaluate model\n",
        "    model.eval()\n",
        "\n",
        "    t_loss = 0\n",
        "    count = 0\n",
        "\n",
        "    with torch.no_grad():\n",
        "        for b, tnsr in enumerate(loader):\n",
        "            curr_data, curr_target = tnsr\n",
        "\n",
        "            # find answer by passing data through model\n",
        "            output = model(curr_data)\n",
        "\n",
        "            # find loss\n",
        "            t_loss = t_loss + criterion(output, curr_target).item()\n",
        "\n",
        "            # find accuracy\n",
        "            _, prediction = torch.max(output, 1)\n",
        "            count = count + torch.sum(curr_target == prediction).item()\n",
        "\n",
        "\n",
        "    avg_acc = count / len(loader.dataset)\n",
        "    avg_loss = t_loss / len(loader.dataset)\n",
        "    \n",
        "    return avg_acc, avg_loss\n"
      ],
      "metadata": {
        "id": "F0KpYirzg79w"
      },
      "execution_count": 7,
      "outputs": []
    },
    {
      "cell_type": "markdown",
      "source": [
        "## Using the Neural Network"
      ],
      "metadata": {
        "id": "bW8bMAyy1ZeE"
      }
    },
    {
      "cell_type": "code",
      "source": [
        "enums = []\n",
        "tr_losses = []\n",
        "val_losses = []\n",
        "\n",
        "\n",
        "for epoch in range(epochs):\n",
        "    \n",
        "    # Model Training\n",
        "    tr_loss, val_loss = train(m, train_data_loader, val_data_loader, criterion, optimizer)\n",
        "    \n",
        "    enums.append(epoch)\n",
        "    tr_losses.append(tr_loss)\n",
        "    val_losses.append(val_loss)\n",
        "    print(\"Epoch \",epoch+1,\":\")\n",
        "    print(\"Training Loss :\",tr_loss,\" Validation Loss :\",val_loss)\n"
      ],
      "metadata": {
        "colab": {
          "base_uri": "https://localhost:8080/"
        },
        "id": "HkhCPj1Zg8B8",
        "outputId": "79af4dba-9fc3-4b96-991e-294eaa467384"
      },
      "execution_count": 8,
      "outputs": [
        {
          "output_type": "stream",
          "name": "stdout",
          "text": [
            "Epoch  1 :\n",
            "Training Loss : 0.10705265055100123  Validation Loss : 0.14220394293467203\n",
            "Epoch  2 :\n",
            "Training Loss : 0.09667361279328664  Validation Loss : 0.13526658217112222\n",
            "Epoch  3 :\n",
            "Training Loss : 0.07971962640682856  Validation Loss : 0.11040416161219278\n",
            "Epoch  4 :\n",
            "Training Loss : 0.06264254475633303  Validation Loss : 0.0895259658495585\n",
            "Epoch  5 :\n",
            "Training Loss : 0.046967687209447224  Validation Loss : 0.07528030077616374\n",
            "Epoch  6 :\n",
            "Training Loss : 0.03781860868136088  Validation Loss : 0.05907368858655294\n",
            "Epoch  7 :\n",
            "Training Loss : 0.03383137459556262  Validation Loss : 0.06933768192927042\n",
            "Epoch  8 :\n",
            "Training Loss : 0.0269201813886563  Validation Loss : 0.04795589645703634\n",
            "Epoch  9 :\n",
            "Training Loss : 0.022996486350893974  Validation Loss : 0.05874242385228475\n",
            "Epoch  10 :\n",
            "Training Loss : 0.020203165896236896  Validation Loss : 0.037839305400848386\n",
            "Epoch  11 :\n",
            "Training Loss : 0.017768767413993677  Validation Loss : 0.03512387077013652\n",
            "Epoch  12 :\n",
            "Training Loss : 0.015824378778537113  Validation Loss : 0.03647292455037435\n",
            "Epoch  13 :\n",
            "Training Loss : 0.013718475649754206  Validation Loss : 0.031316883365313214\n",
            "Epoch  14 :\n",
            "Training Loss : 0.01268013878725469  Validation Loss : 0.029048492511113484\n",
            "Epoch  15 :\n",
            "Training Loss : 0.011556090942273537  Validation Loss : 0.038005733489990236\n",
            "Epoch  16 :\n",
            "Training Loss : 0.01755756316706538  Validation Loss : 0.05909181435902913\n",
            "Epoch  17 :\n",
            "Training Loss : 0.012161409202963113  Validation Loss : 0.02235474487145742\n",
            "Epoch  18 :\n",
            "Training Loss : 0.010690142392801742  Validation Loss : 0.02431473135948181\n",
            "Epoch  19 :\n",
            "Training Loss : 0.00920102143039306  Validation Loss : 0.0405588428179423\n",
            "Epoch  20 :\n",
            "Training Loss : 0.011000736500136554  Validation Loss : 0.022339510917663574\n",
            "Epoch  21 :\n",
            "Training Loss : 0.009325473049345116  Validation Loss : 0.021514344215393066\n",
            "Epoch  22 :\n",
            "Training Loss : 0.008890969771891832  Validation Loss : 0.02685072471698125\n",
            "Epoch  23 :\n",
            "Training Loss : 0.01015773486190786  Validation Loss : 0.037471028168996175\n",
            "Epoch  24 :\n",
            "Training Loss : 0.008539251377806067  Validation Loss : 0.02310544451077779\n",
            "Epoch  25 :\n",
            "Training Loss : 0.011971367647250493  Validation Loss : 0.016911367078622182\n",
            "Epoch  26 :\n",
            "Training Loss : 0.008339773712214083  Validation Loss : 0.01804673026005427\n",
            "Epoch  27 :\n",
            "Training Loss : 0.008899995335377752  Validation Loss : 0.026213408509890238\n",
            "Epoch  28 :\n",
            "Training Loss : 0.00949114804000904  Validation Loss : 0.025344152251879373\n",
            "Epoch  29 :\n",
            "Training Loss : 0.009745316673070192  Validation Loss : 0.026236117879549662\n",
            "Epoch  30 :\n",
            "Training Loss : 0.009493014177617927  Validation Loss : 0.01516856774687767\n"
          ]
        }
      ]
    },
    {
      "cell_type": "markdown",
      "source": [
        "## Plotting the training loss and validation loss"
      ],
      "metadata": {
        "id": "eHMyeQb8z7SK"
      }
    },
    {
      "cell_type": "code",
      "source": [
        "from matplotlib import pyplot as plt\n",
        "\n",
        "plt.plot(enums, tr_losses,'b>')\n",
        "plt.plot(enums, val_losses,'g')\n",
        "plt.xlabel('epoch')\n",
        "plt.ylabel('loss')\n",
        "plt.legend(['train', 'validation'])\n",
        "plt.show()"
      ],
      "metadata": {
        "colab": {
          "base_uri": "https://localhost:8080/",
          "height": 279
        },
        "id": "M4G-nZ4AhDrW",
        "outputId": "488e0ef1-ac0b-4e1f-c14d-bfad17fde09b"
      },
      "execution_count": 9,
      "outputs": [
        {
          "output_type": "display_data",
          "data": {
            "image/png": "[encoded data removed]",
            "text/plain": [
              "<Figure size 432x288 with 1 Axes>"
            ]
          },
          "metadata": {
            "needs_background": "light"
          }
        }
      ]
    },
    {
      "cell_type": "markdown",
      "source": [
        "## Confusion Matrix and Accuracy"
      ],
      "metadata": {
        "id": "xQP2a5xIz2EW"
      }
    },
    {
      "cell_type": "code",
      "source": [
        "from sklearn.metrics import confusion_matrix, accuracy_score\n",
        "import numpy as np\n",
        "\n",
        "accuracy, tst_loss = test(m, test_data_loader, criterion)\n",
        "\n",
        "print(\"Accuracy :\",accuracy * 100)\n",
        "print(\"Test Loss: \",tst_loss)\n",
        "\n",
        "# set model to evaluate mode\n",
        "m.eval()\n",
        "\n",
        "# get predictions\n",
        "x = torch.Tensor(test_x).float()\n",
        "_, predicted = torch.max(m(x).data, 1)\n",
        "\n",
        "# Getting confusion matrix\n",
        "k = accuracy_score(test_y, predicted.numpy())\n",
        "\n",
        "cm = confusion_matrix(test_y, predicted.numpy())\n",
        "plt.imshow(cm, interpolation=\"nearest\", cmap=plt.cm.Purples)\n",
        "plt.colorbar()\n",
        "tick_marks = np.arange(len(iris.target_names))\n",
        "plt.xticks(tick_marks, iris.target_names)\n",
        "plt.yticks(tick_marks, iris.target_names)\n",
        "plt.xlabel(\"Predicted Species\")\n",
        "plt.ylabel(\"True Species\")\n",
        "plt.show()"
      ],
      "metadata": {
        "colab": {
          "base_uri": "https://localhost:8080/",
          "height": 318
        },
        "id": "XKqFGfnes7_u",
        "outputId": "71d977c6-e211-4283-c10a-5255ba3a2b20"
      },
      "execution_count": 10,
      "outputs": [
        {
          "output_type": "stream",
          "name": "stdout",
          "text": [
            "Accuracy : 100.0\n",
            "Test Loss:  0.003638163829843203\n"
          ]
        },
        {
          "output_type": "display_data",
          "data": {
            "image/png": "[encoded data removed]",
            "text/plain": [
              "<Figure size 432x288 with 2 Axes>"
            ]
          },
          "metadata": {
            "needs_background": "light"
          }
        }
      ]
    }
  ]
}