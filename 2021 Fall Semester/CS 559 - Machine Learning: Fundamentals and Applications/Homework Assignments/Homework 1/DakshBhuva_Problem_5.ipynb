{
 "cells": [
  {
   "cell_type": "markdown",
   "id": "760e7f9f",
   "metadata": {},
   "source": [
    "### Preparing the dataset"
   ]
  },
  {
   "cell_type": "markdown",
   "id": "fe24a1e9",
   "metadata": {},
   "source": [
    "**Importing some libraries and packages**"
   ]
  },
  {
   "cell_type": "code",
   "execution_count": 41,
   "id": "3f4a82e0",
   "metadata": {},
   "outputs": [],
   "source": [
    "import pandas as pd\n",
    "import numpy as np\n",
    "import seaborn as sns\n",
    "import matplotlib.pyplot as plt\n",
    "from sklearn.model_selection import cross_val_score\n",
    "from sklearn.model_selection import RepeatedKFold"
   ]
  },
  {
   "cell_type": "markdown",
   "id": "d5de1b81",
   "metadata": {},
   "source": [
    "**Importing the dataset**"
   ]
  },
  {
   "cell_type": "code",
   "execution_count": 51,
   "id": "60ba49b4",
   "metadata": {},
   "outputs": [
    {
     "data": {
      "text/html": [
       "<div>\n",
       "<style scoped>\n",
       "    .dataframe tbody tr th:only-of-type {\n",
       "        vertical-align: middle;\n",
       "    }\n",
       "\n",
       "    .dataframe tbody tr th {\n",
       "        vertical-align: top;\n",
       "    }\n",
       "\n",
       "    .dataframe thead th {\n",
       "        text-align: right;\n",
       "    }\n",
       "</style>\n",
       "<table border=\"1\" class=\"dataframe\">\n",
       "  <thead>\n",
       "    <tr style=\"text-align: right;\">\n",
       "      <th></th>\n",
       "      <th>X1</th>\n",
       "      <th>X2</th>\n",
       "      <th>X3</th>\n",
       "      <th>X4</th>\n",
       "      <th>X5</th>\n",
       "      <th>X6</th>\n",
       "      <th>X7</th>\n",
       "      <th>X8</th>\n",
       "      <th>Y2</th>\n",
       "      <th>Unnamed: 9</th>\n",
       "      <th>Unnamed: 10</th>\n",
       "    </tr>\n",
       "  </thead>\n",
       "  <tbody>\n",
       "    <tr>\n",
       "      <th>0</th>\n",
       "      <td>0.98</td>\n",
       "      <td>514.5</td>\n",
       "      <td>294.0</td>\n",
       "      <td>110.25</td>\n",
       "      <td>7.0</td>\n",
       "      <td>2</td>\n",
       "      <td>0.0</td>\n",
       "      <td>0</td>\n",
       "      <td>21.33</td>\n",
       "      <td>NaN</td>\n",
       "      <td>NaN</td>\n",
       "    </tr>\n",
       "    <tr>\n",
       "      <th>1</th>\n",
       "      <td>0.98</td>\n",
       "      <td>514.5</td>\n",
       "      <td>294.0</td>\n",
       "      <td>110.25</td>\n",
       "      <td>7.0</td>\n",
       "      <td>3</td>\n",
       "      <td>0.0</td>\n",
       "      <td>0</td>\n",
       "      <td>21.33</td>\n",
       "      <td>NaN</td>\n",
       "      <td>NaN</td>\n",
       "    </tr>\n",
       "    <tr>\n",
       "      <th>2</th>\n",
       "      <td>0.98</td>\n",
       "      <td>514.5</td>\n",
       "      <td>294.0</td>\n",
       "      <td>110.25</td>\n",
       "      <td>7.0</td>\n",
       "      <td>4</td>\n",
       "      <td>0.0</td>\n",
       "      <td>0</td>\n",
       "      <td>21.33</td>\n",
       "      <td>NaN</td>\n",
       "      <td>NaN</td>\n",
       "    </tr>\n",
       "    <tr>\n",
       "      <th>3</th>\n",
       "      <td>0.98</td>\n",
       "      <td>514.5</td>\n",
       "      <td>294.0</td>\n",
       "      <td>110.25</td>\n",
       "      <td>7.0</td>\n",
       "      <td>5</td>\n",
       "      <td>0.0</td>\n",
       "      <td>0</td>\n",
       "      <td>21.33</td>\n",
       "      <td>NaN</td>\n",
       "      <td>NaN</td>\n",
       "    </tr>\n",
       "    <tr>\n",
       "      <th>4</th>\n",
       "      <td>0.90</td>\n",
       "      <td>563.5</td>\n",
       "      <td>318.5</td>\n",
       "      <td>122.50</td>\n",
       "      <td>7.0</td>\n",
       "      <td>2</td>\n",
       "      <td>0.0</td>\n",
       "      <td>0</td>\n",
       "      <td>28.28</td>\n",
       "      <td>NaN</td>\n",
       "      <td>NaN</td>\n",
       "    </tr>\n",
       "  </tbody>\n",
       "</table>\n",
       "</div>"
      ],
      "text/plain": [
       "     X1     X2     X3      X4   X5  X6   X7  X8     Y2  Unnamed: 9  \\\n",
       "0  0.98  514.5  294.0  110.25  7.0   2  0.0   0  21.33         NaN   \n",
       "1  0.98  514.5  294.0  110.25  7.0   3  0.0   0  21.33         NaN   \n",
       "2  0.98  514.5  294.0  110.25  7.0   4  0.0   0  21.33         NaN   \n",
       "3  0.98  514.5  294.0  110.25  7.0   5  0.0   0  21.33         NaN   \n",
       "4  0.90  563.5  318.5  122.50  7.0   2  0.0   0  28.28         NaN   \n",
       "\n",
       "   Unnamed: 10  \n",
       "0          NaN  \n",
       "1          NaN  \n",
       "2          NaN  \n",
       "3          NaN  \n",
       "4          NaN  "
      ]
     },
     "execution_count": 51,
     "metadata": {},
     "output_type": "execute_result"
    }
   ],
   "source": [
    "dataset = pd.read_excel('/Users/dakshbhuva/Desktop/ENB2012_data.xlsx')\n",
    "dataset.head()"
   ]
  },
  {
   "cell_type": "markdown",
   "id": "4b5f134f",
   "metadata": {},
   "source": [
    "**Extracting the required columns**"
   ]
  },
  {
   "cell_type": "code",
   "execution_count": 53,
   "id": "60091248",
   "metadata": {},
   "outputs": [
    {
     "data": {
      "text/html": [
       "<div>\n",
       "<style scoped>\n",
       "    .dataframe tbody tr th:only-of-type {\n",
       "        vertical-align: middle;\n",
       "    }\n",
       "\n",
       "    .dataframe tbody tr th {\n",
       "        vertical-align: top;\n",
       "    }\n",
       "\n",
       "    .dataframe thead th {\n",
       "        text-align: right;\n",
       "    }\n",
       "</style>\n",
       "<table border=\"1\" class=\"dataframe\">\n",
       "  <thead>\n",
       "    <tr style=\"text-align: right;\">\n",
       "      <th></th>\n",
       "      <th>X1</th>\n",
       "      <th>X2</th>\n",
       "      <th>X3</th>\n",
       "      <th>X4</th>\n",
       "      <th>X5</th>\n",
       "      <th>X6</th>\n",
       "      <th>X7</th>\n",
       "      <th>X8</th>\n",
       "      <th>Y2</th>\n",
       "    </tr>\n",
       "  </thead>\n",
       "  <tbody>\n",
       "    <tr>\n",
       "      <th>0</th>\n",
       "      <td>0.98</td>\n",
       "      <td>514.5</td>\n",
       "      <td>294.0</td>\n",
       "      <td>110.25</td>\n",
       "      <td>7.0</td>\n",
       "      <td>2</td>\n",
       "      <td>0.0</td>\n",
       "      <td>0</td>\n",
       "      <td>21.33</td>\n",
       "    </tr>\n",
       "    <tr>\n",
       "      <th>1</th>\n",
       "      <td>0.98</td>\n",
       "      <td>514.5</td>\n",
       "      <td>294.0</td>\n",
       "      <td>110.25</td>\n",
       "      <td>7.0</td>\n",
       "      <td>3</td>\n",
       "      <td>0.0</td>\n",
       "      <td>0</td>\n",
       "      <td>21.33</td>\n",
       "    </tr>\n",
       "    <tr>\n",
       "      <th>2</th>\n",
       "      <td>0.98</td>\n",
       "      <td>514.5</td>\n",
       "      <td>294.0</td>\n",
       "      <td>110.25</td>\n",
       "      <td>7.0</td>\n",
       "      <td>4</td>\n",
       "      <td>0.0</td>\n",
       "      <td>0</td>\n",
       "      <td>21.33</td>\n",
       "    </tr>\n",
       "    <tr>\n",
       "      <th>3</th>\n",
       "      <td>0.98</td>\n",
       "      <td>514.5</td>\n",
       "      <td>294.0</td>\n",
       "      <td>110.25</td>\n",
       "      <td>7.0</td>\n",
       "      <td>5</td>\n",
       "      <td>0.0</td>\n",
       "      <td>0</td>\n",
       "      <td>21.33</td>\n",
       "    </tr>\n",
       "    <tr>\n",
       "      <th>4</th>\n",
       "      <td>0.90</td>\n",
       "      <td>563.5</td>\n",
       "      <td>318.5</td>\n",
       "      <td>122.50</td>\n",
       "      <td>7.0</td>\n",
       "      <td>2</td>\n",
       "      <td>0.0</td>\n",
       "      <td>0</td>\n",
       "      <td>28.28</td>\n",
       "    </tr>\n",
       "  </tbody>\n",
       "</table>\n",
       "</div>"
      ],
      "text/plain": [
       "     X1     X2     X3      X4   X5  X6   X7  X8     Y2\n",
       "0  0.98  514.5  294.0  110.25  7.0   2  0.0   0  21.33\n",
       "1  0.98  514.5  294.0  110.25  7.0   3  0.0   0  21.33\n",
       "2  0.98  514.5  294.0  110.25  7.0   4  0.0   0  21.33\n",
       "3  0.98  514.5  294.0  110.25  7.0   5  0.0   0  21.33\n",
       "4  0.90  563.5  318.5  122.50  7.0   2  0.0   0  28.28"
      ]
     },
     "execution_count": 53,
     "metadata": {},
     "output_type": "execute_result"
    }
   ],
   "source": [
    "cols_to_use = ['X1','X2','X3','X4','X5','X6','X7','X8','Y2',]\n",
    "dataset = dataset[cols_to_use]\n",
    "dataset.head()"
   ]
  },
  {
   "cell_type": "code",
   "execution_count": 44,
   "id": "3d4d9dd7",
   "metadata": {},
   "outputs": [
    {
     "data": {
      "text/plain": [
       "(768, 9)"
      ]
     },
     "execution_count": 44,
     "metadata": {},
     "output_type": "execute_result"
    }
   ],
   "source": [
    "dataset.shape"
   ]
  },
  {
   "cell_type": "code",
   "execution_count": 45,
   "id": "ea334e9e",
   "metadata": {},
   "outputs": [],
   "source": [
    "dvalues = dataset.values\n",
    "X, y = dvalues[:, :-1], dvalues[:, -1]\n",
    "print(X)\n",
    "print(y)"
   ]
  },
  {
   "cell_type": "markdown",
   "id": "59b3dba8",
   "metadata": {},
   "source": [
    "**Spliting the dataset into Training Data and Testing Data**"
   ]
  },
  {
   "cell_type": "code",
   "execution_count": 55,
   "id": "6a6e980e",
   "metadata": {},
   "outputs": [],
   "source": [
    "from sklearn.model_selection import train_test_split\n",
    "train_X, test_X, train_y, test_y = train_test_split(X, y, test_size = 0.3, random_state = 2)"
   ]
  },
  {
   "cell_type": "markdown",
   "id": "c0144bd8",
   "metadata": {},
   "source": [
    "***\n",
    "### Linear Regression\n",
    "***"
   ]
  },
  {
   "cell_type": "code",
   "execution_count": 49,
   "id": "16443a0c",
   "metadata": {},
   "outputs": [
    {
     "data": {
      "text/plain": [
       "LinearRegression()"
      ]
     },
     "execution_count": 49,
     "metadata": {},
     "output_type": "execute_result"
    }
   ],
   "source": [
    "from sklearn.linear_model import LinearRegression\n",
    "reg = LinearRegression()\n",
    "reg.fit(train_X, train_y)"
   ]
  },
  {
   "cell_type": "code",
   "execution_count": 11,
   "id": "6cdc4d0e",
   "metadata": {},
   "outputs": [],
   "source": [
    "pred_y = reg.predict(test_X)"
   ]
  },
  {
   "cell_type": "markdown",
   "id": "e5986186",
   "metadata": {},
   "source": [
    "**Accuracy score and mean squared error (MSE)**"
   ]
  },
  {
   "cell_type": "code",
   "execution_count": 12,
   "id": "d62a7dcd",
   "metadata": {},
   "outputs": [
    {
     "data": {
      "text/plain": [
       "0.8960068984743137"
      ]
     },
     "execution_count": 12,
     "metadata": {},
     "output_type": "execute_result"
    }
   ],
   "source": [
    "reg.score(train_X, train_y)"
   ]
  },
  {
   "cell_type": "code",
   "execution_count": 13,
   "id": "579e1f2a",
   "metadata": {},
   "outputs": [
    {
     "data": {
      "text/plain": [
       "0.8679934073082682"
      ]
     },
     "execution_count": 13,
     "metadata": {},
     "output_type": "execute_result"
    }
   ],
   "source": [
    "reg.score(test_X, test_y)"
   ]
  },
  {
   "cell_type": "code",
   "execution_count": 14,
   "id": "6e5dcdbd",
   "metadata": {},
   "outputs": [
    {
     "name": "stdout",
     "output_type": "stream",
     "text": [
      "MSE 11.932799400373\n"
     ]
    }
   ],
   "source": [
    "from sklearn.metrics import mean_squared_error\n",
    "\n",
    "print(\"MSE\", mean_squared_error(test_y, pred_y))"
   ]
  },
  {
   "cell_type": "markdown",
   "id": "dd53c107",
   "metadata": {},
   "source": [
    "**5-fold cross validation based on mean squared error (MSE)**"
   ]
  },
  {
   "cell_type": "code",
   "execution_count": 15,
   "id": "ef81c7be",
   "metadata": {},
   "outputs": [],
   "source": [
    "cv = RepeatedKFold(n_splits=5, n_repeats=1, random_state=1)\n",
    "scores = cross_val_score(reg, X, y, scoring='neg_mean_squared_error', cv=cv, n_jobs=-1)"
   ]
  },
  {
   "cell_type": "code",
   "execution_count": 16,
   "id": "b87e3556",
   "metadata": {},
   "outputs": [
    {
     "name": "stdout",
     "output_type": "stream",
     "text": [
      "[13.33425648  9.25534554 11.44645645  8.08679584  9.12829731]\n",
      "Mean MSE: 10.250\n"
     ]
    }
   ],
   "source": [
    "scores = np.absolute(scores)\n",
    "print(scores)\n",
    "print('Mean MSE: %.3f' % (np.mean(scores)))"
   ]
  },
  {
   "cell_type": "markdown",
   "id": "4a4ba31d",
   "metadata": {},
   "source": [
    "***\n",
    "### Lasso Regression\n",
    "***"
   ]
  },
  {
   "cell_type": "code",
   "execution_count": 17,
   "id": "c43e444d",
   "metadata": {},
   "outputs": [
    {
     "data": {
      "text/plain": [
       "Lasso(alpha=0.1, max_iter=100, tol=0.1)"
      ]
     },
     "execution_count": 17,
     "metadata": {},
     "output_type": "execute_result"
    }
   ],
   "source": [
    "from sklearn.linear_model import Lasso\n",
    "\n",
    "\n",
    "lasso_reg = Lasso(alpha=0.1, max_iter=100, tol=0.1)\n",
    "lasso_reg.fit(train_X, train_y)"
   ]
  },
  {
   "cell_type": "code",
   "execution_count": 18,
   "id": "ed796242",
   "metadata": {},
   "outputs": [],
   "source": [
    "pred_lasso_y = lasso_reg.predict(test_X)"
   ]
  },
  {
   "cell_type": "markdown",
   "id": "a16dff9c",
   "metadata": {},
   "source": [
    "**Accuracy score and mean squared error (MSE)**"
   ]
  },
  {
   "cell_type": "code",
   "execution_count": 19,
   "id": "6864d8dd",
   "metadata": {},
   "outputs": [
    {
     "data": {
      "text/plain": [
       "0.8496597478733995"
      ]
     },
     "execution_count": 19,
     "metadata": {},
     "output_type": "execute_result"
    }
   ],
   "source": [
    "lasso_reg.score(train_X, train_y)"
   ]
  },
  {
   "cell_type": "code",
   "execution_count": 20,
   "id": "357c1080",
   "metadata": {},
   "outputs": [
    {
     "data": {
      "text/plain": [
       "0.8210153461763534"
      ]
     },
     "execution_count": 20,
     "metadata": {},
     "output_type": "execute_result"
    }
   ],
   "source": [
    "lasso_reg.score(test_X, test_y)"
   ]
  },
  {
   "cell_type": "code",
   "execution_count": 21,
   "id": "6a2ddddc",
   "metadata": {},
   "outputs": [
    {
     "name": "stdout",
     "output_type": "stream",
     "text": [
      "MSE 16.17940381818941\n"
     ]
    }
   ],
   "source": [
    "print(\"MSE\", mean_squared_error(test_y, pred_lasso_y))"
   ]
  },
  {
   "cell_type": "markdown",
   "id": "bccaadee",
   "metadata": {},
   "source": [
    "**5-fold cross validation based on mean squared error (MSE)**"
   ]
  },
  {
   "cell_type": "code",
   "execution_count": 22,
   "id": "7ee51750",
   "metadata": {},
   "outputs": [],
   "source": [
    "cv = RepeatedKFold(n_splits=5, n_repeats=1, random_state=1)\n",
    "scores = cross_val_score(lasso_reg, X, y, scoring='neg_mean_squared_error', cv=cv, n_jobs=-1)"
   ]
  },
  {
   "cell_type": "code",
   "execution_count": 23,
   "id": "5000453f",
   "metadata": {},
   "outputs": [
    {
     "name": "stdout",
     "output_type": "stream",
     "text": [
      "[17.5974518  12.90823341 17.22102097 12.83917627 12.00915707]\n",
      "Mean MSE: 14.515\n"
     ]
    }
   ],
   "source": [
    "scores = np.absolute(scores)\n",
    "print(scores)\n",
    "print('Mean MSE: %.3f' % (np.mean(scores)))"
   ]
  },
  {
   "cell_type": "markdown",
   "id": "684ffe29",
   "metadata": {},
   "source": [
    "***\n",
    "### Ridge Regression\n",
    "***"
   ]
  },
  {
   "cell_type": "code",
   "execution_count": 24,
   "id": "f8582205",
   "metadata": {},
   "outputs": [
    {
     "data": {
      "text/plain": [
       "Ridge(alpha=0.1, max_iter=100, tol=0.1)"
      ]
     },
     "execution_count": 24,
     "metadata": {},
     "output_type": "execute_result"
    }
   ],
   "source": [
    "from sklearn.linear_model import Ridge\n",
    "\n",
    "ridge_reg = Ridge(alpha=0.1, max_iter=100, tol=0.1)\n",
    "ridge_reg.fit(train_X, train_y)"
   ]
  },
  {
   "cell_type": "code",
   "execution_count": 25,
   "id": "75416285",
   "metadata": {},
   "outputs": [],
   "source": [
    "pred_ridge_y = ridge_reg.predict(test_X)"
   ]
  },
  {
   "cell_type": "markdown",
   "id": "47fe8514",
   "metadata": {},
   "source": [
    "**Accuracy score and mean squared error (MSE)**"
   ]
  },
  {
   "cell_type": "code",
   "execution_count": 26,
   "id": "d3f58d24",
   "metadata": {},
   "outputs": [
    {
     "data": {
      "text/plain": [
       "0.8936293256602481"
      ]
     },
     "execution_count": 26,
     "metadata": {},
     "output_type": "execute_result"
    }
   ],
   "source": [
    "ridge_reg.score(train_X, train_y)"
   ]
  },
  {
   "cell_type": "code",
   "execution_count": 27,
   "id": "3c85c8cf",
   "metadata": {},
   "outputs": [
    {
     "data": {
      "text/plain": [
       "0.8651293361344408"
      ]
     },
     "execution_count": 27,
     "metadata": {},
     "output_type": "execute_result"
    }
   ],
   "source": [
    "ridge_reg.score(test_X, test_y)"
   ]
  },
  {
   "cell_type": "code",
   "execution_count": 28,
   "id": "d24daf70",
   "metadata": {},
   "outputs": [
    {
     "name": "stdout",
     "output_type": "stream",
     "text": [
      "MSE 12.191698490856195\n"
     ]
    }
   ],
   "source": [
    "print(\"MSE\", mean_squared_error(test_y, pred_ridge_y))"
   ]
  },
  {
   "cell_type": "markdown",
   "id": "d47078e6",
   "metadata": {},
   "source": [
    "**5-fold cross validation based on mean squared error (MSE)**"
   ]
  },
  {
   "cell_type": "code",
   "execution_count": 29,
   "id": "6a923692",
   "metadata": {},
   "outputs": [],
   "source": [
    "cv = RepeatedKFold(n_splits=5, n_repeats=1, random_state=1)\n",
    "scores = cross_val_score(ridge_reg, X, y, scoring='neg_mean_squared_error', cv=cv, n_jobs=-1)"
   ]
  },
  {
   "cell_type": "code",
   "execution_count": 30,
   "id": "bcee68f6",
   "metadata": {},
   "outputs": [
    {
     "name": "stdout",
     "output_type": "stream",
     "text": [
      "[13.51010438  9.40918598 11.72885574  8.3552932   9.32791736]\n",
      "Mean MSE: 10.466\n"
     ]
    }
   ],
   "source": [
    "scores = np.absolute(scores)\n",
    "print(scores)\n",
    "print('Mean MSE: %.3f' % (np.mean(scores)))"
   ]
  },
  {
   "cell_type": "markdown",
   "id": "13a4689a",
   "metadata": {},
   "source": [
    "***\n",
    "### Elastic Net Regression\n",
    "***"
   ]
  },
  {
   "cell_type": "code",
   "execution_count": 31,
   "id": "9f6f5e96",
   "metadata": {},
   "outputs": [
    {
     "data": {
      "text/plain": [
       "ElasticNet(alpha=0.1, max_iter=100, tol=0.1)"
      ]
     },
     "execution_count": 31,
     "metadata": {},
     "output_type": "execute_result"
    }
   ],
   "source": [
    "from sklearn.linear_model import ElasticNet\n",
    "\n",
    "elastic_reg = ElasticNet(alpha=0.1, max_iter=100, tol=0.1)\n",
    "elastic_reg.fit(train_X, train_y)"
   ]
  },
  {
   "cell_type": "code",
   "execution_count": 32,
   "id": "4da66736",
   "metadata": {},
   "outputs": [],
   "source": [
    "pred_elastic_y = elastic_reg.predict(test_X)"
   ]
  },
  {
   "cell_type": "markdown",
   "id": "58cf43e4",
   "metadata": {},
   "source": [
    "**Accuracy score and mean squared error (MSE)**"
   ]
  },
  {
   "cell_type": "code",
   "execution_count": 33,
   "id": "6533cc39",
   "metadata": {},
   "outputs": [
    {
     "data": {
      "text/plain": [
       "0.8170593174850932"
      ]
     },
     "execution_count": 33,
     "metadata": {},
     "output_type": "execute_result"
    }
   ],
   "source": [
    "elastic_reg.score(train_X, train_y)"
   ]
  },
  {
   "cell_type": "code",
   "execution_count": 34,
   "id": "d5f29f99",
   "metadata": {},
   "outputs": [
    {
     "data": {
      "text/plain": [
       "0.7897475170056485"
      ]
     },
     "execution_count": 34,
     "metadata": {},
     "output_type": "execute_result"
    }
   ],
   "source": [
    "elastic_reg.score(test_X, test_y)"
   ]
  },
  {
   "cell_type": "code",
   "execution_count": 35,
   "id": "f8ee364e",
   "metadata": {},
   "outputs": [
    {
     "name": "stdout",
     "output_type": "stream",
     "text": [
      "MSE 19.005874266150027\n"
     ]
    }
   ],
   "source": [
    "print(\"MSE\", mean_squared_error(test_y, pred_elastic_y))"
   ]
  },
  {
   "cell_type": "markdown",
   "id": "bb342629",
   "metadata": {},
   "source": [
    "**5-fold cross validation based on mean squared error (MSE)**"
   ]
  },
  {
   "cell_type": "code",
   "execution_count": 36,
   "id": "a5b6955e",
   "metadata": {},
   "outputs": [],
   "source": [
    "cv = RepeatedKFold(n_splits=5, n_repeats=1, random_state=1)\n",
    "scores = cross_val_score(elastic_reg, X, y, scoring='neg_mean_squared_error', cv=cv, n_jobs=-1)"
   ]
  },
  {
   "cell_type": "code",
   "execution_count": 37,
   "id": "19632416",
   "metadata": {},
   "outputs": [
    {
     "name": "stdout",
     "output_type": "stream",
     "text": [
      "[20.36707312 15.40995067 20.44575913 14.71116777 13.54677376]\n",
      "Mean MSE: 16.896\n"
     ]
    }
   ],
   "source": [
    "scores = np.absolute(scores)\n",
    "print(scores)\n",
    "print('Mean MSE: %.3f' % (np.mean(scores)))"
   ]
  }
 ],
 "metadata": {
  "kernelspec": {
   "display_name": "Python 3",
   "language": "python",
   "name": "python3"
  },
  "language_info": {
   "codemirror_mode": {
    "name": "ipython",
    "version": 3
   },
   "file_extension": ".py",
   "mimetype": "text/x-python",
   "name": "python",
   "nbconvert_exporter": "python",
   "pygments_lexer": "ipython3",
   "version": "3.8.8"
  }
 },
 "nbformat": 4,
 "nbformat_minor": 5
}
