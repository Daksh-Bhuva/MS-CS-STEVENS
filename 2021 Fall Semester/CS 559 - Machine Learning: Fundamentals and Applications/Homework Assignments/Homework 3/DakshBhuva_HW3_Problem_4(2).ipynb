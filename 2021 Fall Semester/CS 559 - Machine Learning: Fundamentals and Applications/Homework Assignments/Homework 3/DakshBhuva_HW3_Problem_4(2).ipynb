{
 "cells": [
  {
   "cell_type": "markdown",
   "id": "4f4b48ef",
   "metadata": {},
   "source": [
    "# Problem 4. K-nearest Neighbor Classification\n",
    "# Part II."
   ]
  },
  {
   "cell_type": "markdown",
   "id": "5fa1aab3",
   "metadata": {},
   "source": [
    "## Preparing the dataset"
   ]
  },
  {
   "cell_type": "markdown",
   "id": "f97faca0",
   "metadata": {},
   "source": [
    "### Importing Libraries"
   ]
  },
  {
   "cell_type": "code",
   "execution_count": 190,
   "id": "8bc5cc0d",
   "metadata": {},
   "outputs": [],
   "source": [
    "import pandas as pd"
   ]
  },
  {
   "cell_type": "markdown",
   "id": "9d928c2e",
   "metadata": {},
   "source": [
    "### Importing the training dataset"
   ]
  },
  {
   "cell_type": "code",
   "execution_count": 191,
   "id": "9546b377",
   "metadata": {},
   "outputs": [
    {
     "data": {
      "text/html": [
       "<div>\n",
       "<style scoped>\n",
       "    .dataframe tbody tr th:only-of-type {\n",
       "        vertical-align: middle;\n",
       "    }\n",
       "\n",
       "    .dataframe tbody tr th {\n",
       "        vertical-align: top;\n",
       "    }\n",
       "\n",
       "    .dataframe thead th {\n",
       "        text-align: right;\n",
       "    }\n",
       "</style>\n",
       "<table border=\"1\" class=\"dataframe\">\n",
       "  <thead>\n",
       "    <tr style=\"text-align: right;\">\n",
       "      <th></th>\n",
       "      <th>x</th>\n",
       "      <th>y</th>\n",
       "      <th>z</th>\n",
       "      <th>class</th>\n",
       "    </tr>\n",
       "  </thead>\n",
       "  <tbody>\n",
       "    <tr>\n",
       "      <th>0</th>\n",
       "      <td>8.599291</td>\n",
       "      <td>9.729418</td>\n",
       "      <td>6.432371</td>\n",
       "      <td>1</td>\n",
       "    </tr>\n",
       "    <tr>\n",
       "      <th>1</th>\n",
       "      <td>6.592955</td>\n",
       "      <td>0.082556</td>\n",
       "      <td>1.969544</td>\n",
       "      <td>1</td>\n",
       "    </tr>\n",
       "    <tr>\n",
       "      <th>2</th>\n",
       "      <td>5.596471</td>\n",
       "      <td>9.815682</td>\n",
       "      <td>0.027295</td>\n",
       "      <td>1</td>\n",
       "    </tr>\n",
       "    <tr>\n",
       "      <th>3</th>\n",
       "      <td>2.743639</td>\n",
       "      <td>8.783177</td>\n",
       "      <td>4.041946</td>\n",
       "      <td>0</td>\n",
       "    </tr>\n",
       "    <tr>\n",
       "      <th>4</th>\n",
       "      <td>4.458362</td>\n",
       "      <td>5.750222</td>\n",
       "      <td>0.099070</td>\n",
       "      <td>0</td>\n",
       "    </tr>\n",
       "    <tr>\n",
       "      <th>...</th>\n",
       "      <td>...</td>\n",
       "      <td>...</td>\n",
       "      <td>...</td>\n",
       "      <td>...</td>\n",
       "    </tr>\n",
       "    <tr>\n",
       "      <th>995</th>\n",
       "      <td>4.617314</td>\n",
       "      <td>7.700236</td>\n",
       "      <td>5.907128</td>\n",
       "      <td>0</td>\n",
       "    </tr>\n",
       "    <tr>\n",
       "      <th>996</th>\n",
       "      <td>5.453472</td>\n",
       "      <td>1.798360</td>\n",
       "      <td>1.992616</td>\n",
       "      <td>0</td>\n",
       "    </tr>\n",
       "    <tr>\n",
       "      <th>997</th>\n",
       "      <td>2.553853</td>\n",
       "      <td>8.122934</td>\n",
       "      <td>3.970146</td>\n",
       "      <td>0</td>\n",
       "    </tr>\n",
       "    <tr>\n",
       "      <th>998</th>\n",
       "      <td>3.210456</td>\n",
       "      <td>3.342092</td>\n",
       "      <td>7.831479</td>\n",
       "      <td>0</td>\n",
       "    </tr>\n",
       "    <tr>\n",
       "      <th>999</th>\n",
       "      <td>6.930237</td>\n",
       "      <td>2.742352</td>\n",
       "      <td>4.678527</td>\n",
       "      <td>1</td>\n",
       "    </tr>\n",
       "  </tbody>\n",
       "</table>\n",
       "<p>1000 rows × 4 columns</p>\n",
       "</div>"
      ],
      "text/plain": [
       "            x         y         z  class\n",
       "0    8.599291  9.729418  6.432371      1\n",
       "1    6.592955  0.082556  1.969544      1\n",
       "2    5.596471  9.815682  0.027295      1\n",
       "3    2.743639  8.783177  4.041946      0\n",
       "4    4.458362  5.750222  0.099070      0\n",
       "..        ...       ...       ...    ...\n",
       "995  4.617314  7.700236  5.907128      0\n",
       "996  5.453472  1.798360  1.992616      0\n",
       "997  2.553853  8.122934  3.970146      0\n",
       "998  3.210456  3.342092  7.831479      0\n",
       "999  6.930237  2.742352  4.678527      1\n",
       "\n",
       "[1000 rows x 4 columns]"
      ]
     },
     "execution_count": 191,
     "metadata": {},
     "output_type": "execute_result"
    }
   ],
   "source": [
    "training = pd.read_csv('/Users/dakshbhuva/Desktop/CS-559 ML/HW_3/train.csv')\n",
    "training"
   ]
  },
  {
   "cell_type": "code",
   "execution_count": 192,
   "id": "786e403c",
   "metadata": {},
   "outputs": [],
   "source": [
    "tr_values = training.values\n",
    "train_X, train_y = tr_values[:, :-1], tr_values[:, -1]"
   ]
  },
  {
   "cell_type": "markdown",
   "id": "ed95f215",
   "metadata": {},
   "source": [
    "### Importing the testing dataset"
   ]
  },
  {
   "cell_type": "code",
   "execution_count": 193,
   "id": "ddb5fce2",
   "metadata": {},
   "outputs": [
    {
     "data": {
      "text/html": [
       "<div>\n",
       "<style scoped>\n",
       "    .dataframe tbody tr th:only-of-type {\n",
       "        vertical-align: middle;\n",
       "    }\n",
       "\n",
       "    .dataframe tbody tr th {\n",
       "        vertical-align: top;\n",
       "    }\n",
       "\n",
       "    .dataframe thead th {\n",
       "        text-align: right;\n",
       "    }\n",
       "</style>\n",
       "<table border=\"1\" class=\"dataframe\">\n",
       "  <thead>\n",
       "    <tr style=\"text-align: right;\">\n",
       "      <th></th>\n",
       "      <th>ID</th>\n",
       "      <th>x</th>\n",
       "      <th>y</th>\n",
       "      <th>z</th>\n",
       "      <th>actual-class</th>\n",
       "    </tr>\n",
       "  </thead>\n",
       "  <tbody>\n",
       "    <tr>\n",
       "      <th>0</th>\n",
       "      <td>1</td>\n",
       "      <td>8.074807</td>\n",
       "      <td>5.988044</td>\n",
       "      <td>3.844979</td>\n",
       "      <td>1</td>\n",
       "    </tr>\n",
       "    <tr>\n",
       "      <th>1</th>\n",
       "      <td>2</td>\n",
       "      <td>4.952249</td>\n",
       "      <td>5.823205</td>\n",
       "      <td>1.612045</td>\n",
       "      <td>0</td>\n",
       "    </tr>\n",
       "    <tr>\n",
       "      <th>2</th>\n",
       "      <td>3</td>\n",
       "      <td>4.773178</td>\n",
       "      <td>0.078757</td>\n",
       "      <td>4.209442</td>\n",
       "      <td>0</td>\n",
       "    </tr>\n",
       "    <tr>\n",
       "      <th>3</th>\n",
       "      <td>4</td>\n",
       "      <td>9.845919</td>\n",
       "      <td>2.055448</td>\n",
       "      <td>3.525702</td>\n",
       "      <td>1</td>\n",
       "    </tr>\n",
       "    <tr>\n",
       "      <th>4</th>\n",
       "      <td>5</td>\n",
       "      <td>1.612492</td>\n",
       "      <td>1.320515</td>\n",
       "      <td>8.200455</td>\n",
       "      <td>0</td>\n",
       "    </tr>\n",
       "    <tr>\n",
       "      <th>5</th>\n",
       "      <td>6</td>\n",
       "      <td>7.987555</td>\n",
       "      <td>9.188111</td>\n",
       "      <td>7.222228</td>\n",
       "      <td>1</td>\n",
       "    </tr>\n",
       "    <tr>\n",
       "      <th>6</th>\n",
       "      <td>7</td>\n",
       "      <td>0.311558</td>\n",
       "      <td>3.974680</td>\n",
       "      <td>7.897371</td>\n",
       "      <td>0</td>\n",
       "    </tr>\n",
       "    <tr>\n",
       "      <th>7</th>\n",
       "      <td>8</td>\n",
       "      <td>1.219113</td>\n",
       "      <td>0.266045</td>\n",
       "      <td>2.741136</td>\n",
       "      <td>0</td>\n",
       "    </tr>\n",
       "    <tr>\n",
       "      <th>8</th>\n",
       "      <td>9</td>\n",
       "      <td>0.636340</td>\n",
       "      <td>1.831257</td>\n",
       "      <td>6.767459</td>\n",
       "      <td>0</td>\n",
       "    </tr>\n",
       "    <tr>\n",
       "      <th>9</th>\n",
       "      <td>10</td>\n",
       "      <td>0.890168</td>\n",
       "      <td>8.613714</td>\n",
       "      <td>2.884227</td>\n",
       "      <td>0</td>\n",
       "    </tr>\n",
       "    <tr>\n",
       "      <th>10</th>\n",
       "      <td>11</td>\n",
       "      <td>7.226514</td>\n",
       "      <td>9.852794</td>\n",
       "      <td>7.373560</td>\n",
       "      <td>1</td>\n",
       "    </tr>\n",
       "    <tr>\n",
       "      <th>11</th>\n",
       "      <td>12</td>\n",
       "      <td>2.709551</td>\n",
       "      <td>3.719191</td>\n",
       "      <td>5.743540</td>\n",
       "      <td>0</td>\n",
       "    </tr>\n",
       "    <tr>\n",
       "      <th>12</th>\n",
       "      <td>13</td>\n",
       "      <td>2.842368</td>\n",
       "      <td>1.902145</td>\n",
       "      <td>2.216614</td>\n",
       "      <td>0</td>\n",
       "    </tr>\n",
       "    <tr>\n",
       "      <th>13</th>\n",
       "      <td>14</td>\n",
       "      <td>3.610773</td>\n",
       "      <td>4.589548</td>\n",
       "      <td>7.714008</td>\n",
       "      <td>0</td>\n",
       "    </tr>\n",
       "    <tr>\n",
       "      <th>14</th>\n",
       "      <td>15</td>\n",
       "      <td>4.888200</td>\n",
       "      <td>6.720637</td>\n",
       "      <td>7.261562</td>\n",
       "      <td>0</td>\n",
       "    </tr>\n",
       "    <tr>\n",
       "      <th>15</th>\n",
       "      <td>16</td>\n",
       "      <td>8.857224</td>\n",
       "      <td>9.056900</td>\n",
       "      <td>8.862604</td>\n",
       "      <td>1</td>\n",
       "    </tr>\n",
       "    <tr>\n",
       "      <th>16</th>\n",
       "      <td>17</td>\n",
       "      <td>8.239402</td>\n",
       "      <td>9.347802</td>\n",
       "      <td>5.277351</td>\n",
       "      <td>1</td>\n",
       "    </tr>\n",
       "    <tr>\n",
       "      <th>17</th>\n",
       "      <td>18</td>\n",
       "      <td>3.219759</td>\n",
       "      <td>2.980960</td>\n",
       "      <td>6.646886</td>\n",
       "      <td>0</td>\n",
       "    </tr>\n",
       "    <tr>\n",
       "      <th>18</th>\n",
       "      <td>19</td>\n",
       "      <td>2.146974</td>\n",
       "      <td>5.328725</td>\n",
       "      <td>5.801703</td>\n",
       "      <td>0</td>\n",
       "    </tr>\n",
       "    <tr>\n",
       "      <th>19</th>\n",
       "      <td>20</td>\n",
       "      <td>1.156302</td>\n",
       "      <td>8.542813</td>\n",
       "      <td>1.859447</td>\n",
       "      <td>0</td>\n",
       "    </tr>\n",
       "  </tbody>\n",
       "</table>\n",
       "</div>"
      ],
      "text/plain": [
       "    ID         x         y         z  actual-class\n",
       "0    1  8.074807  5.988044  3.844979             1\n",
       "1    2  4.952249  5.823205  1.612045             0\n",
       "2    3  4.773178  0.078757  4.209442             0\n",
       "3    4  9.845919  2.055448  3.525702             1\n",
       "4    5  1.612492  1.320515  8.200455             0\n",
       "5    6  7.987555  9.188111  7.222228             1\n",
       "6    7  0.311558  3.974680  7.897371             0\n",
       "7    8  1.219113  0.266045  2.741136             0\n",
       "8    9  0.636340  1.831257  6.767459             0\n",
       "9   10  0.890168  8.613714  2.884227             0\n",
       "10  11  7.226514  9.852794  7.373560             1\n",
       "11  12  2.709551  3.719191  5.743540             0\n",
       "12  13  2.842368  1.902145  2.216614             0\n",
       "13  14  3.610773  4.589548  7.714008             0\n",
       "14  15  4.888200  6.720637  7.261562             0\n",
       "15  16  8.857224  9.056900  8.862604             1\n",
       "16  17  8.239402  9.347802  5.277351             1\n",
       "17  18  3.219759  2.980960  6.646886             0\n",
       "18  19  2.146974  5.328725  5.801703             0\n",
       "19  20  1.156302  8.542813  1.859447             0"
      ]
     },
     "execution_count": 193,
     "metadata": {},
     "output_type": "execute_result"
    }
   ],
   "source": [
    "testing = pd.read_csv('/Users/dakshbhuva/Desktop/CS-559 ML/HW_3/test.csv')\n",
    "testing"
   ]
  },
  {
   "cell_type": "markdown",
   "id": "c93f39bc",
   "metadata": {},
   "source": [
    "### Extracting the required columns from the testing dataset"
   ]
  },
  {
   "cell_type": "code",
   "execution_count": 194,
   "id": "4ddf9e42",
   "metadata": {},
   "outputs": [
    {
     "data": {
      "text/html": [
       "<div>\n",
       "<style scoped>\n",
       "    .dataframe tbody tr th:only-of-type {\n",
       "        vertical-align: middle;\n",
       "    }\n",
       "\n",
       "    .dataframe tbody tr th {\n",
       "        vertical-align: top;\n",
       "    }\n",
       "\n",
       "    .dataframe thead th {\n",
       "        text-align: right;\n",
       "    }\n",
       "</style>\n",
       "<table border=\"1\" class=\"dataframe\">\n",
       "  <thead>\n",
       "    <tr style=\"text-align: right;\">\n",
       "      <th></th>\n",
       "      <th>x</th>\n",
       "      <th>y</th>\n",
       "      <th>z</th>\n",
       "      <th>actual-class</th>\n",
       "    </tr>\n",
       "  </thead>\n",
       "  <tbody>\n",
       "    <tr>\n",
       "      <th>0</th>\n",
       "      <td>8.074807</td>\n",
       "      <td>5.988044</td>\n",
       "      <td>3.844979</td>\n",
       "      <td>1</td>\n",
       "    </tr>\n",
       "    <tr>\n",
       "      <th>1</th>\n",
       "      <td>4.952249</td>\n",
       "      <td>5.823205</td>\n",
       "      <td>1.612045</td>\n",
       "      <td>0</td>\n",
       "    </tr>\n",
       "    <tr>\n",
       "      <th>2</th>\n",
       "      <td>4.773178</td>\n",
       "      <td>0.078757</td>\n",
       "      <td>4.209442</td>\n",
       "      <td>0</td>\n",
       "    </tr>\n",
       "    <tr>\n",
       "      <th>3</th>\n",
       "      <td>9.845919</td>\n",
       "      <td>2.055448</td>\n",
       "      <td>3.525702</td>\n",
       "      <td>1</td>\n",
       "    </tr>\n",
       "    <tr>\n",
       "      <th>4</th>\n",
       "      <td>1.612492</td>\n",
       "      <td>1.320515</td>\n",
       "      <td>8.200455</td>\n",
       "      <td>0</td>\n",
       "    </tr>\n",
       "    <tr>\n",
       "      <th>5</th>\n",
       "      <td>7.987555</td>\n",
       "      <td>9.188111</td>\n",
       "      <td>7.222228</td>\n",
       "      <td>1</td>\n",
       "    </tr>\n",
       "    <tr>\n",
       "      <th>6</th>\n",
       "      <td>0.311558</td>\n",
       "      <td>3.974680</td>\n",
       "      <td>7.897371</td>\n",
       "      <td>0</td>\n",
       "    </tr>\n",
       "    <tr>\n",
       "      <th>7</th>\n",
       "      <td>1.219113</td>\n",
       "      <td>0.266045</td>\n",
       "      <td>2.741136</td>\n",
       "      <td>0</td>\n",
       "    </tr>\n",
       "    <tr>\n",
       "      <th>8</th>\n",
       "      <td>0.636340</td>\n",
       "      <td>1.831257</td>\n",
       "      <td>6.767459</td>\n",
       "      <td>0</td>\n",
       "    </tr>\n",
       "    <tr>\n",
       "      <th>9</th>\n",
       "      <td>0.890168</td>\n",
       "      <td>8.613714</td>\n",
       "      <td>2.884227</td>\n",
       "      <td>0</td>\n",
       "    </tr>\n",
       "    <tr>\n",
       "      <th>10</th>\n",
       "      <td>7.226514</td>\n",
       "      <td>9.852794</td>\n",
       "      <td>7.373560</td>\n",
       "      <td>1</td>\n",
       "    </tr>\n",
       "    <tr>\n",
       "      <th>11</th>\n",
       "      <td>2.709551</td>\n",
       "      <td>3.719191</td>\n",
       "      <td>5.743540</td>\n",
       "      <td>0</td>\n",
       "    </tr>\n",
       "    <tr>\n",
       "      <th>12</th>\n",
       "      <td>2.842368</td>\n",
       "      <td>1.902145</td>\n",
       "      <td>2.216614</td>\n",
       "      <td>0</td>\n",
       "    </tr>\n",
       "    <tr>\n",
       "      <th>13</th>\n",
       "      <td>3.610773</td>\n",
       "      <td>4.589548</td>\n",
       "      <td>7.714008</td>\n",
       "      <td>0</td>\n",
       "    </tr>\n",
       "    <tr>\n",
       "      <th>14</th>\n",
       "      <td>4.888200</td>\n",
       "      <td>6.720637</td>\n",
       "      <td>7.261562</td>\n",
       "      <td>0</td>\n",
       "    </tr>\n",
       "    <tr>\n",
       "      <th>15</th>\n",
       "      <td>8.857224</td>\n",
       "      <td>9.056900</td>\n",
       "      <td>8.862604</td>\n",
       "      <td>1</td>\n",
       "    </tr>\n",
       "    <tr>\n",
       "      <th>16</th>\n",
       "      <td>8.239402</td>\n",
       "      <td>9.347802</td>\n",
       "      <td>5.277351</td>\n",
       "      <td>1</td>\n",
       "    </tr>\n",
       "    <tr>\n",
       "      <th>17</th>\n",
       "      <td>3.219759</td>\n",
       "      <td>2.980960</td>\n",
       "      <td>6.646886</td>\n",
       "      <td>0</td>\n",
       "    </tr>\n",
       "    <tr>\n",
       "      <th>18</th>\n",
       "      <td>2.146974</td>\n",
       "      <td>5.328725</td>\n",
       "      <td>5.801703</td>\n",
       "      <td>0</td>\n",
       "    </tr>\n",
       "    <tr>\n",
       "      <th>19</th>\n",
       "      <td>1.156302</td>\n",
       "      <td>8.542813</td>\n",
       "      <td>1.859447</td>\n",
       "      <td>0</td>\n",
       "    </tr>\n",
       "  </tbody>\n",
       "</table>\n",
       "</div>"
      ],
      "text/plain": [
       "           x         y         z  actual-class\n",
       "0   8.074807  5.988044  3.844979             1\n",
       "1   4.952249  5.823205  1.612045             0\n",
       "2   4.773178  0.078757  4.209442             0\n",
       "3   9.845919  2.055448  3.525702             1\n",
       "4   1.612492  1.320515  8.200455             0\n",
       "5   7.987555  9.188111  7.222228             1\n",
       "6   0.311558  3.974680  7.897371             0\n",
       "7   1.219113  0.266045  2.741136             0\n",
       "8   0.636340  1.831257  6.767459             0\n",
       "9   0.890168  8.613714  2.884227             0\n",
       "10  7.226514  9.852794  7.373560             1\n",
       "11  2.709551  3.719191  5.743540             0\n",
       "12  2.842368  1.902145  2.216614             0\n",
       "13  3.610773  4.589548  7.714008             0\n",
       "14  4.888200  6.720637  7.261562             0\n",
       "15  8.857224  9.056900  8.862604             1\n",
       "16  8.239402  9.347802  5.277351             1\n",
       "17  3.219759  2.980960  6.646886             0\n",
       "18  2.146974  5.328725  5.801703             0\n",
       "19  1.156302  8.542813  1.859447             0"
      ]
     },
     "execution_count": 194,
     "metadata": {},
     "output_type": "execute_result"
    }
   ],
   "source": [
    "cols_to_use = ['x','y','z','actual-class',]\n",
    "testing = testing[cols_to_use]\n",
    "testing"
   ]
  },
  {
   "cell_type": "code",
   "execution_count": 195,
   "id": "213fccc5",
   "metadata": {},
   "outputs": [],
   "source": [
    "te_values = testing.values\n",
    "test_X, test_y = te_values[:, :-1], te_values[:, -1]"
   ]
  },
  {
   "cell_type": "markdown",
   "id": "3923b662",
   "metadata": {},
   "source": [
    "***\n",
    "### K-Nearest Neighbors Algorithm\n",
    "***"
   ]
  },
  {
   "cell_type": "markdown",
   "id": "715cb35b",
   "metadata": {},
   "source": [
    "### Problem 4_Part II\n",
    "### (1)"
   ]
  },
  {
   "cell_type": "markdown",
   "id": "b16e905a",
   "metadata": {},
   "source": [
    "### k = 3"
   ]
  },
  {
   "cell_type": "code",
   "execution_count": 196,
   "id": "9d477271",
   "metadata": {},
   "outputs": [],
   "source": [
    "# Importing KNN from sklearn packages\n",
    "from sklearn.neighbors import KNeighborsClassifier\n",
    "\n",
    "# Implenting KNN\n",
    "model = KNeighborsClassifier(n_neighbors=3)"
   ]
  },
  {
   "cell_type": "code",
   "execution_count": 197,
   "id": "36cf8145",
   "metadata": {},
   "outputs": [
    {
     "data": {
      "text/plain": [
       "KNeighborsClassifier(n_neighbors=3)"
      ]
     },
     "execution_count": 197,
     "metadata": {},
     "output_type": "execute_result"
    }
   ],
   "source": [
    "# Training the KNN model\n",
    "model.fit(train_X, train_y)"
   ]
  },
  {
   "cell_type": "code",
   "execution_count": 198,
   "id": "583167dc",
   "metadata": {},
   "outputs": [
    {
     "name": "stdout",
     "output_type": "stream",
     "text": [
      "[1. 0. 0. 1. 0. 1. 0. 0. 0. 0. 1. 0. 0. 0. 1. 1. 1. 0. 0. 0.]\n"
     ]
    }
   ],
   "source": [
    "#Predicting the Output\n",
    "predicted = model.predict(test_X)\n",
    "print(predicted)"
   ]
  },
  {
   "cell_type": "markdown",
   "id": "7f9e758b",
   "metadata": {},
   "source": [
    "### Probability Estimates for the final decision"
   ]
  },
  {
   "cell_type": "code",
   "execution_count": 199,
   "id": "0ef62194",
   "metadata": {},
   "outputs": [
    {
     "name": "stdout",
     "output_type": "stream",
     "text": [
      "Probability Estimates:\n",
      " [[0.         1.        ]\n",
      " [0.66666667 0.33333333]\n",
      " [1.         0.        ]\n",
      " [0.         1.        ]\n",
      " [1.         0.        ]\n",
      " [0.         1.        ]\n",
      " [1.         0.        ]\n",
      " [1.         0.        ]\n",
      " [1.         0.        ]\n",
      " [1.         0.        ]\n",
      " [0.         1.        ]\n",
      " [1.         0.        ]\n",
      " [1.         0.        ]\n",
      " [1.         0.        ]\n",
      " [0.33333333 0.66666667]\n",
      " [0.         1.        ]\n",
      " [0.         1.        ]\n",
      " [1.         0.        ]\n",
      " [1.         0.        ]\n",
      " [1.         0.        ]]\n"
     ]
    }
   ],
   "source": [
    "P_E = model.predict_proba(test_X)\n",
    "print(\"Probability Estimates:\\n\", P_E)"
   ]
  },
  {
   "cell_type": "markdown",
   "id": "372cac69",
   "metadata": {},
   "source": [
    "### Problem 4_Part II\n",
    "### (2)"
   ]
  },
  {
   "cell_type": "markdown",
   "id": "c030f04d",
   "metadata": {},
   "source": [
    "### Euclidean distance weighted 3-nearest neighbors"
   ]
  },
  {
   "cell_type": "code",
   "execution_count": 200,
   "id": "f1656c70",
   "metadata": {},
   "outputs": [],
   "source": [
    "# Importing KNN from sklearn packages\n",
    "from sklearn.neighbors import KNeighborsClassifier\n",
    "\n",
    "# Implenting Euclidean distance weighted KNN\n",
    "weighted_knn = KNeighborsClassifier(n_neighbors=3, weights='distance', p=2, metric='euclidean')"
   ]
  },
  {
   "cell_type": "code",
   "execution_count": 201,
   "id": "3dea4328",
   "metadata": {},
   "outputs": [
    {
     "data": {
      "text/plain": [
       "KNeighborsClassifier(metric='euclidean', n_neighbors=3, weights='distance')"
      ]
     },
     "execution_count": 201,
     "metadata": {},
     "output_type": "execute_result"
    }
   ],
   "source": [
    "# Training the KNN model\n",
    "weighted_knn.fit(train_X, train_y)"
   ]
  },
  {
   "cell_type": "code",
   "execution_count": 202,
   "id": "aef2c209",
   "metadata": {},
   "outputs": [
    {
     "name": "stdout",
     "output_type": "stream",
     "text": [
      "[1. 0. 0. 1. 0. 1. 0. 0. 0. 0. 1. 0. 0. 0. 1. 1. 1. 0. 0. 0.]\n"
     ]
    }
   ],
   "source": [
    "#Predicting the Output\n",
    "predict = weighted_knn.predict(test_X)\n",
    "print(predict)"
   ]
  },
  {
   "cell_type": "markdown",
   "id": "b6cbba34",
   "metadata": {},
   "source": [
    "### =>Hence, the predicted label for each point remains the same as that in question (1) "
   ]
  },
  {
   "cell_type": "markdown",
   "id": "6eaec8b7",
   "metadata": {},
   "source": [
    "### Problem 4_Part II\n",
    "### (3) "
   ]
  },
  {
   "cell_type": "markdown",
   "id": "ab0d95fd",
   "metadata": {},
   "source": [
    "### Confusion Matrix for (1)"
   ]
  },
  {
   "cell_type": "code",
   "execution_count": 203,
   "id": "fb8539d0",
   "metadata": {},
   "outputs": [
    {
     "name": "stdout",
     "output_type": "stream",
     "text": [
      "Confusion Matrix:\n",
      " [[13  1]\n",
      " [ 0  6]]\n"
     ]
    }
   ],
   "source": [
    "from sklearn.metrics import confusion_matrix\n",
    "\n",
    "print(\"Confusion Matrix:\\n\",confusion_matrix(test_y, predicted))"
   ]
  },
  {
   "cell_type": "markdown",
   "id": "a322e8f1",
   "metadata": {},
   "source": [
    "### Confusion Matrix for (2)"
   ]
  },
  {
   "cell_type": "code",
   "execution_count": 204,
   "id": "7929a390",
   "metadata": {},
   "outputs": [
    {
     "name": "stdout",
     "output_type": "stream",
     "text": [
      "Confusion Matrix:\n",
      " [[13  1]\n",
      " [ 0  6]]\n"
     ]
    }
   ],
   "source": [
    "from sklearn.metrics import confusion_matrix\n",
    "\n",
    "print(\"Confusion Matrix:\\n\",confusion_matrix(test_y, predict))"
   ]
  },
  {
   "cell_type": "markdown",
   "id": "af2cc3dd",
   "metadata": {},
   "source": [
    "### Accuracy for (1)"
   ]
  },
  {
   "cell_type": "code",
   "execution_count": 205,
   "id": "291df898",
   "metadata": {},
   "outputs": [
    {
     "name": "stdout",
     "output_type": "stream",
     "text": [
      "Accuracy: 0.95\n"
     ]
    }
   ],
   "source": [
    "#Importing sklearn package for calculating the accuracy\n",
    "from sklearn.metrics import accuracy_score\n",
    "\n",
    "print(\"Accuracy:\",accuracy_score(test_y, predicted))"
   ]
  },
  {
   "cell_type": "markdown",
   "id": "f9cdcb76",
   "metadata": {},
   "source": [
    "### Accuracy for (2)"
   ]
  },
  {
   "cell_type": "code",
   "execution_count": 206,
   "id": "f4accb4b",
   "metadata": {},
   "outputs": [
    {
     "name": "stdout",
     "output_type": "stream",
     "text": [
      "Accuracy: 0.95\n"
     ]
    }
   ],
   "source": [
    "#Importing sklearn package for calculating the accuracy\n",
    "from sklearn.metrics import accuracy_score\n",
    "\n",
    "print(\"Accuracy:\",accuracy_score(test_y, predict))"
   ]
  },
  {
   "cell_type": "markdown",
   "id": "dd0806e1",
   "metadata": {},
   "source": [
    "### Precision for (1)"
   ]
  },
  {
   "cell_type": "code",
   "execution_count": 207,
   "id": "0f909304",
   "metadata": {},
   "outputs": [
    {
     "name": "stdout",
     "output_type": "stream",
     "text": [
      "Precision: 0.8571428571428571\n"
     ]
    }
   ],
   "source": [
    "from sklearn.metrics import precision_score\n",
    "\n",
    "print(\"Precision:\",precision_score(test_y, predicted))"
   ]
  },
  {
   "cell_type": "markdown",
   "id": "b7c85f43",
   "metadata": {},
   "source": [
    "### Precision for (2)"
   ]
  },
  {
   "cell_type": "code",
   "execution_count": 208,
   "id": "0e487005",
   "metadata": {},
   "outputs": [
    {
     "name": "stdout",
     "output_type": "stream",
     "text": [
      "Precision: 0.8571428571428571\n"
     ]
    }
   ],
   "source": [
    "from sklearn.metrics import precision_score\n",
    "\n",
    "print(\"Precision:\",precision_score(test_y, predict))"
   ]
  },
  {
   "cell_type": "markdown",
   "id": "0fc30535",
   "metadata": {},
   "source": [
    "### F-Measure for (1)"
   ]
  },
  {
   "cell_type": "code",
   "execution_count": 209,
   "id": "fcfdbbd0",
   "metadata": {},
   "outputs": [
    {
     "name": "stdout",
     "output_type": "stream",
     "text": [
      "F-Measure: 0.923076923076923\n"
     ]
    }
   ],
   "source": [
    "from sklearn.metrics import f1_score\n",
    "\n",
    "print(\"F-Measure:\",f1_score(test_y, predicted))"
   ]
  },
  {
   "cell_type": "markdown",
   "id": "36e54a9d",
   "metadata": {},
   "source": [
    "### F-measure for (2)"
   ]
  },
  {
   "cell_type": "code",
   "execution_count": 210,
   "id": "9ead2a35",
   "metadata": {},
   "outputs": [
    {
     "name": "stdout",
     "output_type": "stream",
     "text": [
      "F-Measure: 0.923076923076923\n"
     ]
    }
   ],
   "source": [
    "from sklearn.metrics import f1_score\n",
    "\n",
    "print(\"F-Measure:\",f1_score(test_y, predict))"
   ]
  },
  {
   "cell_type": "markdown",
   "id": "fa3b0115",
   "metadata": {},
   "source": [
    "### => From above, it is clear that the results of (1) and (2) are exactly the same and hence both the methods have the same performance"
   ]
  }
 ],
 "metadata": {
  "kernelspec": {
   "display_name": "Python 3",
   "language": "python",
   "name": "python3"
  },
  "language_info": {
   "codemirror_mode": {
    "name": "ipython",
    "version": 3
   },
   "file_extension": ".py",
   "mimetype": "text/x-python",
   "name": "python",
   "nbconvert_exporter": "python",
   "pygments_lexer": "ipython3",
   "version": "3.8.8"
  }
 },
 "nbformat": 4,
 "nbformat_minor": 5
}
