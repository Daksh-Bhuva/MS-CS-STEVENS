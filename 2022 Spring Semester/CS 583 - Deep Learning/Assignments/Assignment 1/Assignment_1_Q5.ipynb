{
  "cells": [
    {
      "cell_type": "markdown",
      "metadata": {
        "id": "t-8l-y1atoOa"
      },
      "source": [
        "# HW1: Logistic Regression.\n",
        "\n",
        "### Name: [Daksh Bhuva]\n"
      ]
    },
    {
      "cell_type": "markdown",
      "metadata": {
        "id": "HPOHxTzTtoOc"
      },
      "source": [
        "#### For this assignment, you will build 6 models. You need to train Logistic Regression/Regularized Logistic Regression each with Batch Gradient Descent, Stochastic Gradient Descent and Mini Batch Gradient Descent. Also you should plot their objective values versus epochs and compare their training and testing accuracies. You will need to tune the parameters a little bit to obtain reasonable results.\n",
        "\n",
        "#### You do not have to follow the following procedure. You may implement your own functions and methods, but you need to show your results and plots."
      ]
    },
    {
      "cell_type": "code",
      "execution_count": 26,
      "metadata": {
        "id": "qv8XuUJEtoOc"
      },
      "outputs": [],
      "source": [
        "# Load Packages\n",
        "\n",
        "import pandas as pd\n",
        "import numpy as np"
      ]
    },
    {
      "cell_type": "markdown",
      "metadata": {
        "id": "tpZrOLY6toOd"
      },
      "source": [
        "# 1. Data processing\n",
        "\n",
        "- Download the Breast Cancer dataset from canvas or from https://archive.ics.uci.edu/ml/datasets/breast+cancer+wisconsin+(diagnostic)\n",
        "- Load the data.\n",
        "- Preprocess the data."
      ]
    },
    {
      "cell_type": "markdown",
      "metadata": {
        "id": "ocexfjrrtoOd"
      },
      "source": [
        "## 1.1. Load the data"
      ]
    },
    {
      "cell_type": "code",
      "execution_count": 27,
      "metadata": {
        "colab": {
          "base_uri": "https://localhost:8080/",
          "height": 287
        },
        "id": "kPesOAxZtoOd",
        "outputId": "f2732705-5e8b-4895-a6ca-440e95a764cd"
      },
      "outputs": [
        {
          "output_type": "execute_result",
          "data": {
            "text/html": [
              "\n",
              "  <div id=\"df-60739370-0217-4daf-b427-724ccf837cb3\">\n",
              "    <div class=\"colab-df-container\">\n",
              "      <div>\n",
              "<style scoped>\n",
              "    .dataframe tbody tr th:only-of-type {\n",
              "        vertical-align: middle;\n",
              "    }\n",
              "\n",
              "    .dataframe tbody tr th {\n",
              "        vertical-align: top;\n",
              "    }\n",
              "\n",
              "    .dataframe thead th {\n",
              "        text-align: right;\n",
              "    }\n",
              "</style>\n",
              "<table border=\"1\" class=\"dataframe\">\n",
              "  <thead>\n",
              "    <tr style=\"text-align: right;\">\n",
              "      <th></th>\n",
              "      <th>id</th>\n",
              "      <th>diagnosis</th>\n",
              "      <th>radius_mean</th>\n",
              "      <th>texture_mean</th>\n",
              "      <th>perimeter_mean</th>\n",
              "      <th>area_mean</th>\n",
              "      <th>smoothness_mean</th>\n",
              "      <th>compactness_mean</th>\n",
              "      <th>concavity_mean</th>\n",
              "      <th>concave points_mean</th>\n",
              "      <th>symmetry_mean</th>\n",
              "      <th>fractal_dimension_mean</th>\n",
              "      <th>radius_se</th>\n",
              "      <th>texture_se</th>\n",
              "      <th>perimeter_se</th>\n",
              "      <th>area_se</th>\n",
              "      <th>smoothness_se</th>\n",
              "      <th>compactness_se</th>\n",
              "      <th>concavity_se</th>\n",
              "      <th>concave points_se</th>\n",
              "      <th>symmetry_se</th>\n",
              "      <th>fractal_dimension_se</th>\n",
              "      <th>radius_worst</th>\n",
              "      <th>texture_worst</th>\n",
              "      <th>perimeter_worst</th>\n",
              "      <th>area_worst</th>\n",
              "      <th>smoothness_worst</th>\n",
              "      <th>compactness_worst</th>\n",
              "      <th>concavity_worst</th>\n",
              "      <th>concave points_worst</th>\n",
              "      <th>symmetry_worst</th>\n",
              "      <th>fractal_dimension_worst</th>\n",
              "      <th>Unnamed: 32</th>\n",
              "    </tr>\n",
              "  </thead>\n",
              "  <tbody>\n",
              "    <tr>\n",
              "      <th>0</th>\n",
              "      <td>842302</td>\n",
              "      <td>M</td>\n",
              "      <td>17.99</td>\n",
              "      <td>10.38</td>\n",
              "      <td>122.80</td>\n",
              "      <td>1001.0</td>\n",
              "      <td>0.11840</td>\n",
              "      <td>0.27760</td>\n",
              "      <td>0.3001</td>\n",
              "      <td>0.14710</td>\n",
              "      <td>0.2419</td>\n",
              "      <td>0.07871</td>\n",
              "      <td>1.0950</td>\n",
              "      <td>0.9053</td>\n",
              "      <td>8.589</td>\n",
              "      <td>153.40</td>\n",
              "      <td>0.006399</td>\n",
              "      <td>0.04904</td>\n",
              "      <td>0.05373</td>\n",
              "      <td>0.01587</td>\n",
              "      <td>0.03003</td>\n",
              "      <td>0.006193</td>\n",
              "      <td>25.38</td>\n",
              "      <td>17.33</td>\n",
              "      <td>184.60</td>\n",
              "      <td>2019.0</td>\n",
              "      <td>0.1622</td>\n",
              "      <td>0.6656</td>\n",
              "      <td>0.7119</td>\n",
              "      <td>0.2654</td>\n",
              "      <td>0.4601</td>\n",
              "      <td>0.11890</td>\n",
              "      <td>NaN</td>\n",
              "    </tr>\n",
              "    <tr>\n",
              "      <th>1</th>\n",
              "      <td>842517</td>\n",
              "      <td>M</td>\n",
              "      <td>20.57</td>\n",
              "      <td>17.77</td>\n",
              "      <td>132.90</td>\n",
              "      <td>1326.0</td>\n",
              "      <td>0.08474</td>\n",
              "      <td>0.07864</td>\n",
              "      <td>0.0869</td>\n",
              "      <td>0.07017</td>\n",
              "      <td>0.1812</td>\n",
              "      <td>0.05667</td>\n",
              "      <td>0.5435</td>\n",
              "      <td>0.7339</td>\n",
              "      <td>3.398</td>\n",
              "      <td>74.08</td>\n",
              "      <td>0.005225</td>\n",
              "      <td>0.01308</td>\n",
              "      <td>0.01860</td>\n",
              "      <td>0.01340</td>\n",
              "      <td>0.01389</td>\n",
              "      <td>0.003532</td>\n",
              "      <td>24.99</td>\n",
              "      <td>23.41</td>\n",
              "      <td>158.80</td>\n",
              "      <td>1956.0</td>\n",
              "      <td>0.1238</td>\n",
              "      <td>0.1866</td>\n",
              "      <td>0.2416</td>\n",
              "      <td>0.1860</td>\n",
              "      <td>0.2750</td>\n",
              "      <td>0.08902</td>\n",
              "      <td>NaN</td>\n",
              "    </tr>\n",
              "    <tr>\n",
              "      <th>2</th>\n",
              "      <td>84300903</td>\n",
              "      <td>M</td>\n",
              "      <td>19.69</td>\n",
              "      <td>21.25</td>\n",
              "      <td>130.00</td>\n",
              "      <td>1203.0</td>\n",
              "      <td>0.10960</td>\n",
              "      <td>0.15990</td>\n",
              "      <td>0.1974</td>\n",
              "      <td>0.12790</td>\n",
              "      <td>0.2069</td>\n",
              "      <td>0.05999</td>\n",
              "      <td>0.7456</td>\n",
              "      <td>0.7869</td>\n",
              "      <td>4.585</td>\n",
              "      <td>94.03</td>\n",
              "      <td>0.006150</td>\n",
              "      <td>0.04006</td>\n",
              "      <td>0.03832</td>\n",
              "      <td>0.02058</td>\n",
              "      <td>0.02250</td>\n",
              "      <td>0.004571</td>\n",
              "      <td>23.57</td>\n",
              "      <td>25.53</td>\n",
              "      <td>152.50</td>\n",
              "      <td>1709.0</td>\n",
              "      <td>0.1444</td>\n",
              "      <td>0.4245</td>\n",
              "      <td>0.4504</td>\n",
              "      <td>0.2430</td>\n",
              "      <td>0.3613</td>\n",
              "      <td>0.08758</td>\n",
              "      <td>NaN</td>\n",
              "    </tr>\n",
              "    <tr>\n",
              "      <th>3</th>\n",
              "      <td>84348301</td>\n",
              "      <td>M</td>\n",
              "      <td>11.42</td>\n",
              "      <td>20.38</td>\n",
              "      <td>77.58</td>\n",
              "      <td>386.1</td>\n",
              "      <td>0.14250</td>\n",
              "      <td>0.28390</td>\n",
              "      <td>0.2414</td>\n",
              "      <td>0.10520</td>\n",
              "      <td>0.2597</td>\n",
              "      <td>0.09744</td>\n",
              "      <td>0.4956</td>\n",
              "      <td>1.1560</td>\n",
              "      <td>3.445</td>\n",
              "      <td>27.23</td>\n",
              "      <td>0.009110</td>\n",
              "      <td>0.07458</td>\n",
              "      <td>0.05661</td>\n",
              "      <td>0.01867</td>\n",
              "      <td>0.05963</td>\n",
              "      <td>0.009208</td>\n",
              "      <td>14.91</td>\n",
              "      <td>26.50</td>\n",
              "      <td>98.87</td>\n",
              "      <td>567.7</td>\n",
              "      <td>0.2098</td>\n",
              "      <td>0.8663</td>\n",
              "      <td>0.6869</td>\n",
              "      <td>0.2575</td>\n",
              "      <td>0.6638</td>\n",
              "      <td>0.17300</td>\n",
              "      <td>NaN</td>\n",
              "    </tr>\n",
              "    <tr>\n",
              "      <th>4</th>\n",
              "      <td>84358402</td>\n",
              "      <td>M</td>\n",
              "      <td>20.29</td>\n",
              "      <td>14.34</td>\n",
              "      <td>135.10</td>\n",
              "      <td>1297.0</td>\n",
              "      <td>0.10030</td>\n",
              "      <td>0.13280</td>\n",
              "      <td>0.1980</td>\n",
              "      <td>0.10430</td>\n",
              "      <td>0.1809</td>\n",
              "      <td>0.05883</td>\n",
              "      <td>0.7572</td>\n",
              "      <td>0.7813</td>\n",
              "      <td>5.438</td>\n",
              "      <td>94.44</td>\n",
              "      <td>0.011490</td>\n",
              "      <td>0.02461</td>\n",
              "      <td>0.05688</td>\n",
              "      <td>0.01885</td>\n",
              "      <td>0.01756</td>\n",
              "      <td>0.005115</td>\n",
              "      <td>22.54</td>\n",
              "      <td>16.67</td>\n",
              "      <td>152.20</td>\n",
              "      <td>1575.0</td>\n",
              "      <td>0.1374</td>\n",
              "      <td>0.2050</td>\n",
              "      <td>0.4000</td>\n",
              "      <td>0.1625</td>\n",
              "      <td>0.2364</td>\n",
              "      <td>0.07678</td>\n",
              "      <td>NaN</td>\n",
              "    </tr>\n",
              "  </tbody>\n",
              "</table>\n",
              "</div>\n",
              "      <button class=\"colab-df-convert\" onclick=\"convertToInteractive('df-60739370-0217-4daf-b427-724ccf837cb3')\"\n",
              "              title=\"Convert this dataframe to an interactive table.\"\n",
              "              style=\"display:none;\">\n",
              "        \n",
              "  <svg xmlns=\"http://www.w3.org/2000/svg\" height=\"24px\"viewBox=\"0 0 24 24\"\n",
              "       width=\"24px\">\n",
              "    <path d=\"M0 0h24v24H0V0z\" fill=\"none\"/>\n",
              "    <path d=\"M18.56 5.44l.94 2.06.94-2.06 2.06-.94-2.06-.94-.94-2.06-.94 2.06-2.06.94zm-11 1L8.5 8.5l.94-2.06 2.06-.94-2.06-.94L8.5 2.5l-.94 2.06-2.06.94zm10 10l.94 2.06.94-2.06 2.06-.94-2.06-.94-.94-2.06-.94 2.06-2.06.94z\"/><path d=\"M17.41 7.96l-1.37-1.37c-.4-.4-.92-.59-1.43-.59-.52 0-1.04.2-1.43.59L10.3 9.45l-7.72 7.72c-.78.78-.78 2.05 0 2.83L4 21.41c.39.39.9.59 1.41.59.51 0 1.02-.2 1.41-.59l7.78-7.78 2.81-2.81c.8-.78.8-2.07 0-2.86zM5.41 20L4 18.59l7.72-7.72 1.47 1.35L5.41 20z\"/>\n",
              "  </svg>\n",
              "      </button>\n",
              "      \n",
              "  <style>\n",
              "    .colab-df-container {\n",
              "      display:flex;\n",
              "      flex-wrap:wrap;\n",
              "      gap: 12px;\n",
              "    }\n",
              "\n",
              "    .colab-df-convert {\n",
              "      background-color: #E8F0FE;\n",
              "      border: none;\n",
              "      border-radius: 50%;\n",
              "      cursor: pointer;\n",
              "      display: none;\n",
              "      fill: #1967D2;\n",
              "      height: 32px;\n",
              "      padding: 0 0 0 0;\n",
              "      width: 32px;\n",
              "    }\n",
              "\n",
              "    .colab-df-convert:hover {\n",
              "      background-color: #E2EBFA;\n",
              "      box-shadow: 0px 1px 2px rgba(60, 64, 67, 0.3), 0px 1px 3px 1px rgba(60, 64, 67, 0.15);\n",
              "      fill: #174EA6;\n",
              "    }\n",
              "\n",
              "    [theme=dark] .colab-df-convert {\n",
              "      background-color: #3B4455;\n",
              "      fill: #D2E3FC;\n",
              "    }\n",
              "\n",
              "    [theme=dark] .colab-df-convert:hover {\n",
              "      background-color: #434B5C;\n",
              "      box-shadow: 0px 1px 3px 1px rgba(0, 0, 0, 0.15);\n",
              "      filter: drop-shadow(0px 1px 2px rgba(0, 0, 0, 0.3));\n",
              "      fill: #FFFFFF;\n",
              "    }\n",
              "  </style>\n",
              "\n",
              "      <script>\n",
              "        const buttonEl =\n",
              "          document.querySelector('#df-60739370-0217-4daf-b427-724ccf837cb3 button.colab-df-convert');\n",
              "        buttonEl.style.display =\n",
              "          google.colab.kernel.accessAllowed ? 'block' : 'none';\n",
              "\n",
              "        async function convertToInteractive(key) {\n",
              "          const element = document.querySelector('#df-60739370-0217-4daf-b427-724ccf837cb3');\n",
              "          const dataTable =\n",
              "            await google.colab.kernel.invokeFunction('convertToInteractive',\n",
              "                                                     [key], {});\n",
              "          if (!dataTable) return;\n",
              "\n",
              "          const docLinkHtml = 'Like what you see? Visit the ' +\n",
              "            '<a target=\"_blank\" href=https://colab.research.google.com/notebooks/data_table.ipynb>data table notebook</a>'\n",
              "            + ' to learn more about interactive tables.';\n",
              "          element.innerHTML = '';\n",
              "          dataTable['output_type'] = 'display_data';\n",
              "          await google.colab.output.renderOutput(dataTable, element);\n",
              "          const docLink = document.createElement('div');\n",
              "          docLink.innerHTML = docLinkHtml;\n",
              "          element.appendChild(docLink);\n",
              "        }\n",
              "      </script>\n",
              "    </div>\n",
              "  </div>\n",
              "  "
            ],
            "text/plain": [
              "         id diagnosis  ...  fractal_dimension_worst  Unnamed: 32\n",
              "0    842302         M  ...                  0.11890          NaN\n",
              "1    842517         M  ...                  0.08902          NaN\n",
              "2  84300903         M  ...                  0.08758          NaN\n",
              "3  84348301         M  ...                  0.17300          NaN\n",
              "4  84358402         M  ...                  0.07678          NaN\n",
              "\n",
              "[5 rows x 33 columns]"
            ]
          },
          "metadata": {},
          "execution_count": 27
        }
      ],
      "source": [
        "dataset = pd.read_csv('/content/data.csv')\n",
        "dataset.head()"
      ]
    },
    {
      "cell_type": "markdown",
      "metadata": {
        "id": "jCIji6zHtoOd"
      },
      "source": [
        "## 1.2 Examine and clean data"
      ]
    },
    {
      "cell_type": "code",
      "execution_count": 28,
      "metadata": {
        "id": "qknohm9WtoOe",
        "colab": {
          "base_uri": "https://localhost:8080/",
          "height": 287
        },
        "outputId": "1d4a6b71-70e3-44c7-e388-07393911abce"
      },
      "outputs": [
        {
          "output_type": "execute_result",
          "data": {
            "text/html": [
              "\n",
              "  <div id=\"df-b280a798-3061-4ce2-9b54-823ee8be70f0\">\n",
              "    <div class=\"colab-df-container\">\n",
              "      <div>\n",
              "<style scoped>\n",
              "    .dataframe tbody tr th:only-of-type {\n",
              "        vertical-align: middle;\n",
              "    }\n",
              "\n",
              "    .dataframe tbody tr th {\n",
              "        vertical-align: top;\n",
              "    }\n",
              "\n",
              "    .dataframe thead th {\n",
              "        text-align: right;\n",
              "    }\n",
              "</style>\n",
              "<table border=\"1\" class=\"dataframe\">\n",
              "  <thead>\n",
              "    <tr style=\"text-align: right;\">\n",
              "      <th></th>\n",
              "      <th>diagnosis</th>\n",
              "      <th>radius_mean</th>\n",
              "      <th>texture_mean</th>\n",
              "      <th>perimeter_mean</th>\n",
              "      <th>area_mean</th>\n",
              "      <th>smoothness_mean</th>\n",
              "      <th>compactness_mean</th>\n",
              "      <th>concavity_mean</th>\n",
              "      <th>concave points_mean</th>\n",
              "      <th>symmetry_mean</th>\n",
              "      <th>fractal_dimension_mean</th>\n",
              "      <th>radius_se</th>\n",
              "      <th>texture_se</th>\n",
              "      <th>perimeter_se</th>\n",
              "      <th>area_se</th>\n",
              "      <th>smoothness_se</th>\n",
              "      <th>compactness_se</th>\n",
              "      <th>concavity_se</th>\n",
              "      <th>concave points_se</th>\n",
              "      <th>symmetry_se</th>\n",
              "      <th>fractal_dimension_se</th>\n",
              "      <th>radius_worst</th>\n",
              "      <th>texture_worst</th>\n",
              "      <th>perimeter_worst</th>\n",
              "      <th>area_worst</th>\n",
              "      <th>smoothness_worst</th>\n",
              "      <th>compactness_worst</th>\n",
              "      <th>concavity_worst</th>\n",
              "      <th>concave points_worst</th>\n",
              "      <th>symmetry_worst</th>\n",
              "      <th>fractal_dimension_worst</th>\n",
              "    </tr>\n",
              "  </thead>\n",
              "  <tbody>\n",
              "    <tr>\n",
              "      <th>0</th>\n",
              "      <td>-1</td>\n",
              "      <td>17.99</td>\n",
              "      <td>10.38</td>\n",
              "      <td>122.80</td>\n",
              "      <td>1001.0</td>\n",
              "      <td>0.11840</td>\n",
              "      <td>0.27760</td>\n",
              "      <td>0.3001</td>\n",
              "      <td>0.14710</td>\n",
              "      <td>0.2419</td>\n",
              "      <td>0.07871</td>\n",
              "      <td>1.0950</td>\n",
              "      <td>0.9053</td>\n",
              "      <td>8.589</td>\n",
              "      <td>153.40</td>\n",
              "      <td>0.006399</td>\n",
              "      <td>0.04904</td>\n",
              "      <td>0.05373</td>\n",
              "      <td>0.01587</td>\n",
              "      <td>0.03003</td>\n",
              "      <td>0.006193</td>\n",
              "      <td>25.38</td>\n",
              "      <td>17.33</td>\n",
              "      <td>184.60</td>\n",
              "      <td>2019.0</td>\n",
              "      <td>0.1622</td>\n",
              "      <td>0.6656</td>\n",
              "      <td>0.7119</td>\n",
              "      <td>0.2654</td>\n",
              "      <td>0.4601</td>\n",
              "      <td>0.11890</td>\n",
              "    </tr>\n",
              "    <tr>\n",
              "      <th>1</th>\n",
              "      <td>-1</td>\n",
              "      <td>20.57</td>\n",
              "      <td>17.77</td>\n",
              "      <td>132.90</td>\n",
              "      <td>1326.0</td>\n",
              "      <td>0.08474</td>\n",
              "      <td>0.07864</td>\n",
              "      <td>0.0869</td>\n",
              "      <td>0.07017</td>\n",
              "      <td>0.1812</td>\n",
              "      <td>0.05667</td>\n",
              "      <td>0.5435</td>\n",
              "      <td>0.7339</td>\n",
              "      <td>3.398</td>\n",
              "      <td>74.08</td>\n",
              "      <td>0.005225</td>\n",
              "      <td>0.01308</td>\n",
              "      <td>0.01860</td>\n",
              "      <td>0.01340</td>\n",
              "      <td>0.01389</td>\n",
              "      <td>0.003532</td>\n",
              "      <td>24.99</td>\n",
              "      <td>23.41</td>\n",
              "      <td>158.80</td>\n",
              "      <td>1956.0</td>\n",
              "      <td>0.1238</td>\n",
              "      <td>0.1866</td>\n",
              "      <td>0.2416</td>\n",
              "      <td>0.1860</td>\n",
              "      <td>0.2750</td>\n",
              "      <td>0.08902</td>\n",
              "    </tr>\n",
              "    <tr>\n",
              "      <th>2</th>\n",
              "      <td>-1</td>\n",
              "      <td>19.69</td>\n",
              "      <td>21.25</td>\n",
              "      <td>130.00</td>\n",
              "      <td>1203.0</td>\n",
              "      <td>0.10960</td>\n",
              "      <td>0.15990</td>\n",
              "      <td>0.1974</td>\n",
              "      <td>0.12790</td>\n",
              "      <td>0.2069</td>\n",
              "      <td>0.05999</td>\n",
              "      <td>0.7456</td>\n",
              "      <td>0.7869</td>\n",
              "      <td>4.585</td>\n",
              "      <td>94.03</td>\n",
              "      <td>0.006150</td>\n",
              "      <td>0.04006</td>\n",
              "      <td>0.03832</td>\n",
              "      <td>0.02058</td>\n",
              "      <td>0.02250</td>\n",
              "      <td>0.004571</td>\n",
              "      <td>23.57</td>\n",
              "      <td>25.53</td>\n",
              "      <td>152.50</td>\n",
              "      <td>1709.0</td>\n",
              "      <td>0.1444</td>\n",
              "      <td>0.4245</td>\n",
              "      <td>0.4504</td>\n",
              "      <td>0.2430</td>\n",
              "      <td>0.3613</td>\n",
              "      <td>0.08758</td>\n",
              "    </tr>\n",
              "    <tr>\n",
              "      <th>3</th>\n",
              "      <td>-1</td>\n",
              "      <td>11.42</td>\n",
              "      <td>20.38</td>\n",
              "      <td>77.58</td>\n",
              "      <td>386.1</td>\n",
              "      <td>0.14250</td>\n",
              "      <td>0.28390</td>\n",
              "      <td>0.2414</td>\n",
              "      <td>0.10520</td>\n",
              "      <td>0.2597</td>\n",
              "      <td>0.09744</td>\n",
              "      <td>0.4956</td>\n",
              "      <td>1.1560</td>\n",
              "      <td>3.445</td>\n",
              "      <td>27.23</td>\n",
              "      <td>0.009110</td>\n",
              "      <td>0.07458</td>\n",
              "      <td>0.05661</td>\n",
              "      <td>0.01867</td>\n",
              "      <td>0.05963</td>\n",
              "      <td>0.009208</td>\n",
              "      <td>14.91</td>\n",
              "      <td>26.50</td>\n",
              "      <td>98.87</td>\n",
              "      <td>567.7</td>\n",
              "      <td>0.2098</td>\n",
              "      <td>0.8663</td>\n",
              "      <td>0.6869</td>\n",
              "      <td>0.2575</td>\n",
              "      <td>0.6638</td>\n",
              "      <td>0.17300</td>\n",
              "    </tr>\n",
              "    <tr>\n",
              "      <th>4</th>\n",
              "      <td>-1</td>\n",
              "      <td>20.29</td>\n",
              "      <td>14.34</td>\n",
              "      <td>135.10</td>\n",
              "      <td>1297.0</td>\n",
              "      <td>0.10030</td>\n",
              "      <td>0.13280</td>\n",
              "      <td>0.1980</td>\n",
              "      <td>0.10430</td>\n",
              "      <td>0.1809</td>\n",
              "      <td>0.05883</td>\n",
              "      <td>0.7572</td>\n",
              "      <td>0.7813</td>\n",
              "      <td>5.438</td>\n",
              "      <td>94.44</td>\n",
              "      <td>0.011490</td>\n",
              "      <td>0.02461</td>\n",
              "      <td>0.05688</td>\n",
              "      <td>0.01885</td>\n",
              "      <td>0.01756</td>\n",
              "      <td>0.005115</td>\n",
              "      <td>22.54</td>\n",
              "      <td>16.67</td>\n",
              "      <td>152.20</td>\n",
              "      <td>1575.0</td>\n",
              "      <td>0.1374</td>\n",
              "      <td>0.2050</td>\n",
              "      <td>0.4000</td>\n",
              "      <td>0.1625</td>\n",
              "      <td>0.2364</td>\n",
              "      <td>0.07678</td>\n",
              "    </tr>\n",
              "  </tbody>\n",
              "</table>\n",
              "</div>\n",
              "      <button class=\"colab-df-convert\" onclick=\"convertToInteractive('df-b280a798-3061-4ce2-9b54-823ee8be70f0')\"\n",
              "              title=\"Convert this dataframe to an interactive table.\"\n",
              "              style=\"display:none;\">\n",
              "        \n",
              "  <svg xmlns=\"http://www.w3.org/2000/svg\" height=\"24px\"viewBox=\"0 0 24 24\"\n",
              "       width=\"24px\">\n",
              "    <path d=\"M0 0h24v24H0V0z\" fill=\"none\"/>\n",
              "    <path d=\"M18.56 5.44l.94 2.06.94-2.06 2.06-.94-2.06-.94-.94-2.06-.94 2.06-2.06.94zm-11 1L8.5 8.5l.94-2.06 2.06-.94-2.06-.94L8.5 2.5l-.94 2.06-2.06.94zm10 10l.94 2.06.94-2.06 2.06-.94-2.06-.94-.94-2.06-.94 2.06-2.06.94z\"/><path d=\"M17.41 7.96l-1.37-1.37c-.4-.4-.92-.59-1.43-.59-.52 0-1.04.2-1.43.59L10.3 9.45l-7.72 7.72c-.78.78-.78 2.05 0 2.83L4 21.41c.39.39.9.59 1.41.59.51 0 1.02-.2 1.41-.59l7.78-7.78 2.81-2.81c.8-.78.8-2.07 0-2.86zM5.41 20L4 18.59l7.72-7.72 1.47 1.35L5.41 20z\"/>\n",
              "  </svg>\n",
              "      </button>\n",
              "      \n",
              "  <style>\n",
              "    .colab-df-container {\n",
              "      display:flex;\n",
              "      flex-wrap:wrap;\n",
              "      gap: 12px;\n",
              "    }\n",
              "\n",
              "    .colab-df-convert {\n",
              "      background-color: #E8F0FE;\n",
              "      border: none;\n",
              "      border-radius: 50%;\n",
              "      cursor: pointer;\n",
              "      display: none;\n",
              "      fill: #1967D2;\n",
              "      height: 32px;\n",
              "      padding: 0 0 0 0;\n",
              "      width: 32px;\n",
              "    }\n",
              "\n",
              "    .colab-df-convert:hover {\n",
              "      background-color: #E2EBFA;\n",
              "      box-shadow: 0px 1px 2px rgba(60, 64, 67, 0.3), 0px 1px 3px 1px rgba(60, 64, 67, 0.15);\n",
              "      fill: #174EA6;\n",
              "    }\n",
              "\n",
              "    [theme=dark] .colab-df-convert {\n",
              "      background-color: #3B4455;\n",
              "      fill: #D2E3FC;\n",
              "    }\n",
              "\n",
              "    [theme=dark] .colab-df-convert:hover {\n",
              "      background-color: #434B5C;\n",
              "      box-shadow: 0px 1px 3px 1px rgba(0, 0, 0, 0.15);\n",
              "      filter: drop-shadow(0px 1px 2px rgba(0, 0, 0, 0.3));\n",
              "      fill: #FFFFFF;\n",
              "    }\n",
              "  </style>\n",
              "\n",
              "      <script>\n",
              "        const buttonEl =\n",
              "          document.querySelector('#df-b280a798-3061-4ce2-9b54-823ee8be70f0 button.colab-df-convert');\n",
              "        buttonEl.style.display =\n",
              "          google.colab.kernel.accessAllowed ? 'block' : 'none';\n",
              "\n",
              "        async function convertToInteractive(key) {\n",
              "          const element = document.querySelector('#df-b280a798-3061-4ce2-9b54-823ee8be70f0');\n",
              "          const dataTable =\n",
              "            await google.colab.kernel.invokeFunction('convertToInteractive',\n",
              "                                                     [key], {});\n",
              "          if (!dataTable) return;\n",
              "\n",
              "          const docLinkHtml = 'Like what you see? Visit the ' +\n",
              "            '<a target=\"_blank\" href=https://colab.research.google.com/notebooks/data_table.ipynb>data table notebook</a>'\n",
              "            + ' to learn more about interactive tables.';\n",
              "          element.innerHTML = '';\n",
              "          dataTable['output_type'] = 'display_data';\n",
              "          await google.colab.output.renderOutput(dataTable, element);\n",
              "          const docLink = document.createElement('div');\n",
              "          docLink.innerHTML = docLinkHtml;\n",
              "          element.appendChild(docLink);\n",
              "        }\n",
              "      </script>\n",
              "    </div>\n",
              "  </div>\n",
              "  "
            ],
            "text/plain": [
              "   diagnosis  radius_mean  ...  symmetry_worst  fractal_dimension_worst\n",
              "0         -1        17.99  ...          0.4601                  0.11890\n",
              "1         -1        20.57  ...          0.2750                  0.08902\n",
              "2         -1        19.69  ...          0.3613                  0.08758\n",
              "3         -1        11.42  ...          0.6638                  0.17300\n",
              "4         -1        20.29  ...          0.2364                  0.07678\n",
              "\n",
              "[5 rows x 31 columns]"
            ]
          },
          "metadata": {},
          "execution_count": 28
        }
      ],
      "source": [
        "# Some columns may not be useful for the model (For example, the first column contains ID number which may be irrelavant). \n",
        "# You need to get rid of the ID number feature.\n",
        "# Also you should transform target labels in the second column from 'B' and 'M' to 1 and -1.\n",
        "\n",
        "dataset.drop(dataset.columns[len(dataset.columns)-1], axis=1, inplace=True)\n",
        "dataset.drop(dataset.columns[0], axis=1, inplace=True)\n",
        "dataset.diagnosis = dataset.diagnosis.map({\"B\": 1, \"M\": -1})\n",
        "dataset.head()"
      ]
    },
    {
      "cell_type": "markdown",
      "metadata": {
        "id": "eKAQ0J_StoOe"
      },
      "source": [
        "## 1.3. Partition to training and testing sets"
      ]
    },
    {
      "cell_type": "code",
      "source": [
        "# y is the Target attribute 'diagnosis' and X is rest of the attributes\n",
        "\n",
        "dvalues = dataset.values\n",
        "X, y = dvalues[:, 1:], dvalues[:, 0:1]"
      ],
      "metadata": {
        "id": "Yf7sIs8AzUvZ"
      },
      "execution_count": 29,
      "outputs": []
    },
    {
      "cell_type": "code",
      "execution_count": 30,
      "metadata": {
        "id": "FZ75fikytoOe"
      },
      "outputs": [],
      "source": [
        "# You can partition using 80% training data and 20% testing data. It is a commonly used ratio in machinel learning.\n",
        "\n",
        "from sklearn.model_selection import train_test_split\n",
        "x_train, x_test, y_train, y_test = train_test_split(X, y, test_size = 0.2, random_state=0)"
      ]
    },
    {
      "cell_type": "markdown",
      "metadata": {
        "id": "OH5hX6oStoOf"
      },
      "source": [
        "## 1.4. Feature scaling"
      ]
    },
    {
      "cell_type": "markdown",
      "metadata": {
        "id": "pAvvzeoxtoOf"
      },
      "source": [
        "Use the standardization to trainsform both training and test features"
      ]
    },
    {
      "cell_type": "code",
      "execution_count": 31,
      "metadata": {
        "colab": {
          "base_uri": "https://localhost:8080/"
        },
        "id": "Oo7WXTVJtoOf",
        "outputId": "8638133a-6427-4bb2-f48e-2d69bc06ab67"
      },
      "outputs": [
        {
          "output_type": "stream",
          "name": "stdout",
          "text": [
            "test mean = \n",
            "[ 0.02090745  0.16431943  0.03098111  0.01492717 -0.01921133  0.10117201\n",
            "  0.08443932  0.02966041  0.04062134  0.09494587  0.04653776  0.06428674\n",
            "  0.10007498  0.00538732  0.06601984  0.11839521  0.0676146   0.1268942\n",
            "  0.01037956  0.16193656  0.01337734  0.1134187   0.03390329 -0.00517026\n",
            " -0.02001553  0.07842781  0.11756424  0.01212816 -0.02700714  0.12744666]\n",
            "test std = \n",
            "[0.98484027 1.15221324 0.99783436 0.91061412 1.0932457  1.2099472\n",
            " 1.1161288  1.0269985  1.00338544 1.16387855 0.86929628 1.0858163\n",
            " 0.95737985 0.73797557 1.25342805 1.10484161 0.84117872 1.20913453\n",
            " 1.04276269 1.05856313 0.94112163 1.03290181 0.96071251 0.84629366\n",
            " 1.04566915 1.12995399 1.20449902 1.03206998 0.90827971 1.06240744]\n"
          ]
        }
      ],
      "source": [
        "# Standardization\n",
        "import numpy\n",
        "\n",
        "# calculate mu and sig using the training set\n",
        "d = x_train.shape[1]\n",
        "mu = numpy.mean(x_train, axis=0).reshape(1, d)\n",
        "sig = numpy.std(x_train, axis=0).reshape(1, d)\n",
        "\n",
        "# transform the training features\n",
        "x_train = (x_train - mu) / (sig + 1E-6)\n",
        "\n",
        "# transform the test features\n",
        "x_test = (x_test - mu) / (sig + 1E-6)\n",
        "\n",
        "print('test mean = ')\n",
        "print(numpy.mean(x_test, axis=0))\n",
        "\n",
        "print('test std = ')\n",
        "print(numpy.std(x_test, axis=0))"
      ]
    },
    {
      "cell_type": "markdown",
      "metadata": {
        "id": "-oqPtf0ttoOf"
      },
      "source": [
        "# 2.  Logistic Regression Model\n",
        "\n",
        "The objective function is $Q (w; X, y) = \\frac{1}{n} \\sum_{i=1}^n \\log \\Big( 1 + \\exp \\big( - y_i x_i^T w \\big) \\Big) + \\frac{\\lambda}{2} \\| w \\|_2^2 $.\n",
        "\n",
        "When $\\lambda = 0$, the model is a regular logistric regression and when $\\lambda > 0$, it essentially becomes a regularized logistric regression."
      ]
    },
    {
      "cell_type": "code",
      "execution_count": 32,
      "metadata": {
        "id": "IVyr570qtoOg"
      },
      "outputs": [],
      "source": [
        "# Calculate the objective function value, or loss\n",
        "# Inputs:\n",
        "#     w: weight: d-by-1 matrix\n",
        "#     x: data: n-by-d matrix\n",
        "#     y: label: n-by-1 matrix\n",
        "#     lam: regularization parameter: scalar\n",
        "# Return:\n",
        "#     objective function value, or loss (scalar)\n",
        "\n",
        "def objective(w, x, y, lam):\n",
        "    expTerm = np.exp((-(np.dot(np.multiply(y, x), w))))\n",
        "    logTerm = np.log(1 + expTerm)\n",
        "\n",
        "    return np.mean(logTerm) + (lam/2 * np.sum(w*w))\n",
        "    pass"
      ]
    },
    {
      "cell_type": "markdown",
      "metadata": {
        "id": "0FWtKaAKtoOg"
      },
      "source": [
        "# 3. Numerical optimization"
      ]
    },
    {
      "cell_type": "markdown",
      "metadata": {
        "id": "V6OW58rdtoOg"
      },
      "source": [
        "## 3.1. Gradient descent\n"
      ]
    },
    {
      "cell_type": "markdown",
      "metadata": {
        "id": "Bc_MHHojtoOg"
      },
      "source": [
        "The gradient at $w$ for regularized logistic regression is  $g = - \\frac{1}{n} \\sum_{i=1}^n \\frac{y_i x_i }{1 + \\exp ( y_i x_i^T w)} + \\lambda w$"
      ]
    },
    {
      "cell_type": "code",
      "execution_count": 33,
      "metadata": {
        "id": "BqdeMvvUtoOg"
      },
      "outputs": [],
      "source": [
        "# Calculate the gradient\n",
        "# Inputs:\n",
        "#     w: weight: d-by-1 matrix\n",
        "#     x: data: n-by-d matrix\n",
        "#     y: label: n-by-1 matrix\n",
        "#     lam: regularization parameter: scalar\n",
        "# Return:\n",
        "#     g: gradient: d-by-1 matrix\n",
        "\n",
        "def gradient(w, x, y, lam):\n",
        "    n, d = x.shape\n",
        "    numerator = np.multiply(y, x)\n",
        "    denominator = 1 + np.exp(((np.dot(np.multiply(y, x), w))))\n",
        "    meanTerm = np.divide(numerator, denominator)\n",
        "\n",
        "    return -np.mean(meanTerm, axis=0).reshape(d, 1) + lam*w \n",
        "    pass"
      ]
    },
    {
      "cell_type": "code",
      "execution_count": 34,
      "metadata": {
        "id": "z5ciUYzatoOg"
      },
      "outputs": [],
      "source": [
        "# Gradient descent for solving logistic regression\n",
        "# You will need to do iterative process (loops) to obtain optimal weights in this function\n",
        "\n",
        "# Inputs:\n",
        "#     x: data: n-by-d matrix\n",
        "#     y: label: n-by-1 matrix\n",
        "#     lam: scalar, the regularization parameter\n",
        "#     learning_rate: scalar\n",
        "#     w: weights: d-by-1 matrix, initialization of w\n",
        "#     max_epoch: integer, the maximal epochs\n",
        "# Return:\n",
        "#     w: weights: d-by-1 matrix, the solution\n",
        "#     objvals: a record of each epoch's objective value\n",
        "\n",
        "def gradient_descent(x, y, lam, learning_rate, w, max_epoch=100):\n",
        "    n, d = x.shape\n",
        "    objvals = numpy.zeros(max_epoch)\n",
        "    \n",
        "    for i in range(max_epoch):\n",
        "        objval = objective(w, x, y, lam)\n",
        "        objvals[i] = objval\n",
        "        print('Objective value at ' + str(i+1) + ' is ' + str(objval))\n",
        "        gradientTerm = gradient(w, x, y, lam)\n",
        "        w = w - learning_rate * gradientTerm\n",
        "    \n",
        "    return w, objvals\n",
        "    pass"
      ]
    },
    {
      "cell_type": "markdown",
      "metadata": {
        "id": "UGrFhd-NtoOg"
      },
      "source": [
        "Use gradient_descent function to obtain your optimal weights and a list of objective values over each epoch."
      ]
    },
    {
      "cell_type": "code",
      "execution_count": 64,
      "metadata": {
        "id": "W7qg1_w-toOh",
        "colab": {
          "base_uri": "https://localhost:8080/"
        },
        "outputId": "ae29e596-ebc0-4b6b-a7a0-53cc6807f0a9"
      },
      "outputs": [
        {
          "output_type": "stream",
          "name": "stdout",
          "text": [
            "Objective value at 1 is 0.6931471805599453\n",
            "Objective value at 2 is 0.1736337296064684\n",
            "Objective value at 3 is 0.13863877872989974\n",
            "Objective value at 4 is 0.12288413006561809\n",
            "Objective value at 5 is 0.11576613492616913\n",
            "Objective value at 6 is 0.11099019308816198\n",
            "Objective value at 7 is 0.10717885662856941\n",
            "Objective value at 8 is 0.10396949092070193\n",
            "Objective value at 9 is 0.10119870557399414\n",
            "Objective value at 10 is 0.09876897867939638\n",
            "Objective value at 11 is 0.09661369678769466\n",
            "Objective value at 12 is 0.09468412359097389\n",
            "Objective value at 13 is 0.09294316237442035\n",
            "Objective value at 14 is 0.09136183064631986\n",
            "Objective value at 15 is 0.08991704767563728\n",
            "Objective value at 16 is 0.08859015119945056\n",
            "Objective value at 17 is 0.08736585870901725\n",
            "Objective value at 18 is 0.08623151738983048\n",
            "Objective value at 19 is 0.08517654982524114\n",
            "Objective value at 20 is 0.08419203673857761\n",
            "Objective value at 21 is 0.08327039802143471\n",
            "Objective value at 22 is 0.08240514564272644\n",
            "Objective value at 23 is 0.08159068999114516\n",
            "Objective value at 24 is 0.08082218649967549\n",
            "Objective value at 25 is 0.08009541301570064\n",
            "Objective value at 26 is 0.07940667089937643\n",
            "Objective value at 27 is 0.07875270461947759\n",
            "Objective value at 28 is 0.07813063590222333\n",
            "Objective value at 29 is 0.07753790942718333\n",
            "Objective value at 30 is 0.07697224775749245\n",
            "Objective value at 31 is 0.07643161370905327\n",
            "Objective value at 32 is 0.07591417875356758\n",
            "Objective value at 33 is 0.07541829634714227\n",
            "Objective value at 34 is 0.07494247930408528\n",
            "Objective value at 35 is 0.07448538051179412\n",
            "Objective value at 36 is 0.07404577642004123\n",
            "Objective value at 37 is 0.07362255284580577\n",
            "Objective value at 38 is 0.07321469272001259\n",
            "Objective value at 39 is 0.07282126547028489\n",
            "Objective value at 40 is 0.07244141778799985\n",
            "Objective value at 41 is 0.07207436557151471\n",
            "Objective value at 42 is 0.07171938687266587\n",
            "Objective value at 43 is 0.07137581570228162\n",
            "Objective value at 44 is 0.07104303657383451\n",
            "Objective value at 45 is 0.07072047968354749\n",
            "Objective value at 46 is 0.07040761664107927\n",
            "Objective value at 47 is 0.07010395667800033\n",
            "Objective value at 48 is 0.06980904327214489\n",
            "Objective value at 49 is 0.06952245113499397\n",
            "Objective value at 50 is 0.06924378351684055\n",
            "Objective value at 51 is 0.0689726697908693\n",
            "Objective value at 52 is 0.0687087632826653\n",
            "Objective value at 53 is 0.06845173931621928\n",
            "Objective value at 54 is 0.06820129345136096\n",
            "Objective value at 55 is 0.06795713989084202\n",
            "Objective value at 56 is 0.0677190100380999\n",
            "Objective value at 57 is 0.06748665118913857\n",
            "Objective value at 58 is 0.06725982534402884\n",
            "Objective value at 59 is 0.06703830812530863\n",
            "Objective value at 60 is 0.06682188779210005\n",
            "Objective value at 61 is 0.06661036434008735\n",
            "Objective value at 62 is 0.06640354867865406\n",
            "Objective value at 63 is 0.06620126187747809\n",
            "Objective value at 64 is 0.06600333447575849\n",
            "Objective value at 65 is 0.06580960584800918\n",
            "Objective value at 66 is 0.06561992362102323\n",
            "Objective value at 67 is 0.06543414313719645\n",
            "Objective value at 68 is 0.06525212695991378\n",
            "Objective value at 69 is 0.06507374441715513\n",
            "Objective value at 70 is 0.06489887117987654\n",
            "Objective value at 71 is 0.06472738887207616\n",
            "Objective value at 72 is 0.06455918470976725\n",
            "Objective value at 73 is 0.06439415116635731\n",
            "Objective value at 74 is 0.06423218566217935\n",
            "Objective value at 75 is 0.06407319027614\n",
            "Objective value at 76 is 0.06391707147764517\n",
            "Objective value at 77 is 0.06376373987713738\n",
            "Objective value at 78 is 0.06361310999373587\n",
            "Objective value at 79 is 0.06346510003860935\n",
            "Objective value at 80 is 0.06331963171283633\n",
            "Objective value at 81 is 0.06317663001862125\n",
            "Objective value at 82 is 0.0630360230828342\n",
            "Objective value at 83 is 0.06289774199193376\n",
            "Objective value at 84 is 0.06276172063741477\n",
            "Objective value at 85 is 0.06262789557099521\n",
            "Objective value at 86 is 0.06249620586882527\n",
            "Objective value at 87 is 0.062366593004060285\n",
            "Objective value at 88 is 0.062239000727194876\n",
            "Objective value at 89 is 0.0621133749536052\n",
            "Objective value at 90 is 0.06198966365779098\n",
            "Objective value at 91 is 0.06186781677385\n",
            "Objective value at 92 is 0.06174778610175523\n",
            "Objective value at 93 is 0.06162952521903818\n",
            "Objective value at 94 is 0.061512989397513596\n",
            "Objective value at 95 is 0.06139813552470812\n",
            "Objective value at 96 is 0.0612849220296821\n",
            "Objective value at 97 is 0.061173308812956365\n",
            "Objective value at 98 is 0.0610632571802783\n",
            "Objective value at 99 is 0.06095472977998051\n",
            "Objective value at 100 is 0.06084769054370377\n"
          ]
        }
      ],
      "source": [
        "# Train logistic regression\n",
        "# You should get the optimal weights and a list of objective values by using gradient_descent function.\n",
        "\n",
        "lam = 0\n",
        "learning_rate = 1\n",
        "w = np.zeros((d, 1))\n",
        "\n",
        "w_gd, objvals_gd = gradient_descent(x_train, y_train, lam, learning_rate, w)"
      ]
    },
    {
      "cell_type": "code",
      "execution_count": 36,
      "metadata": {
        "id": "-Gp9oeB_toOh",
        "colab": {
          "base_uri": "https://localhost:8080/"
        },
        "outputId": "194bfaf3-1f35-45db-ebf2-8be0a0dfd18d"
      },
      "outputs": [
        {
          "output_type": "stream",
          "name": "stdout",
          "text": [
            "Objective value at 1 is 0.6931471805599453\n",
            "Objective value at 2 is 0.17373075003835395\n",
            "Objective value at 3 is 0.13874590240831533\n",
            "Objective value at 4 is 0.12300803297716084\n",
            "Objective value at 5 is 0.11590597229060243\n",
            "Objective value at 6 is 0.11114405534689033\n",
            "Objective value at 7 is 0.1073455650071604\n",
            "Objective value at 8 is 0.10414818231634433\n",
            "Objective value at 9 is 0.10138869528550187\n",
            "Objective value at 10 is 0.098969698632984\n",
            "Objective value at 11 is 0.09682466165724318\n",
            "Objective value at 12 is 0.09490491016451823\n",
            "Objective value at 13 is 0.09317339603865071\n",
            "Objective value at 14 is 0.09160117601453352\n",
            "Objective value at 15 is 0.09016520178393278\n",
            "Objective value at 16 is 0.08884683838130639\n",
            "Objective value at 17 is 0.08763082661748482\n",
            "Objective value at 18 is 0.08650453383526606\n",
            "Objective value at 19 is 0.08545740021181764\n",
            "Objective value at 20 is 0.08448052195268194\n",
            "Objective value at 21 is 0.08356633266906562\n",
            "Objective value at 22 is 0.08270835656172436\n",
            "Objective value at 23 is 0.0819010149834316\n",
            "Objective value at 24 is 0.08113947324208864\n",
            "Objective value at 25 is 0.0804195181175506\n",
            "Objective value at 26 is 0.0797374590817802\n",
            "Objective value at 27 is 0.07909004799668465\n",
            "Objective value at 28 is 0.07847441334903354\n",
            "Objective value at 29 is 0.0778880060195481\n",
            "Objective value at 30 is 0.07732855427571582\n",
            "Objective value at 31 is 0.07679402619484421\n",
            "Objective value at 32 is 0.07628259811365644\n",
            "Objective value at 33 is 0.0757926279973506\n",
            "Objective value at 34 is 0.07532263284869416\n",
            "Objective value at 35 is 0.07487126945383744\n",
            "Objective value at 36 is 0.07443731789879512\n",
            "Objective value at 37 is 0.07401966739827946\n",
            "Objective value at 38 is 0.07361730406369241\n",
            "Objective value at 39 is 0.07322930030475672\n",
            "Objective value at 40 is 0.07285480561339171\n",
            "Objective value at 41 is 0.0724930385219668\n",
            "Objective value at 42 is 0.072143279563264\n",
            "Objective value at 43 is 0.0718048650880834\n",
            "Objective value at 44 is 0.07147718181978374\n",
            "Objective value at 45 is 0.07115966204421587\n",
            "Objective value at 46 is 0.0708517793492974\n",
            "Objective value at 47 is 0.07055304484154769\n",
            "Objective value at 48 is 0.0702630037777602\n",
            "Objective value at 49 is 0.06998123255904957\n",
            "Objective value at 50 is 0.06970733604209407\n",
            "Objective value at 51 is 0.06944094512876808\n",
            "Objective value at 52 is 0.06918171460073362\n",
            "Objective value at 53 is 0.06892932117010583\n",
            "Objective value at 54 is 0.06868346172116638\n",
            "Objective value at 55 is 0.0684438517213838\n",
            "Objective value at 56 is 0.06821022378280486\n",
            "Objective value at 57 is 0.06798232635728214\n",
            "Objective value at 58 is 0.0677599225510672\n",
            "Objective value at 59 is 0.06754278904607275\n",
            "Objective value at 60 is 0.067330715116641\n",
            "Objective value at 61 is 0.06712350173198207\n",
            "Objective value at 62 is 0.066920960735596\n",
            "Objective value at 63 is 0.0667229140939937\n",
            "Objective value at 64 is 0.06652919320790278\n",
            "Objective value at 65 is 0.06633963827990645\n",
            "Objective value at 66 is 0.06615409773313002\n",
            "Objective value at 67 is 0.06597242767617341\n",
            "Objective value at 68 is 0.0657944914100026\n",
            "Objective value at 69 is 0.06562015897296444\n",
            "Objective value at 70 is 0.06544930672048832\n",
            "Objective value at 71 is 0.06528181693639107\n",
            "Objective value at 72 is 0.06511757747301318\n",
            "Objective value at 73 is 0.06495648141769135\n",
            "Objective value at 74 is 0.0647984267833182\n",
            "Objective value at 75 is 0.06464331622095892\n",
            "Objective value at 76 is 0.06449105675268933\n",
            "Objective value at 77 is 0.0643415595229942\n",
            "Objective value at 78 is 0.06419473956721959\n",
            "Objective value at 79 is 0.06405051559571306\n",
            "Objective value at 80 is 0.06390880979240993\n",
            "Objective value at 81 is 0.0637695476267355\n",
            "Objective value at 82 is 0.06363265767779511\n",
            "Objective value at 83 is 0.06349807146991286\n",
            "Objective value at 84 is 0.06336572331866333\n",
            "Objective value at 85 is 0.06323555018661277\n",
            "Objective value at 86 is 0.06310749154805434\n",
            "Objective value at 87 is 0.0629814892620811\n",
            "Objective value at 88 is 0.06285748745339563\n",
            "Objective value at 89 is 0.06273543240030455\n",
            "Objective value at 90 is 0.06261527242939131\n",
            "Objective value at 91 is 0.062496957816400855\n",
            "Objective value at 92 is 0.06238044069290791\n",
            "Objective value at 93 is 0.06226567495837325\n",
            "Objective value at 94 is 0.06215261619722441\n",
            "Objective value at 95 is 0.062041221600624384\n",
            "Objective value at 96 is 0.06193144989261794\n",
            "Objective value at 97 is 0.0618232612603692\n",
            "Objective value at 98 is 0.06171661728822443\n",
            "Objective value at 99 is 0.061611480895354946\n",
            "Objective value at 100 is 0.06150781627675221\n"
          ]
        }
      ],
      "source": [
        "# Train regularized logistic regression\n",
        "# You should get the optimal weights and a list of objective values by using gradient_descent function.\n",
        "\n",
        "lam = 0.0001\n",
        "learning_rate = 1\n",
        "w = np.zeros((d, 1))\n",
        "\n",
        "w_gd_regularized, objvals_gd_regularized = gradient_descent(x_train, y_train, lam, learning_rate, w)"
      ]
    },
    {
      "cell_type": "markdown",
      "metadata": {
        "id": "78sVFX-ItoOh"
      },
      "source": [
        "## 3.2. Stochastic gradient descent (SGD)\n",
        "\n",
        "Define new objective function $Q_i (w) = \\log \\Big( 1 + \\exp \\big( - y_i x_i^T w \\big) \\Big) + \\frac{\\lambda}{2} \\| w \\|_2^2 $. \n",
        "\n",
        "The stochastic gradient at $w$ is $g_i = \\frac{\\partial Q_i }{ \\partial w} = -\\frac{y_i x_i }{1 + \\exp ( y_i x_i^T w)} + \\lambda w$.\n",
        "\n",
        "You may need to implement a new function to calculate the new objective function and gradients."
      ]
    },
    {
      "cell_type": "code",
      "execution_count": 37,
      "metadata": {
        "id": "iiI0y-x8toOh"
      },
      "outputs": [],
      "source": [
        "# Calculate the objective Q_i and the gradient of Q_i\n",
        "# Inputs:\n",
        "#     w: weights: d-by-1 matrix\n",
        "#     xi: data: 1-by-d matrix\n",
        "#     yi: label: scalar\n",
        "#     lam: scalar, the regularization parameter\n",
        "# Return:\n",
        "#     obj: scalar, the objective Q_i\n",
        "#     g: d-by-1 matrix, gradient of Q_i\n",
        "\n",
        "def stochastic_objective_gradient(w, xi, yi, lam):\n",
        "    d = xi.shape[0]\n",
        "    expTerm = float(np.dot(yi * xi, w))\n",
        "    logTerm = np.log(1 + np.exp(-expTerm)) \n",
        "    obj = logTerm + lam/2 * np.sum(w*w) \n",
        "    \n",
        "    gTerm = -(yi * xi).T / (1 + np.exp(expTerm)) \n",
        "    g = gTerm + lam * w\n",
        "    \n",
        "    return obj, g\n",
        "    pass"
      ]
    },
    {
      "cell_type": "markdown",
      "metadata": {
        "id": "f2muy2gPtoOh"
      },
      "source": [
        "Hints:\n",
        "1. In every epoch, randomly permute the $n$ samples.\n",
        "2. Each epoch has $n$ iterations. In every iteration, use 1 sample, and compute the gradient and objective using the ``stochastic_objective_gradient`` function. In the next iteration, use the next sample, and so on."
      ]
    },
    {
      "cell_type": "code",
      "execution_count": 38,
      "metadata": {
        "id": "ovPRWupOtoOh"
      },
      "outputs": [],
      "source": [
        "# SGD for solving logistic regression\n",
        "# You will need to do iterative process (loops) to obtain optimal weights in this function\n",
        "\n",
        "# Inputs:\n",
        "#     x: data: n-by-d matrix\n",
        "#     y: label: n-by-1 matrix\n",
        "#     lam: scalar, the regularization parameter\n",
        "#     learning_rate: scalar\n",
        "#     w: weights: d-by-1 matrix, initialization of w\n",
        "#     max_epoch: integer, the maximal epochs\n",
        "# Return:\n",
        "#     \n",
        "#     w: weights: d-by-1 matrix, the solution\n",
        "#     objvals: a record of each epoch's objective value\n",
        "#     Record one objective value per epoch (not per iteration)\n",
        "\n",
        "def sgd(x, y, lam, learning_rate, w, max_epoch=100):\n",
        "    n, d = x.shape\n",
        "    objvals = np.zeros(max_epoch) \n",
        "    \n",
        "    for i in range(max_epoch):\n",
        "        \n",
        "        rand_indices = numpy.random.permutation(n)\n",
        "        x_rand = x[rand_indices, :]\n",
        "        y_rand = y[rand_indices, :]\n",
        "        objval = 0 \n",
        "        for j in range(n):\n",
        "            xi = x_rand[j, :].reshape((1,d))\n",
        "            yi = float(y_rand[j, :]) \n",
        "            obj, g = stochastic_objective_gradient(w, xi, yi, lam)\n",
        "            objval = objval + obj\n",
        "            w = w - learning_rate * g\n",
        "        \n",
        "        learning_rate = learning_rate * 0.9\n",
        "        objval = objval/n\n",
        "        objvals[i] = objval\n",
        "        print('Objective value at epoch ' + str(i+1) + ' is ' + str(objval))\n",
        "    \n",
        "    return w, objvals\n",
        "    pass"
      ]
    },
    {
      "cell_type": "markdown",
      "metadata": {
        "id": "vGmdeRGntoOh"
      },
      "source": [
        "Use sgd function to obtain your optimal weights and a list of objective values over each epoch."
      ]
    },
    {
      "cell_type": "code",
      "execution_count": 39,
      "metadata": {
        "id": "tSQp0SA4toOh",
        "colab": {
          "base_uri": "https://localhost:8080/"
        },
        "outputId": "4ef5a151-7cad-436a-9a7d-c3dbb47ec05a"
      },
      "outputs": [
        {
          "output_type": "stream",
          "name": "stdout",
          "text": [
            "Objective value at epoch 1 is 0.11324245139722891\n",
            "Objective value at epoch 2 is 0.0728534473423762\n",
            "Objective value at epoch 3 is 0.06490444631443364\n",
            "Objective value at epoch 4 is 0.06180933020744074\n",
            "Objective value at epoch 5 is 0.0594313690783196\n",
            "Objective value at epoch 6 is 0.05870820214340375\n",
            "Objective value at epoch 7 is 0.056890696846319755\n",
            "Objective value at epoch 8 is 0.0559987657844674\n",
            "Objective value at epoch 9 is 0.054949744140390985\n",
            "Objective value at epoch 10 is 0.05408081428929107\n",
            "Objective value at epoch 11 is 0.053689682653091236\n",
            "Objective value at epoch 12 is 0.05253419094947232\n",
            "Objective value at epoch 13 is 0.052895009813742976\n",
            "Objective value at epoch 14 is 0.05222493264001225\n",
            "Objective value at epoch 15 is 0.051716907479316225\n",
            "Objective value at epoch 16 is 0.05159276948588305\n",
            "Objective value at epoch 17 is 0.051264259893958546\n",
            "Objective value at epoch 18 is 0.050975339038356444\n",
            "Objective value at epoch 19 is 0.050723436325672396\n",
            "Objective value at epoch 20 is 0.050557848344156844\n",
            "Objective value at epoch 21 is 0.050348940848532614\n",
            "Objective value at epoch 22 is 0.050172560796212774\n",
            "Objective value at epoch 23 is 0.050050636164226114\n",
            "Objective value at epoch 24 is 0.04991145125166963\n",
            "Objective value at epoch 25 is 0.04978080887941429\n",
            "Objective value at epoch 26 is 0.04961980334568296\n",
            "Objective value at epoch 27 is 0.04960053712813817\n",
            "Objective value at epoch 28 is 0.049509112565590215\n",
            "Objective value at epoch 29 is 0.04943836257509097\n",
            "Objective value at epoch 30 is 0.0493738811310816\n",
            "Objective value at epoch 31 is 0.0493146153840366\n",
            "Objective value at epoch 32 is 0.049256737351053695\n",
            "Objective value at epoch 33 is 0.04920759694220117\n",
            "Objective value at epoch 34 is 0.04916098214690419\n",
            "Objective value at epoch 35 is 0.049120425096941825\n",
            "Objective value at epoch 36 is 0.04908700254586866\n",
            "Objective value at epoch 37 is 0.04905717278089189\n",
            "Objective value at epoch 38 is 0.04902731142836185\n",
            "Objective value at epoch 39 is 0.049000974104623646\n",
            "Objective value at epoch 40 is 0.048977455687923686\n",
            "Objective value at epoch 41 is 0.04895535509446358\n",
            "Objective value at epoch 42 is 0.04893656141648548\n",
            "Objective value at epoch 43 is 0.048919663439250916\n",
            "Objective value at epoch 44 is 0.048904546286431455\n",
            "Objective value at epoch 45 is 0.04889060281779213\n",
            "Objective value at epoch 46 is 0.04887815113619981\n",
            "Objective value at epoch 47 is 0.048866150847253896\n",
            "Objective value at epoch 48 is 0.04885672166861514\n",
            "Objective value at epoch 49 is 0.04884782562721349\n",
            "Objective value at epoch 50 is 0.04883909026515288\n",
            "Objective value at epoch 51 is 0.048832250114978486\n",
            "Objective value at epoch 52 is 0.048825658105367875\n",
            "Objective value at epoch 53 is 0.048819713590727114\n",
            "Objective value at epoch 54 is 0.048814357300647454\n",
            "Objective value at epoch 55 is 0.048809527706475606\n",
            "Objective value at epoch 56 is 0.04880516969983429\n",
            "Objective value at epoch 57 is 0.04880128870205413\n",
            "Objective value at epoch 58 is 0.04879778071106628\n",
            "Objective value at epoch 59 is 0.04879460785969338\n",
            "Objective value at epoch 60 is 0.0487917772526248\n",
            "Objective value at epoch 61 is 0.048789214662997536\n",
            "Objective value at epoch 62 is 0.04878690308275021\n",
            "Objective value at epoch 63 is 0.048784834282501084\n",
            "Objective value at epoch 64 is 0.048782973077184835\n",
            "Objective value at epoch 65 is 0.04878129441738828\n",
            "Objective value at epoch 66 is 0.048779780251333935\n",
            "Objective value at epoch 67 is 0.04877842487530942\n",
            "Objective value at epoch 68 is 0.04877720121340047\n",
            "Objective value at epoch 69 is 0.048776097859150144\n",
            "Objective value at epoch 70 is 0.048775108283393376\n",
            "Objective value at epoch 71 is 0.04877421474326032\n",
            "Objective value at epoch 72 is 0.04877341317732899\n",
            "Objective value at epoch 73 is 0.04877268988940189\n",
            "Objective value at epoch 74 is 0.048772041235771335\n",
            "Objective value at epoch 75 is 0.048771456010493784\n",
            "Objective value at epoch 76 is 0.04877092861715555\n",
            "Objective value at epoch 77 is 0.04877045528367403\n",
            "Objective value at epoch 78 is 0.048770028652991265\n",
            "Objective value at epoch 79 is 0.048769644821969174\n",
            "Objective value at epoch 80 is 0.04876929917320815\n",
            "Objective value at epoch 81 is 0.04876898822499929\n",
            "Objective value at epoch 82 is 0.04876870846790334\n",
            "Objective value at epoch 83 is 0.04876845665340985\n",
            "Objective value at epoch 84 is 0.04876822986590017\n",
            "Objective value at epoch 85 is 0.04876802585514101\n",
            "Objective value at epoch 86 is 0.04876784229054268\n",
            "Objective value at epoch 87 is 0.048767677065268994\n",
            "Objective value at epoch 88 is 0.04876752824388368\n",
            "Objective value at epoch 89 is 0.04876739449682911\n",
            "Objective value at epoch 90 is 0.048767274009551685\n",
            "Objective value at epoch 91 is 0.048767165621674116\n",
            "Objective value at epoch 92 is 0.04876706802970285\n",
            "Objective value at epoch 93 is 0.04876698023196771\n",
            "Objective value at epoch 94 is 0.048766901185233184\n",
            "Objective value at epoch 95 is 0.04876683006082056\n",
            "Objective value at epoch 96 is 0.04876676605014593\n",
            "Objective value at epoch 97 is 0.0487667084334206\n",
            "Objective value at epoch 98 is 0.04876665657661347\n",
            "Objective value at epoch 99 is 0.048766609909900574\n",
            "Objective value at epoch 100 is 0.04876656790689768\n"
          ]
        }
      ],
      "source": [
        "# Train logistic regression\n",
        "# You should get the optimal weights and a list of objective values by using gradient_descent function.\n",
        "\n",
        "lam = 0\n",
        "learning_rate = 0.1\n",
        "w = numpy.zeros((d,1))\n",
        "\n",
        "w_sgd, objvals_sgd = sgd(x_train, y_train, lam, learning_rate, w)"
      ]
    },
    {
      "cell_type": "code",
      "execution_count": 62,
      "metadata": {
        "id": "HOzYlf9VtoOh",
        "colab": {
          "base_uri": "https://localhost:8080/"
        },
        "outputId": "0d7f08c6-b37f-4485-8744-cb34b0365f97"
      },
      "outputs": [
        {
          "output_type": "stream",
          "name": "stdout",
          "text": [
            "Objective value at epoch 1 is 0.11163339211294143\n",
            "Objective value at epoch 2 is 0.07218657716484639\n",
            "Objective value at epoch 3 is 0.06541293950669302\n",
            "Objective value at epoch 4 is 0.06321257488732199\n",
            "Objective value at epoch 5 is 0.06047657145813814\n",
            "Objective value at epoch 6 is 0.05976227869542712\n",
            "Objective value at epoch 7 is 0.05740348104170829\n",
            "Objective value at epoch 8 is 0.056957199834313674\n",
            "Objective value at epoch 9 is 0.05592425606606097\n",
            "Objective value at epoch 10 is 0.055792098138796264\n",
            "Objective value at epoch 11 is 0.05468006825252707\n",
            "Objective value at epoch 12 is 0.05444986334449083\n",
            "Objective value at epoch 13 is 0.053886449742748095\n",
            "Objective value at epoch 14 is 0.05355837274798023\n",
            "Objective value at epoch 15 is 0.053041021629771916\n",
            "Objective value at epoch 16 is 0.052783857580372386\n",
            "Objective value at epoch 17 is 0.05273282857957945\n",
            "Objective value at epoch 18 is 0.05240986463698108\n",
            "Objective value at epoch 19 is 0.05208618467560232\n",
            "Objective value at epoch 20 is 0.051874605438910606\n",
            "Objective value at epoch 21 is 0.05166981291136571\n",
            "Objective value at epoch 22 is 0.0516415521682275\n",
            "Objective value at epoch 23 is 0.051498832008565094\n",
            "Objective value at epoch 24 is 0.05137545859759633\n",
            "Objective value at epoch 25 is 0.05127479826996328\n",
            "Objective value at epoch 26 is 0.05115319168451875\n",
            "Objective value at epoch 27 is 0.05107453930703821\n",
            "Objective value at epoch 28 is 0.05099085786971123\n",
            "Objective value at epoch 29 is 0.05090662583470083\n",
            "Objective value at epoch 30 is 0.0508501909798119\n",
            "Objective value at epoch 31 is 0.05079212768508034\n",
            "Objective value at epoch 32 is 0.05073595442096583\n",
            "Objective value at epoch 33 is 0.050695267847674585\n",
            "Objective value at epoch 34 is 0.050651743669884015\n",
            "Objective value at epoch 35 is 0.05061184464029291\n",
            "Objective value at epoch 36 is 0.05057985470170652\n",
            "Objective value at epoch 37 is 0.05054972600483253\n",
            "Objective value at epoch 38 is 0.050521568464934496\n",
            "Objective value at epoch 39 is 0.05049645577225268\n",
            "Objective value at epoch 40 is 0.05047457789794476\n",
            "Objective value at epoch 41 is 0.05045437286172779\n",
            "Objective value at epoch 42 is 0.05043533849835872\n",
            "Objective value at epoch 43 is 0.0504199130938717\n",
            "Objective value at epoch 44 is 0.050405053981934796\n",
            "Objective value at epoch 45 is 0.05039206437985299\n",
            "Objective value at epoch 46 is 0.050379833345118544\n",
            "Objective value at epoch 47 is 0.05036940517441347\n",
            "Objective value at epoch 48 is 0.05035962767740389\n",
            "Objective value at epoch 49 is 0.050351210948516245\n",
            "Objective value at epoch 50 is 0.050343492485650794\n",
            "Objective value at epoch 51 is 0.05033639394746894\n",
            "Objective value at epoch 52 is 0.05033009030814332\n",
            "Objective value at epoch 53 is 0.05032438112313361\n",
            "Objective value at epoch 54 is 0.05031937297417506\n",
            "Objective value at epoch 55 is 0.050314615659565354\n",
            "Objective value at epoch 56 is 0.0503106292863635\n",
            "Objective value at epoch 57 is 0.050306921517702004\n",
            "Objective value at epoch 58 is 0.05030357268370041\n",
            "Objective value at epoch 59 is 0.05030055090147847\n",
            "Objective value at epoch 60 is 0.050297844096892384\n",
            "Objective value at epoch 61 is 0.050295397757996387\n",
            "Objective value at epoch 62 is 0.050293207197940934\n",
            "Objective value at epoch 63 is 0.0502912379202748\n",
            "Objective value at epoch 64 is 0.050289455548013284\n",
            "Objective value at epoch 65 is 0.050287862522610374\n",
            "Objective value at epoch 66 is 0.05028642120450213\n",
            "Objective value at epoch 67 is 0.05028512725286366\n",
            "Objective value at epoch 68 is 0.05028396008467226\n",
            "Objective value at epoch 69 is 0.050282910104949445\n",
            "Objective value at epoch 70 is 0.05028196651179024\n",
            "Objective value at epoch 71 is 0.05028111580089716\n",
            "Objective value at epoch 72 is 0.05028034970731723\n",
            "Objective value at epoch 73 is 0.05027966131637369\n",
            "Objective value at epoch 74 is 0.050279041398914336\n",
            "Objective value at epoch 75 is 0.050278485129976375\n",
            "Objective value at epoch 76 is 0.050277982991691894\n",
            "Objective value at epoch 77 is 0.05027753165488121\n",
            "Objective value at epoch 78 is 0.05027712476195889\n",
            "Objective value at epoch 79 is 0.0502767589032128\n",
            "Objective value at epoch 80 is 0.05027642987337973\n",
            "Objective value at epoch 81 is 0.050276133562482186\n",
            "Objective value at epoch 82 is 0.05027586688209756\n",
            "Objective value at epoch 83 is 0.05027562686153281\n",
            "Objective value at epoch 84 is 0.05027541079897492\n",
            "Objective value at epoch 85 is 0.05027521642464167\n",
            "Objective value at epoch 86 is 0.05027504142795029\n",
            "Objective value at epoch 87 is 0.05027488392378868\n",
            "Objective value at epoch 88 is 0.050274742107147226\n",
            "Objective value at epoch 89 is 0.050274614625494575\n",
            "Objective value at epoch 90 is 0.050274499834145885\n",
            "Objective value at epoch 91 is 0.05027439647362481\n",
            "Objective value at epoch 92 is 0.05027430352894558\n",
            "Objective value at epoch 93 is 0.05027421983471563\n",
            "Objective value at epoch 94 is 0.05027414450905188\n",
            "Objective value at epoch 95 is 0.050274076717255096\n",
            "Objective value at epoch 96 is 0.05027401571615215\n",
            "Objective value at epoch 97 is 0.0502739608053648\n",
            "Objective value at epoch 98 is 0.05027391138702801\n",
            "Objective value at epoch 99 is 0.05027386691162076\n",
            "Objective value at epoch 100 is 0.05027382688337846\n"
          ]
        }
      ],
      "source": [
        "# Train regularized logistric regression\n",
        "# You should get the optimal weights and a list of objective values by using gradient_descent function.\n",
        "\n",
        "lam = 0.0001\n",
        "learning_rate = 0.1\n",
        "w = numpy.zeros((d,1))\n",
        "\n",
        "w_sgd_regularized, objvals_sgd_regularized = sgd(x_train, y_train, lam, learning_rate, w)"
      ]
    },
    {
      "cell_type": "markdown",
      "metadata": {
        "id": "GS-UPn9wtoOh"
      },
      "source": [
        "## 3.3 Mini-Batch Gradient Descent (MBGD)"
      ]
    },
    {
      "cell_type": "markdown",
      "metadata": {
        "id": "whpnFg1ptoOh"
      },
      "source": [
        "Define $Q_I (w) = \\frac{1}{b} \\sum_{i \\in I} \\log \\Big( 1 + \\exp \\big( - y_i x_i^T w \\big) \\Big) + \\frac{\\lambda}{2} \\| w \\|_2^2 $, where $I$ is a set containing $b$ indices randomly drawn from $\\{ 1, \\cdots , n \\}$ without replacement.\n",
        "\n",
        "The stochastic gradient at $w$ is $g_I = \\frac{\\partial Q_I }{ \\partial w} = \\frac{1}{b} \\sum_{i \\in I} \\frac{- y_i x_i }{1 + \\exp ( y_i x_i^T w)} + \\lambda w$.\n",
        "\n",
        "You may need to implement a new function to calculate the new objective function and gradients."
      ]
    },
    {
      "cell_type": "code",
      "execution_count": 41,
      "metadata": {
        "id": "DlpdmabltoOh"
      },
      "outputs": [],
      "source": [
        "# Calculate the objective Q_I and the gradient of Q_I\n",
        "# Inputs:\n",
        "#     w: weights: d-by-1 matrix\n",
        "#     xi: data: b-by-d matrix\n",
        "#     yi: label:  b-by-1 matrix\n",
        "#     lam: scalar, the regularization parameter\n",
        "# Return:\n",
        "#     obj: scalar, the objective Q_i\n",
        "#     g: d-by-1 matrix, gradient of Q_i\n",
        "\n",
        "def mb_objective_gradient(w, xi, yi, lam):\n",
        "    n,d = xi.shape\n",
        "    expTerm = np.dot(yi * xi, w) \n",
        "    \n",
        "    logTerm = np.log(1 + np.exp(-expTerm)) \n",
        "    obj = np.mean(logTerm) + lam/2 * np.sum(w*w) \n",
        "\n",
        "    gTerm = - np.mean(np.divide(yi * xi, 1 + np.exp(expTerm)), axis = 0).reshape(d,1) \n",
        "    g = gTerm + lam * w \n",
        "    \n",
        "    return obj, g\n",
        "    pass"
      ]
    },
    {
      "cell_type": "markdown",
      "metadata": {
        "id": "WB74Q4N_toOi"
      },
      "source": [
        "Hints:\n",
        "1. In every epoch, randomly permute the $n$ samples (just like SGD).\n",
        "2. Each epoch has $\\frac{n}{b}$ iterations. In every iteration, use $b$ samples, and compute the gradient and objective using the ``mb_objective_gradient`` function. In the next iteration, use the next $b$ samples, and so on."
      ]
    },
    {
      "cell_type": "code",
      "execution_count": 42,
      "metadata": {
        "id": "WFosBJ_atoOi"
      },
      "outputs": [],
      "source": [
        "# MBGD for solving logistic regression\n",
        "# You will need to do iterative process (loops) to obtain optimal weights in this function\n",
        "\n",
        "# Inputs:\n",
        "#     x: data: n-by-d matrix\n",
        "#     y: label: n-by-1 matrix\n",
        "#     lam: scalar, the regularization parameter\n",
        "#     learning_rate: scalar\n",
        "#     w: weights: d-by-1 matrix, initialization of w\n",
        "#     max_epoch: integer, the maximal epochs\n",
        "# Return:\n",
        "#     w: weights: d-by-1 matrix, the solution\n",
        "#     objvals: a record of each epoch's objective value\n",
        "#     Record one objective value per epoch (not per iteration)\n",
        "\n",
        "def mbgd(x, y, lam, learning_rate, w, max_epoch=100):\n",
        "    n, d = x.shape\n",
        "    batch_size = 10\n",
        "    objvals = numpy.zeros(max_epoch)\n",
        "    \n",
        "    for i in range(max_epoch):\n",
        "        rand_indices = numpy.random.permutation(n)\n",
        "        x_rand = x[rand_indices, :]\n",
        "        y_rand = y[rand_indices, :]\n",
        "        \n",
        "        objval = 0 \n",
        "        for j in range(0, n, batch_size):\n",
        "            xi = x_rand[j:j+batch_size, :] \n",
        "            yi = y_rand[j:j+batch_size, :] \n",
        "            obj, g = mb_objective_gradient(w, xi, yi, lam)\n",
        "            objval = objval + obj\n",
        "            w = w - learning_rate * g\n",
        "        \n",
        "        learning_rate = learning_rate * 0.9 \n",
        "        objval /= n/batch_size\n",
        "        objvals[i] = objval\n",
        "        print('Objective value at epoch ' + str(i+1) + ' is ' + str(objval))\n",
        "    \n",
        "    return w, objvals\n",
        "    pass"
      ]
    },
    {
      "cell_type": "markdown",
      "metadata": {
        "id": "3Z_DAIqEtoOi"
      },
      "source": [
        "Use mbgd function to obtain your optimal weights and a list of objective values over each epoch."
      ]
    },
    {
      "cell_type": "code",
      "execution_count": 43,
      "metadata": {
        "id": "kRvz8aYCtoOi",
        "colab": {
          "base_uri": "https://localhost:8080/"
        },
        "outputId": "84365cfa-45a5-4d1e-a8d2-c1eef95a8126"
      },
      "outputs": [
        {
          "output_type": "stream",
          "name": "stdout",
          "text": [
            "Objective value at epoch 1 is 0.14165592533368002\n",
            "Objective value at epoch 2 is 0.07397264716433943\n",
            "Objective value at epoch 3 is 0.06694274561640264\n",
            "Objective value at epoch 4 is 0.06270078140419523\n",
            "Objective value at epoch 5 is 0.06132557276989168\n",
            "Objective value at epoch 6 is 0.059387756202411476\n",
            "Objective value at epoch 7 is 0.05762534832698657\n",
            "Objective value at epoch 8 is 0.05611777567848969\n",
            "Objective value at epoch 9 is 0.05548675778415022\n",
            "Objective value at epoch 10 is 0.05430036897183852\n",
            "Objective value at epoch 11 is 0.053980227211386955\n",
            "Objective value at epoch 12 is 0.053303361545874436\n",
            "Objective value at epoch 13 is 0.052741221062820906\n",
            "Objective value at epoch 14 is 0.05246055070451647\n",
            "Objective value at epoch 15 is 0.05166977162888939\n",
            "Objective value at epoch 16 is 0.05153377474602657\n",
            "Objective value at epoch 17 is 0.05137573941784474\n",
            "Objective value at epoch 18 is 0.0513029920987331\n",
            "Objective value at epoch 19 is 0.0514002228647327\n",
            "Objective value at epoch 20 is 0.050826109367238644\n",
            "Objective value at epoch 21 is 0.05111346940314851\n",
            "Objective value at epoch 22 is 0.05037489422614255\n",
            "Objective value at epoch 23 is 0.05015912197280426\n",
            "Objective value at epoch 24 is 0.05029788094715462\n",
            "Objective value at epoch 25 is 0.049897390379683944\n",
            "Objective value at epoch 26 is 0.049840348689839456\n",
            "Objective value at epoch 27 is 0.04986708019141873\n",
            "Objective value at epoch 28 is 0.05102430733026342\n",
            "Objective value at epoch 29 is 0.04998002370792754\n",
            "Objective value at epoch 30 is 0.049483274230079075\n",
            "Objective value at epoch 31 is 0.04946391409003943\n",
            "Objective value at epoch 32 is 0.049462181570685715\n",
            "Objective value at epoch 33 is 0.049385590554114206\n",
            "Objective value at epoch 34 is 0.04949310762541765\n",
            "Objective value at epoch 35 is 0.04929356494209569\n",
            "Objective value at epoch 36 is 0.049304987397046\n",
            "Objective value at epoch 37 is 0.049203296550856784\n",
            "Objective value at epoch 38 is 0.049187303700337665\n",
            "Objective value at epoch 39 is 0.049840008124762365\n",
            "Objective value at epoch 40 is 0.0491764468682601\n",
            "Objective value at epoch 41 is 0.04910605547942119\n",
            "Objective value at epoch 42 is 0.04920446021395366\n",
            "Objective value at epoch 43 is 0.04908752156965363\n",
            "Objective value at epoch 44 is 0.049363942896064904\n",
            "Objective value at epoch 45 is 0.049395322918569844\n",
            "Objective value at epoch 46 is 0.04909703760514352\n",
            "Objective value at epoch 47 is 0.05049086498654031\n",
            "Objective value at epoch 48 is 0.04901264624779596\n",
            "Objective value at epoch 49 is 0.04907819985251288\n",
            "Objective value at epoch 50 is 0.049005426169697795\n",
            "Objective value at epoch 51 is 0.04959843876335226\n",
            "Objective value at epoch 52 is 0.048977405214347285\n",
            "Objective value at epoch 53 is 0.05338545714353336\n",
            "Objective value at epoch 54 is 0.04897107657968391\n",
            "Objective value at epoch 55 is 0.04985475858808611\n",
            "Objective value at epoch 56 is 0.04898772764441925\n",
            "Objective value at epoch 57 is 0.04898958693677177\n",
            "Objective value at epoch 58 is 0.050074914863409974\n",
            "Objective value at epoch 59 is 0.049444106452614704\n",
            "Objective value at epoch 60 is 0.049198480067041986\n",
            "Objective value at epoch 61 is 0.04916591265969983\n",
            "Objective value at epoch 62 is 0.048996174099868076\n",
            "Objective value at epoch 63 is 0.04900710639952061\n",
            "Objective value at epoch 64 is 0.04921681381064457\n",
            "Objective value at epoch 65 is 0.04981426701460646\n",
            "Objective value at epoch 66 is 0.04960258733798779\n",
            "Objective value at epoch 67 is 0.04960192738215645\n",
            "Objective value at epoch 68 is 0.04906411200940694\n",
            "Objective value at epoch 69 is 0.049236295106204295\n",
            "Objective value at epoch 70 is 0.04909136486971314\n",
            "Objective value at epoch 71 is 0.04893845145841974\n",
            "Objective value at epoch 72 is 0.04892892451180057\n",
            "Objective value at epoch 73 is 0.04896730212193828\n",
            "Objective value at epoch 74 is 0.04893116042212556\n",
            "Objective value at epoch 75 is 0.04892620760863803\n",
            "Objective value at epoch 76 is 0.04895983719828275\n",
            "Objective value at epoch 77 is 0.050150454156486696\n",
            "Objective value at epoch 78 is 0.048926838436303806\n",
            "Objective value at epoch 79 is 0.05023402766431346\n",
            "Objective value at epoch 80 is 0.04900077600775069\n",
            "Objective value at epoch 81 is 0.04894495053888864\n",
            "Objective value at epoch 82 is 0.04936057793531954\n",
            "Objective value at epoch 83 is 0.048956662615805314\n",
            "Objective value at epoch 84 is 0.049083887757908055\n",
            "Objective value at epoch 85 is 0.048930515687824624\n",
            "Objective value at epoch 86 is 0.04900310202761488\n",
            "Objective value at epoch 87 is 0.0496523434937738\n",
            "Objective value at epoch 88 is 0.05037838267540435\n",
            "Objective value at epoch 89 is 0.048989290083839995\n",
            "Objective value at epoch 90 is 0.048926884584473154\n",
            "Objective value at epoch 91 is 0.04900557938595357\n",
            "Objective value at epoch 92 is 0.04896100678467317\n",
            "Objective value at epoch 93 is 0.04923028990151736\n",
            "Objective value at epoch 94 is 0.05789404256553939\n",
            "Objective value at epoch 95 is 0.048953338280483844\n",
            "Objective value at epoch 96 is 0.05051212539288143\n",
            "Objective value at epoch 97 is 0.04910432464310061\n",
            "Objective value at epoch 98 is 0.049082142919852155\n",
            "Objective value at epoch 99 is 0.048934631768693324\n",
            "Objective value at epoch 100 is 0.04892249574973536\n"
          ]
        }
      ],
      "source": [
        "# Train logistic regression\n",
        "# You should get the optimal weights and a list of objective values by using gradient_descent function.\n",
        "\n",
        "lam = 0\n",
        "learning_rate = 1\n",
        "w = numpy.zeros((d, 1))\n",
        "\n",
        "w_mbgd, objvals_mbgd = mbgd(x_train, y_train, lam, learning_rate, w)"
      ]
    },
    {
      "cell_type": "code",
      "execution_count": 44,
      "metadata": {
        "id": "jp6sQsMHtoOi",
        "colab": {
          "base_uri": "https://localhost:8080/"
        },
        "outputId": "94d7eaf0-bd30-423b-90b1-f9f0b0ae5f0a"
      },
      "outputs": [
        {
          "output_type": "stream",
          "name": "stdout",
          "text": [
            "Objective value at epoch 1 is 0.10751298724933993\n",
            "Objective value at epoch 2 is 0.071912381853286\n",
            "Objective value at epoch 3 is 0.0636318340793177\n",
            "Objective value at epoch 4 is 0.06341312606296094\n",
            "Objective value at epoch 5 is 0.06117232658365274\n",
            "Objective value at epoch 6 is 0.05983695982651986\n",
            "Objective value at epoch 7 is 0.056970336955482426\n",
            "Objective value at epoch 8 is 0.05643061984550533\n",
            "Objective value at epoch 9 is 0.05634220883887406\n",
            "Objective value at epoch 10 is 0.05540613889915087\n",
            "Objective value at epoch 11 is 0.05584173891213767\n",
            "Objective value at epoch 12 is 0.05441851257246285\n",
            "Objective value at epoch 13 is 0.05395284699087037\n",
            "Objective value at epoch 14 is 0.05325308778676249\n",
            "Objective value at epoch 15 is 0.052965480175561075\n",
            "Objective value at epoch 16 is 0.052717192324914244\n",
            "Objective value at epoch 17 is 0.0525013848333102\n",
            "Objective value at epoch 18 is 0.05234308794155378\n",
            "Objective value at epoch 19 is 0.0531222545228306\n",
            "Objective value at epoch 20 is 0.05205859537601768\n",
            "Objective value at epoch 21 is 0.05154685469970097\n",
            "Objective value at epoch 22 is 0.051628504390246216\n",
            "Objective value at epoch 23 is 0.05249539037075901\n",
            "Objective value at epoch 24 is 0.05184193902916748\n",
            "Objective value at epoch 25 is 0.05570981696989974\n",
            "Objective value at epoch 26 is 0.05123086020234428\n",
            "Objective value at epoch 27 is 0.05111089376358879\n",
            "Objective value at epoch 28 is 0.0511729812683576\n",
            "Objective value at epoch 29 is 0.050830732882691625\n",
            "Objective value at epoch 30 is 0.050758367413135136\n",
            "Objective value at epoch 31 is 0.05085646750366237\n",
            "Objective value at epoch 32 is 0.05109063460320183\n",
            "Objective value at epoch 33 is 0.05495023764644455\n",
            "Objective value at epoch 34 is 0.05137618093345772\n",
            "Objective value at epoch 35 is 0.050557066229937025\n",
            "Objective value at epoch 36 is 0.05047049751451562\n",
            "Objective value at epoch 37 is 0.0504622656359001\n",
            "Objective value at epoch 38 is 0.05043517684187176\n",
            "Objective value at epoch 39 is 0.05197559641140839\n",
            "Objective value at epoch 40 is 0.05041055200207826\n",
            "Objective value at epoch 41 is 0.052557072649597594\n",
            "Objective value at epoch 42 is 0.05034371390002748\n",
            "Objective value at epoch 43 is 0.050486816204819325\n",
            "Objective value at epoch 44 is 0.05041452924768262\n",
            "Objective value at epoch 45 is 0.0502926634889704\n",
            "Objective value at epoch 46 is 0.0507443673122029\n",
            "Objective value at epoch 47 is 0.05063144689555787\n",
            "Objective value at epoch 48 is 0.05028670614549694\n",
            "Objective value at epoch 49 is 0.05026664455165826\n",
            "Objective value at epoch 50 is 0.05024881061882042\n",
            "Objective value at epoch 51 is 0.051078692670410146\n",
            "Objective value at epoch 52 is 0.050380945101515036\n",
            "Objective value at epoch 53 is 0.050246475983251875\n",
            "Objective value at epoch 54 is 0.05023498256837746\n",
            "Objective value at epoch 55 is 0.050274753191153515\n",
            "Objective value at epoch 56 is 0.050354122939239084\n",
            "Objective value at epoch 57 is 0.0503882721760971\n",
            "Objective value at epoch 58 is 0.050249594511168644\n",
            "Objective value at epoch 59 is 0.05119046111807906\n",
            "Objective value at epoch 60 is 0.05141500165931137\n",
            "Objective value at epoch 61 is 0.05038813210903004\n",
            "Objective value at epoch 62 is 0.05041265110519383\n",
            "Objective value at epoch 63 is 0.05063993448374462\n",
            "Objective value at epoch 64 is 0.05447594701614296\n",
            "Objective value at epoch 65 is 0.050193001010461855\n",
            "Objective value at epoch 66 is 0.05170393006221559\n",
            "Objective value at epoch 67 is 0.0502454187879954\n",
            "Objective value at epoch 68 is 0.050216244741928935\n",
            "Objective value at epoch 69 is 0.050241759549381905\n",
            "Objective value at epoch 70 is 0.05026275392087685\n",
            "Objective value at epoch 71 is 0.05018825524726693\n",
            "Objective value at epoch 72 is 0.05028183824472278\n",
            "Objective value at epoch 73 is 0.050658779738202216\n",
            "Objective value at epoch 74 is 0.05018790741008801\n",
            "Objective value at epoch 75 is 0.050614418537020575\n",
            "Objective value at epoch 76 is 0.050184238884872584\n",
            "Objective value at epoch 77 is 0.050691786011658774\n",
            "Objective value at epoch 78 is 0.050455938762191566\n",
            "Objective value at epoch 79 is 0.05087503684686359\n",
            "Objective value at epoch 80 is 0.0507210038200548\n",
            "Objective value at epoch 81 is 0.05022628494317884\n",
            "Objective value at epoch 82 is 0.050598695241284616\n",
            "Objective value at epoch 83 is 0.05019013182053712\n",
            "Objective value at epoch 84 is 0.05018102712778049\n",
            "Objective value at epoch 85 is 0.05031279387399764\n",
            "Objective value at epoch 86 is 0.05037480631189752\n",
            "Objective value at epoch 87 is 0.05051068383460989\n",
            "Objective value at epoch 88 is 0.050652131793668044\n",
            "Objective value at epoch 89 is 0.0508591107734808\n",
            "Objective value at epoch 90 is 0.05076314828387841\n",
            "Objective value at epoch 91 is 0.05033880934467589\n",
            "Objective value at epoch 92 is 0.05037639183969395\n",
            "Objective value at epoch 93 is 0.05114752414666884\n",
            "Objective value at epoch 94 is 0.051786865312522086\n",
            "Objective value at epoch 95 is 0.05036358542367062\n",
            "Objective value at epoch 96 is 0.0502009684731861\n",
            "Objective value at epoch 97 is 0.05022192949627894\n",
            "Objective value at epoch 98 is 0.050351838338030766\n",
            "Objective value at epoch 99 is 0.05035491561958433\n",
            "Objective value at epoch 100 is 0.05020520352624353\n"
          ]
        }
      ],
      "source": [
        "# Train regularized logistric regression\n",
        "# You should get the optimal weights and a list of objective values by using gradient_descent function.\n",
        "\n",
        "lam = 0.0001\n",
        "learning_rate = 1\n",
        "w = numpy.zeros((d, 1))\n",
        "\n",
        "w_mbgd_regularized, objvals_mbgd_regularized = mbgd(x_train, y_train, lam, learning_rate, w)"
      ]
    },
    {
      "cell_type": "markdown",
      "metadata": {
        "id": "g0YDQ0vZtoOi"
      },
      "source": [
        "# 4. Compare GD, SGD, MBGD\n",
        "\n",
        "### Plot objective function values against epochs."
      ]
    },
    {
      "cell_type": "code",
      "execution_count": 65,
      "metadata": {
        "id": "xL58mvsktoOi",
        "colab": {
          "base_uri": "https://localhost:8080/",
          "height": 334
        },
        "outputId": "1bf7334d-0c9a-46d9-cf8c-a54777b0110b"
      },
      "outputs": [
        {
          "output_type": "display_data",
          "data": {
            "image/png": "[encoded data removed]",
            "text/plain": [
              "<Figure size 720x360 with 1 Axes>"
            ]
          },
          "metadata": {
            "needs_background": "light"
          }
        }
      ],
      "source": [
        "import matplotlib.pyplot as plt\n",
        "%matplotlib inline\n",
        "\n",
        "fig = plt.figure(figsize=(10, 5))\n",
        "\n",
        "line1, = plt.plot(range(len(objvals_gd)), objvals_gd, 'y')\n",
        "line2, = plt.plot(range(len(objvals_sgd)), objvals_sgd, '-.r')\n",
        "line3, = plt.plot(range(len(objvals_mbgd)), objvals_mbgd, '--g')\n",
        "\n",
        "plt.xlabel('Epochs')\n",
        "plt.ylabel('Objective Value')\n",
        "plt.legend([line1, line2, line3], ['GD', 'SGD', 'MBGD'])\n",
        "plt.show()"
      ]
    },
    {
      "cell_type": "code",
      "source": [
        "import matplotlib.pyplot as plt\n",
        "%matplotlib inline\n",
        "\n",
        "fig = plt.figure(figsize=(10, 5))\n",
        "\n",
        "line4, = plt.plot(range(len(objvals_gd_regularized)), objvals_gd_regularized, 'y')\n",
        "line5, = plt.plot(range(len(objvals_sgd_regularized)), objvals_sgd_regularized, '-.r')\n",
        "line6, = plt.plot(range(len(objvals_mbgd_regularized)), objvals_mbgd_regularized, '--g')\n",
        "\n",
        "plt.xlabel('Epochs')\n",
        "plt.ylabel('Objective Value')\n",
        "plt.legend([line4, line5, line6], ['GD_Regularized', 'SGD_Regularized', 'MBGD_Regularized'])\n",
        "plt.show()"
      ],
      "metadata": {
        "colab": {
          "base_uri": "https://localhost:8080/",
          "height": 334
        },
        "id": "-xswUV2rkb_I",
        "outputId": "f811ad8a-a86d-4ea9-a0ed-b5bac4708db4"
      },
      "execution_count": 63,
      "outputs": [
        {
          "output_type": "display_data",
          "data": {
            "image/png": "[encoded data removed]",
            "text/plain": [
              "<Figure size 720x360 with 1 Axes>"
            ]
          },
          "metadata": {
            "needs_background": "light"
          }
        }
      ]
    },
    {
      "cell_type": "markdown",
      "metadata": {
        "id": "kDnbk5XVtoOi"
      },
      "source": [
        "# 5. Prediction\n",
        "### Compare the training and testing accuracy for logistic regression and regularized logistic regression."
      ]
    },
    {
      "cell_type": "code",
      "execution_count": 47,
      "metadata": {
        "id": "Il6wb2GdtoOi"
      },
      "outputs": [],
      "source": [
        "# Predict class label\n",
        "# Inputs:\n",
        "#     w: weights: d-by-1 matrix\n",
        "#     X: data: m-by-d matrix\n",
        "# Return:\n",
        "#     f: m-by-1 matrix, the predictions\n",
        "def predict(w, X):\n",
        "    xw = numpy.dot(X, w)\n",
        "    f = numpy.sign(xw)\n",
        "    return f\n",
        "    pass"
      ]
    },
    {
      "cell_type": "markdown",
      "source": [
        "### Training and Testing classification error of Gradient Descent"
      ],
      "metadata": {
        "id": "B1MAwXCPLUD0"
      }
    },
    {
      "cell_type": "code",
      "execution_count": 48,
      "metadata": {
        "id": "8MnUL1UbtoOi",
        "colab": {
          "base_uri": "https://localhost:8080/"
        },
        "outputId": "cbe36e1e-118e-41b2-ce45-5a8d284e296c"
      },
      "outputs": [
        {
          "output_type": "stream",
          "name": "stdout",
          "text": [
            "Training classification error is 0.01098901098901099\n",
            "Test classification error is 0.043859649122807015\n"
          ]
        }
      ],
      "source": [
        "f_train = predict(w_gd, x_train)\n",
        "diff = numpy.abs(f_train - y_train) / 2\n",
        "error_train = numpy.mean(diff)\n",
        "print('Training classification error is ' + str(error_train))\n",
        "\n",
        "f_test = predict(w_gd, x_test)\n",
        "diff = numpy.abs(f_test - y_test) / 2\n",
        "error_test = numpy.mean(diff)\n",
        "print('Test classification error is ' + str(error_test))"
      ]
    },
    {
      "cell_type": "markdown",
      "source": [
        "### Training and Testing classification error of Gradient Descent Regularized"
      ],
      "metadata": {
        "id": "qhNFrNxjLlvo"
      }
    },
    {
      "cell_type": "code",
      "source": [
        "f_train = predict(w_gd_regularized, x_train)\n",
        "diff = numpy.abs(f_train - y_train) / 2\n",
        "error_train = numpy.mean(diff)\n",
        "print('Training classification error is ' + str(error_train))\n",
        "\n",
        "f_test = predict(w_gd_regularized, x_test)\n",
        "diff = numpy.abs(f_test - y_test) / 2\n",
        "error_test = numpy.mean(diff)\n",
        "print('Test classification error is ' + str(error_test))"
      ],
      "metadata": {
        "colab": {
          "base_uri": "https://localhost:8080/"
        },
        "id": "S__uC4OC5diT",
        "outputId": "a7ec6aff-6001-4e11-8c51-ee45cf5d11c3"
      },
      "execution_count": 49,
      "outputs": [
        {
          "output_type": "stream",
          "name": "stdout",
          "text": [
            "Training classification error is 0.01098901098901099\n",
            "Test classification error is 0.043859649122807015\n"
          ]
        }
      ]
    },
    {
      "cell_type": "markdown",
      "source": [
        "### Training and Testing classification error of Stochastic Gradient Descent"
      ],
      "metadata": {
        "id": "cFyHmCjiLx5_"
      }
    },
    {
      "cell_type": "code",
      "source": [
        "f_train = predict(w_sgd, x_train)\n",
        "diff = numpy.abs(f_train - y_train) / 2\n",
        "error_train = numpy.mean(diff)\n",
        "print('Training classification error is ' + str(error_train))\n",
        "\n",
        "f_test = predict(w_sgd, x_test)\n",
        "diff = numpy.abs(f_test - y_test) / 2\n",
        "error_test = numpy.mean(diff)\n",
        "print('Test classification error is ' + str(error_test))"
      ],
      "metadata": {
        "colab": {
          "base_uri": "https://localhost:8080/"
        },
        "id": "IYaHpGtt5d7z",
        "outputId": "a5943a8e-5615-49dd-95f1-8fdbf27ec971"
      },
      "execution_count": 50,
      "outputs": [
        {
          "output_type": "stream",
          "name": "stdout",
          "text": [
            "Training classification error is 0.008791208791208791\n",
            "Test classification error is 0.03508771929824561\n"
          ]
        }
      ]
    },
    {
      "cell_type": "markdown",
      "source": [
        "### Training and Testing classification error of Stochastic Gradient Descent Regularized"
      ],
      "metadata": {
        "id": "4QADIUxLL0_l"
      }
    },
    {
      "cell_type": "code",
      "execution_count": 51,
      "metadata": {
        "id": "TEhT-VGGtoOi",
        "colab": {
          "base_uri": "https://localhost:8080/"
        },
        "outputId": "3a2974a7-1a34-4aef-b503-c4981fb09385"
      },
      "outputs": [
        {
          "output_type": "stream",
          "name": "stdout",
          "text": [
            "Training classification error is 0.013186813186813187\n",
            "Test classification error is 0.043859649122807015\n"
          ]
        }
      ],
      "source": [
        "f_train = predict(w_sgd_regularized, x_train)\n",
        "diff = numpy.abs(f_train - y_train) / 2\n",
        "error_train = numpy.mean(diff)\n",
        "print('Training classification error is ' + str(error_train))\n",
        "\n",
        "f_test = predict(w_sgd_regularized, x_test)\n",
        "diff = numpy.abs(f_test - y_test) / 2\n",
        "error_test = numpy.mean(diff)\n",
        "print('Test classification error is ' + str(error_test))"
      ]
    },
    {
      "cell_type": "markdown",
      "source": [
        "### Training and Testing classification error of Mini-Batch Gradient Descent"
      ],
      "metadata": {
        "id": "pf-JovdXL19T"
      }
    },
    {
      "cell_type": "code",
      "source": [
        "f_train = predict(w_mbgd, x_train)\n",
        "diff = numpy.abs(f_train - y_train) / 2\n",
        "error_train = numpy.mean(diff)\n",
        "print('Training classification error is ' + str(error_train))\n",
        "\n",
        "f_test = predict(w_mbgd, x_test)\n",
        "diff = numpy.abs(f_test - y_test) / 2\n",
        "error_test = numpy.mean(diff)\n",
        "print('Test classification error is ' + str(error_test))"
      ],
      "metadata": {
        "colab": {
          "base_uri": "https://localhost:8080/"
        },
        "id": "2hUL32w65g1_",
        "outputId": "9c159658-5909-4917-f5c3-4d57dc298e61"
      },
      "execution_count": 52,
      "outputs": [
        {
          "output_type": "stream",
          "name": "stdout",
          "text": [
            "Training classification error is 0.01098901098901099\n",
            "Test classification error is 0.03508771929824561\n"
          ]
        }
      ]
    },
    {
      "cell_type": "markdown",
      "source": [
        "### Training and Testing classification error of Mini-Batch Gradient Descent Regularized"
      ],
      "metadata": {
        "id": "rTJPsBtmL2x6"
      }
    },
    {
      "cell_type": "code",
      "source": [
        "f_train = predict(w_mbgd_regularized, x_train)\n",
        "diff = numpy.abs(f_train - y_train) / 2\n",
        "error_train = numpy.mean(diff)\n",
        "print('Training classification error is ' + str(error_train))\n",
        "\n",
        "f_test = predict(w_mbgd_regularized, x_test)\n",
        "diff = numpy.abs(f_test - y_test) / 2\n",
        "error_test = numpy.mean(diff)\n",
        "print('Test classification error is ' + str(error_test))"
      ],
      "metadata": {
        "colab": {
          "base_uri": "https://localhost:8080/"
        },
        "id": "fVR0wn_H5g7T",
        "outputId": "c2b33188-0171-43f8-d3ab-c28b9978424f"
      },
      "execution_count": 53,
      "outputs": [
        {
          "output_type": "stream",
          "name": "stdout",
          "text": [
            "Training classification error is 0.008791208791208791\n",
            "Test classification error is 0.03508771929824561\n"
          ]
        }
      ]
    },
    {
      "cell_type": "markdown",
      "metadata": {
        "id": "QC6hCw8XtoOi"
      },
      "source": [
        "# 6. Parameters tuning"
      ]
    },
    {
      "cell_type": "markdown",
      "metadata": {
        "id": "bu5CZC1KtoOi"
      },
      "source": [
        "### In this section, you may try different combinations of parameters (regularization value, learning rate, etc) to see their effects on the model. (Open ended question)"
      ]
    },
    {
      "cell_type": "code",
      "execution_count": 53,
      "metadata": {
        "id": "YsvXNgpVtoOi"
      },
      "outputs": [],
      "source": [
        ""
      ]
    }
  ],
  "metadata": {
    "kernelspec": {
      "display_name": "Python 3",
      "language": "python",
      "name": "python3"
    },
    "language_info": {
      "codemirror_mode": {
        "name": "ipython",
        "version": 3
      },
      "file_extension": ".py",
      "mimetype": "text/x-python",
      "name": "python",
      "nbconvert_exporter": "python",
      "pygments_lexer": "ipython3",
      "version": "3.7.3"
    },
    "colab": {
      "name": "Assignment_1_Q5.ipynb",
      "provenance": [],
      "collapsed_sections": []
    }
  },
  "nbformat": 4,
  "nbformat_minor": 0
}