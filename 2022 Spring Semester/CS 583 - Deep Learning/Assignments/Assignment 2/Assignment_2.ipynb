{
  "cells": [
    {
      "cell_type": "markdown",
      "metadata": {
        "id": "uAZ1qD7BWCVF"
      },
      "source": [
        "# Assignment 2: Build a CNN for image recognition.\n",
        "\n",
        "## Due Date:  March 29, 11:59PM\n",
        "\n",
        "### Name: [Daksh Bhuva]\n"
      ]
    },
    {
      "cell_type": "markdown",
      "metadata": {
        "id": "u-ihBZYWWCVG"
      },
      "source": [
        "## Introduction:\n",
        "\n",
        "1. In this assignment, you will build Convolutional Neural Network to classify CIFAR-10 Images.\n",
        "2. You can directly load dataset from many deep learning packages.\n",
        "3. You can use any deep learning packages such as pytorch, keras or tensorflow for this assignment."
      ]
    },
    {
      "cell_type": "markdown",
      "metadata": {
        "id": "PibHnyC_WCVH"
      },
      "source": [
        "## Requirements:\n",
        "\n",
        "1. You need to load cifar 10 data and split the entire training dataset into training and validation.\n",
        "2. You will implement a CNN model to classify cifar 10 images with provided structure.\n",
        "3. You need to plot the training and validation accuracy or loss obtained from above step.\n",
        "4. Then you can use tuned parameters to train using the entire training dataset.\n",
        "5. You should report the testing accuracy using the model with complete data.\n",
        "6. You may try to change the structure (e.g, add BN layer or dropout layer,...) and analyze your findings.\n",
        "\n",
        "## Google Colab\n",
        "\n",
        "- If you do not have GPU, the training of a CNN can be slow. Google Colab is a good option."
      ]
    },
    {
      "cell_type": "markdown",
      "metadata": {
        "id": "RvFm15mvWCVH"
      },
      "source": [
        "## Batch Normalization (BN)"
      ]
    },
    {
      "cell_type": "markdown",
      "metadata": {
        "id": "JxgX9WkXWCVH"
      },
      "source": [
        "### Background:"
      ]
    },
    {
      "cell_type": "markdown",
      "metadata": {
        "id": "69C2wFYoWCVI"
      },
      "source": [
        "- Batch Normalization is a technique to speed up training and help make the model more stable.\n",
        "- In simple words, batch normalization is just another network layer that gets inserted between a hidden layer and the next hidden layer. Its job is to take the outputs from the first hidden layer and normalize them before passing them on as the input of the next hidden layer.\n",
        "\n",
        "- For more detailed information, you may refer to the original paper: https://arxiv.org/pdf/1502.03167.pdf."
      ]
    },
    {
      "cell_type": "markdown",
      "metadata": {
        "id": "zKQeXItSWCVI"
      },
      "source": [
        "### BN Algorithm:"
      ]
    },
    {
      "cell_type": "markdown",
      "metadata": {
        "id": "My9jWvdeWCVI"
      },
      "source": [
        "- Input: Values of $x$ over a mini-batch: $\\mathbf{B}$ = $\\{x_1,..., x_m\\};$\n",
        "- Output: $\\{y_i = BN_{\\gamma,\\beta}(x_i)\\}$, $\\gamma, \\beta$ are learnable parameters\n",
        "\n",
        "Normalization of the Input:\n",
        "$$\\mu_{\\mathbf{B}} = \\frac{1}{m}\\sum_{i=1}^m x_i$$\n",
        "$$\\sigma_{\\mathbf{B}}^2 = \\frac{1}{m}\\sum_{i=1}^m (x_i - \\mu_{\\mathbf{B}})^2$$\n",
        "$$\\hat{x_i} = \\frac{x_i - \\mu_{\\mathbf{B}}}{\\sqrt{\\sigma_{\\mathbf{B}}}^2 + \\epsilon}$$\n",
        "Re-scaling and Offsetting:\n",
        "$$y_i = \\gamma \\hat{x_i} + \\beta = BN_{\\gamma,\\beta}(x_i)$$\n"
      ]
    },
    {
      "cell_type": "markdown",
      "metadata": {
        "id": "a_t0_MMjWCVJ"
      },
      "source": [
        "### Advantages of BN:\n",
        "1. Improves gradient flow through the network.\n",
        "2. Allows use of saturating nonlinearities and higher learning rates.\n",
        "3. Makes weights easier to initialize.\n",
        "4. Act as a form of regularization and may reduce the need for dropout."
      ]
    },
    {
      "cell_type": "markdown",
      "metadata": {
        "id": "S9PH3rbdWCVJ"
      },
      "source": [
        "### Implementation:"
      ]
    },
    {
      "cell_type": "markdown",
      "metadata": {
        "id": "2iShLqN1WCVJ"
      },
      "source": [
        "- The batch normalization layer has already been implemented in many packages. You may simply call the function to build the layer. For example: torch.nn.BatchNorm2d() using pytroch package, keras.layers.BatchNormalization() using keras package.\n",
        "- The location of BN layer: Please make sure ```BatchNormalization``` is between a ```Conv```/```Dense``` layer and an ```activation``` layer."
      ]
    },
    {
      "cell_type": "markdown",
      "metadata": {
        "id": "4x1NLMcLWCVJ"
      },
      "source": [
        "## 1. Data preparation"
      ]
    },
    {
      "cell_type": "markdown",
      "metadata": {
        "id": "k2yigOUJWCVK"
      },
      "source": [
        "### 1.1. Load data\n"
      ]
    },
    {
      "cell_type": "code",
      "execution_count": 7,
      "metadata": {
        "colab": {
          "base_uri": "https://localhost:8080/"
        },
        "id": "k0wr42JmWCVK",
        "outputId": "87d52702-4408-475a-8bfe-8a6c5b1261f4"
      },
      "outputs": [
        {
          "output_type": "stream",
          "name": "stdout",
          "text": [
            "shape of x_train: (50000, 32, 32, 3)\n",
            "shape of y_train: (50000, 1)\n",
            "shape of x_test: (10000, 32, 32, 3)\n",
            "shape of y_test: (10000, 1)\n",
            "number of classes: 10\n"
          ]
        }
      ],
      "source": [
        "# Load Cifar-10 Data\n",
        "# This is just an example, you may load dataset from other packages.\n",
        "import keras\n",
        "import numpy as np\n",
        "import tensorflow.keras\n",
        "\n",
        "### If you can not load keras dataset, un-comment these two lines.\n",
        "# import ssl\n",
        "# ssl._create_default_https_context = ssl._create_unverified_context\n",
        "\n",
        "(x_train, y_train), (x_test, y_test) = keras.datasets.cifar10.load_data()\n",
        "\n",
        "print('shape of x_train: ' + str(x_train.shape))\n",
        "print('shape of y_train: ' + str(y_train.shape))\n",
        "print('shape of x_test: ' + str(x_test.shape))\n",
        "print('shape of y_test: ' + str(y_test.shape))\n",
        "print('number of classes: ' + str(np.max(y_train) - np.min(y_train) + 1))"
      ]
    },
    {
      "cell_type": "markdown",
      "metadata": {
        "id": "mvDDHZDIWCVL"
      },
      "source": [
        "### 1.2. One-hot encode the labels (5 points)\n",
        "\n",
        "In the input, a label is a scalar in $\\{0, 1, \\cdots , 9\\}$. One-hot encode transform such a scalar to a $10$-dim vector. E.g., a scalar ```y_train[j]=3``` is transformed to the vector ```y_train_vec[j]=[0, 0, 0, 1, 0, 0, 0, 0, 0, 0]```.\n",
        "\n",
        "1. Implement a function ```to_one_hot``` that transforms an $n\\times 1$ array to a $n\\times 10$ matrix.\n",
        "\n",
        "2. Apply the function to ```y_train``` and ```y_test```."
      ]
    },
    {
      "cell_type": "code",
      "execution_count": 8,
      "metadata": {
        "colab": {
          "base_uri": "https://localhost:8080/"
        },
        "id": "xKA4wOBdWCVL",
        "outputId": "2c80486f-b951-49b5-d52b-9442d23d8b93"
      },
      "outputs": [
        {
          "output_type": "stream",
          "name": "stdout",
          "text": [
            "Shape of y_train_vec: (50000, 10)\n",
            "Shape of y_test_vec: (10000, 10)\n",
            "[6]\n",
            "[0. 0. 0. 0. 0. 0. 1. 0. 0. 0.]\n"
          ]
        }
      ],
      "source": [
        "def to_one_hot(y, num_class=10):\n",
        "  onehot_encoded = np.zeros((y.size, num_class))\n",
        "  onehot_encoded[np.arange(y.size), y.reshape((1, y.size))] = 1\n",
        "  return onehot_encoded\n",
        "  pass\n",
        "\n",
        "x_train, x_test = x_train.astype('float32') / 255, x_test.astype('float32') / 255\n",
        "\n",
        "y_train_vec = to_one_hot(y_train)\n",
        "y_test_vec = to_one_hot(y_test)\n",
        "\n",
        "print('Shape of y_train_vec: ' + str(y_train_vec.shape))\n",
        "print('Shape of y_test_vec: ' + str(y_test_vec.shape))\n",
        "\n",
        "print(y_train[0])\n",
        "print(y_train_vec[0])"
      ]
    },
    {
      "cell_type": "markdown",
      "metadata": {
        "id": "ArjscD5AWCVL"
      },
      "source": [
        "#### Remark: the outputs should be\n",
        "* Shape of y_train_vec: (50000, 10)\n",
        "* Shape of y_test_vec: (10000, 10)\n",
        "* [6]\n",
        "* [0. 0. 0. 0. 0. 0. 1. 0. 0. 0.]"
      ]
    },
    {
      "cell_type": "markdown",
      "metadata": {
        "id": "zO3Cn_MFWCVL"
      },
      "source": [
        "### 1.3. Randomly partition the training set to training and validation sets (5 points)\n",
        "\n",
        "Randomly partition the 50K training samples to 2 sets: \n",
        "* a training set containing 40K samples: x_tr, y_tr\n",
        "* a validation set containing 10K samples: x_val, y_val\n"
      ]
    },
    {
      "cell_type": "code",
      "execution_count": 9,
      "metadata": {
        "colab": {
          "base_uri": "https://localhost:8080/"
        },
        "id": "_jffNUbPWCVL",
        "outputId": "5219aab2-1d2f-4ca3-f3f6-3186b0a33c06"
      },
      "outputs": [
        {
          "output_type": "stream",
          "name": "stdout",
          "text": [
            "Shape of x_tr: (40000, 32, 32, 3)\n",
            "Shape of y_tr: (40000, 10)\n",
            "Shape of x_val: (10000, 32, 32, 3)\n",
            "Shape of y_val: (10000, 10)\n"
          ]
        }
      ],
      "source": [
        "rand_indices = np.random.permutation(50000)\n",
        "train_indices = rand_indices[0:40000]\n",
        "valid_indices = rand_indices[40000:50000]\n",
        "\n",
        "x_val = x_train[valid_indices, :]\n",
        "y_val = y_train_vec[valid_indices, :]\n",
        "\n",
        "x_tr = x_train[train_indices, :]\n",
        "y_tr = y_train_vec[train_indices, :]\n",
        "\n",
        "print('Shape of x_tr: ' + str(x_tr.shape))\n",
        "print('Shape of y_tr: ' + str(y_tr.shape))\n",
        "print('Shape of x_val: ' + str(x_val.shape))\n",
        "print('Shape of y_val: ' + str(y_val.shape))"
      ]
    },
    {
      "cell_type": "markdown",
      "metadata": {
        "id": "EdIhEl9dWCVL"
      },
      "source": [
        "## 2. Build a CNN and tune its hyper-parameters (50 points)\n",
        "\n",
        "- Build a convolutional neural network model using the below structure:\n",
        "\n",
        "- It should have a structure of: Conv - ReLU - Max Pool - ConV - ReLU - Max Pool - Dense - ReLU - Dense - Softmax\n",
        "\n",
        "- In the graph 3@32x32 means the dimension of input image, 32@30x30 means it has 32 filters and the dimension now becomes 30x30 after the convolution.\n",
        "- All convolutional layers (Conv) should have stride = 1 and no padding.\n",
        "- Max Pooling has a pool size of 2 by 2.\n",
        "\n",
        "\n"
      ]
    },
    {
      "cell_type": "markdown",
      "metadata": {
        "id": "yeXXZv5kWCVL"
      },
      "source": [
        "<img src=\"/content/network.PNG\"/>"
      ]
    },
    {
      "cell_type": "markdown",
      "metadata": {
        "id": "ZnfxyeV3WCVL"
      },
      "source": [
        "- You may use the validation data to tune the hyper-parameters (e.g., learning rate, and optimization algorithm)\n",
        "- Do NOT use test data for hyper-parameter tuning!!!\n",
        "- Try to achieve a validation accuracy as high as possible."
      ]
    },
    {
      "cell_type": "markdown",
      "metadata": {
        "id": "PgxzBKX7lC3S"
      },
      "source": [
        "## Original Model:"
      ]
    },
    {
      "cell_type": "code",
      "execution_count": null,
      "metadata": {
        "colab": {
          "base_uri": "https://localhost:8080/"
        },
        "id": "1FNLG75QWCVM",
        "outputId": "c0cf6351-1783-4dbd-ddd5-57bb0fbb7035"
      },
      "outputs": [
        {
          "output_type": "stream",
          "name": "stdout",
          "text": [
            "Model: \"sequential\"\n",
            "_________________________________________________________________\n",
            " Layer (type)                Output Shape              Param #   \n",
            "=================================================================\n",
            " conv2d (Conv2D)             (None, 30, 30, 32)        896       \n",
            "                                                                 \n",
            " max_pooling2d (MaxPooling2D  (None, 15, 15, 32)       0         \n",
            " )                                                               \n",
            "                                                                 \n",
            " conv2d_1 (Conv2D)           (None, 12, 12, 64)        32832     \n",
            "                                                                 \n",
            " max_pooling2d_1 (MaxPooling  (None, 6, 6, 64)         0         \n",
            " 2D)                                                             \n",
            "                                                                 \n",
            " flatten (Flatten)           (None, 2304)              0         \n",
            "                                                                 \n",
            " dense (Dense)               (None, 256)               590080    \n",
            "                                                                 \n",
            " dense_1 (Dense)             (None, 10)                2570      \n",
            "                                                                 \n",
            "=================================================================\n",
            "Total params: 626,378\n",
            "Trainable params: 626,378\n",
            "Non-trainable params: 0\n",
            "_________________________________________________________________\n"
          ]
        }
      ],
      "source": [
        "# Build the model\n",
        "\n",
        "from keras.layers import Conv2D, MaxPooling2D, Flatten, Dense, Dropout, Activation, BatchNormalization\n",
        "from keras.models import Sequential\n",
        "\n",
        "model = Sequential()\n",
        "model.add(Conv2D(32, (3, 3), activation = 'relu', input_shape=(32, 32, 3)))\n",
        "\n",
        "model.add(MaxPooling2D((2, 2)))\n",
        "\n",
        "model.add(Conv2D(64, (4, 4), activation = 'relu'))\n",
        "\n",
        "model.add(MaxPooling2D((2, 2)))\n",
        "\n",
        "model.add(Flatten())\n",
        "model.add(Dense(256, activation = 'relu'))\n",
        "model.add(Dense(10, activation='softmax'))\n",
        "\n",
        "model.summary()"
      ]
    },
    {
      "cell_type": "code",
      "execution_count": null,
      "metadata": {
        "id": "0sQuhHwYWCVM"
      },
      "outputs": [],
      "source": [
        "# Define model optimizer and loss function\n",
        "\n",
        "from tensorflow.keras import optimizers\n",
        "\n",
        "model.compile(loss='categorical_crossentropy', optimizer=optimizers.RMSprop(learning_rate = 0.0001) , metrics=['acc'])"
      ]
    },
    {
      "cell_type": "code",
      "execution_count": null,
      "metadata": {
        "colab": {
          "base_uri": "https://localhost:8080/"
        },
        "id": "tWFGioHoWCVM",
        "outputId": "f13148f8-def7-4584-b691-6b40260b1333"
      },
      "outputs": [
        {
          "output_type": "stream",
          "name": "stdout",
          "text": [
            "Epoch 1/100\n",
            "1000/1000 [==============================] - 20s 10ms/step - loss: 1.7683 - acc: 0.3729 - val_loss: 1.5341 - val_acc: 0.4584\n",
            "Epoch 2/100\n",
            "1000/1000 [==============================] - 9s 9ms/step - loss: 1.4608 - acc: 0.4847 - val_loss: 1.3600 - val_acc: 0.5209\n",
            "Epoch 3/100\n",
            "1000/1000 [==============================] - 10s 10ms/step - loss: 1.3324 - acc: 0.5334 - val_loss: 1.3018 - val_acc: 0.5297\n",
            "Epoch 4/100\n",
            "1000/1000 [==============================] - 10s 10ms/step - loss: 1.2465 - acc: 0.5688 - val_loss: 1.2122 - val_acc: 0.5703\n",
            "Epoch 5/100\n",
            "1000/1000 [==============================] - 10s 10ms/step - loss: 1.1808 - acc: 0.5912 - val_loss: 1.1587 - val_acc: 0.5915\n",
            "Epoch 6/100\n",
            "1000/1000 [==============================] - 11s 11ms/step - loss: 1.1248 - acc: 0.6108 - val_loss: 1.1258 - val_acc: 0.6009\n",
            "Epoch 7/100\n",
            "1000/1000 [==============================] - 10s 10ms/step - loss: 1.0793 - acc: 0.6252 - val_loss: 1.1044 - val_acc: 0.6097\n",
            "Epoch 8/100\n",
            "1000/1000 [==============================] - 10s 10ms/step - loss: 1.0393 - acc: 0.6430 - val_loss: 1.0572 - val_acc: 0.6263\n",
            "Epoch 9/100\n",
            "1000/1000 [==============================] - 9s 9ms/step - loss: 1.0037 - acc: 0.6549 - val_loss: 1.0546 - val_acc: 0.6261\n",
            "Epoch 10/100\n",
            "1000/1000 [==============================] - 10s 10ms/step - loss: 0.9733 - acc: 0.6643 - val_loss: 1.0491 - val_acc: 0.6327\n",
            "Epoch 11/100\n",
            "1000/1000 [==============================] - 9s 9ms/step - loss: 0.9452 - acc: 0.6747 - val_loss: 1.0102 - val_acc: 0.6467\n",
            "Epoch 12/100\n",
            "1000/1000 [==============================] - 9s 9ms/step - loss: 0.9161 - acc: 0.6825 - val_loss: 0.9863 - val_acc: 0.6512\n",
            "Epoch 13/100\n",
            "1000/1000 [==============================] - 9s 9ms/step - loss: 0.8903 - acc: 0.6951 - val_loss: 0.9989 - val_acc: 0.6487\n",
            "Epoch 14/100\n",
            "1000/1000 [==============================] - 10s 10ms/step - loss: 0.8660 - acc: 0.7022 - val_loss: 0.9411 - val_acc: 0.6700\n",
            "Epoch 15/100\n",
            "1000/1000 [==============================] - 10s 10ms/step - loss: 0.8438 - acc: 0.7126 - val_loss: 0.9626 - val_acc: 0.6644\n",
            "Epoch 16/100\n",
            "1000/1000 [==============================] - 10s 10ms/step - loss: 0.8198 - acc: 0.7192 - val_loss: 0.9236 - val_acc: 0.6846\n",
            "Epoch 17/100\n",
            "1000/1000 [==============================] - 9s 9ms/step - loss: 0.7960 - acc: 0.7290 - val_loss: 0.9333 - val_acc: 0.6758\n",
            "Epoch 18/100\n",
            "1000/1000 [==============================] - 9s 9ms/step - loss: 0.7740 - acc: 0.7342 - val_loss: 0.9656 - val_acc: 0.6693\n",
            "Epoch 19/100\n",
            "1000/1000 [==============================] - 9s 9ms/step - loss: 0.7536 - acc: 0.7414 - val_loss: 0.9067 - val_acc: 0.6885\n",
            "Epoch 20/100\n",
            "1000/1000 [==============================] - 9s 9ms/step - loss: 0.7338 - acc: 0.7510 - val_loss: 0.9327 - val_acc: 0.6790\n",
            "Epoch 21/100\n",
            "1000/1000 [==============================] - 9s 9ms/step - loss: 0.7128 - acc: 0.7564 - val_loss: 0.9229 - val_acc: 0.6823\n",
            "Epoch 22/100\n",
            "1000/1000 [==============================] - 9s 9ms/step - loss: 0.6917 - acc: 0.7642 - val_loss: 0.8799 - val_acc: 0.6988\n",
            "Epoch 23/100\n",
            "1000/1000 [==============================] - 10s 10ms/step - loss: 0.6730 - acc: 0.7728 - val_loss: 0.8998 - val_acc: 0.6932\n",
            "Epoch 24/100\n",
            "1000/1000 [==============================] - 10s 10ms/step - loss: 0.6557 - acc: 0.7777 - val_loss: 0.9224 - val_acc: 0.6830\n",
            "Epoch 25/100\n",
            "1000/1000 [==============================] - 9s 9ms/step - loss: 0.6364 - acc: 0.7839 - val_loss: 0.8770 - val_acc: 0.7043\n",
            "Epoch 26/100\n",
            "1000/1000 [==============================] - 10s 10ms/step - loss: 0.6157 - acc: 0.7926 - val_loss: 0.8873 - val_acc: 0.7043\n",
            "Epoch 27/100\n",
            "1000/1000 [==============================] - 10s 10ms/step - loss: 0.5980 - acc: 0.7966 - val_loss: 0.8814 - val_acc: 0.7037\n",
            "Epoch 28/100\n",
            "1000/1000 [==============================] - 9s 9ms/step - loss: 0.5794 - acc: 0.8037 - val_loss: 0.9760 - val_acc: 0.6765\n",
            "Epoch 29/100\n",
            "1000/1000 [==============================] - 9s 9ms/step - loss: 0.5616 - acc: 0.8117 - val_loss: 0.8789 - val_acc: 0.7075\n",
            "Epoch 30/100\n",
            "1000/1000 [==============================] - 9s 9ms/step - loss: 0.5445 - acc: 0.8165 - val_loss: 0.9354 - val_acc: 0.6912\n",
            "Epoch 31/100\n",
            "1000/1000 [==============================] - 10s 10ms/step - loss: 0.5262 - acc: 0.8257 - val_loss: 0.9099 - val_acc: 0.6962\n",
            "Epoch 32/100\n",
            "1000/1000 [==============================] - 10s 9ms/step - loss: 0.5079 - acc: 0.8298 - val_loss: 0.9176 - val_acc: 0.7027\n",
            "Epoch 33/100\n",
            "1000/1000 [==============================] - 10s 10ms/step - loss: 0.4902 - acc: 0.8375 - val_loss: 0.9152 - val_acc: 0.7024\n",
            "Epoch 34/100\n",
            "1000/1000 [==============================] - 9s 9ms/step - loss: 0.4725 - acc: 0.8415 - val_loss: 0.9208 - val_acc: 0.6982\n",
            "Epoch 35/100\n",
            "1000/1000 [==============================] - 10s 10ms/step - loss: 0.4570 - acc: 0.8480 - val_loss: 0.9254 - val_acc: 0.7052\n",
            "Epoch 36/100\n",
            "1000/1000 [==============================] - 10s 10ms/step - loss: 0.4390 - acc: 0.8558 - val_loss: 0.9082 - val_acc: 0.7119\n",
            "Epoch 37/100\n",
            "1000/1000 [==============================] - 10s 10ms/step - loss: 0.4222 - acc: 0.8615 - val_loss: 0.9198 - val_acc: 0.7086\n",
            "Epoch 38/100\n",
            "1000/1000 [==============================] - 10s 10ms/step - loss: 0.4068 - acc: 0.8667 - val_loss: 0.9379 - val_acc: 0.7068\n",
            "Epoch 39/100\n",
            "1000/1000 [==============================] - 10s 10ms/step - loss: 0.3902 - acc: 0.8719 - val_loss: 0.9427 - val_acc: 0.7076\n",
            "Epoch 40/100\n",
            "1000/1000 [==============================] - 10s 10ms/step - loss: 0.3754 - acc: 0.8786 - val_loss: 0.9342 - val_acc: 0.7104\n",
            "Epoch 41/100\n",
            "1000/1000 [==============================] - 10s 10ms/step - loss: 0.3608 - acc: 0.8827 - val_loss: 0.9586 - val_acc: 0.7068\n",
            "Epoch 42/100\n",
            "1000/1000 [==============================] - 9s 9ms/step - loss: 0.3442 - acc: 0.8895 - val_loss: 0.9783 - val_acc: 0.7067\n",
            "Epoch 43/100\n",
            "1000/1000 [==============================] - 9s 9ms/step - loss: 0.3299 - acc: 0.8946 - val_loss: 0.9796 - val_acc: 0.7050\n",
            "Epoch 44/100\n",
            "1000/1000 [==============================] - 10s 10ms/step - loss: 0.3144 - acc: 0.9003 - val_loss: 0.9965 - val_acc: 0.7077\n",
            "Epoch 45/100\n",
            "1000/1000 [==============================] - 9s 9ms/step - loss: 0.2993 - acc: 0.9054 - val_loss: 0.9803 - val_acc: 0.7133\n",
            "Epoch 46/100\n",
            "1000/1000 [==============================] - 10s 10ms/step - loss: 0.2850 - acc: 0.9105 - val_loss: 1.0210 - val_acc: 0.7060\n",
            "Epoch 47/100\n",
            "1000/1000 [==============================] - 10s 10ms/step - loss: 0.2706 - acc: 0.9163 - val_loss: 1.0402 - val_acc: 0.7028\n",
            "Epoch 48/100\n",
            "1000/1000 [==============================] - 9s 9ms/step - loss: 0.2574 - acc: 0.9206 - val_loss: 1.0450 - val_acc: 0.7079\n",
            "Epoch 49/100\n",
            "1000/1000 [==============================] - 9s 9ms/step - loss: 0.2447 - acc: 0.9259 - val_loss: 1.0436 - val_acc: 0.7081\n",
            "Epoch 50/100\n",
            "1000/1000 [==============================] - 9s 9ms/step - loss: 0.2309 - acc: 0.9300 - val_loss: 1.0979 - val_acc: 0.7058\n",
            "Epoch 51/100\n",
            "1000/1000 [==============================] - 9s 9ms/step - loss: 0.2187 - acc: 0.9348 - val_loss: 1.0982 - val_acc: 0.7061\n",
            "Epoch 52/100\n",
            "1000/1000 [==============================] - 10s 10ms/step - loss: 0.2067 - acc: 0.9392 - val_loss: 1.1534 - val_acc: 0.7015\n",
            "Epoch 53/100\n",
            "1000/1000 [==============================] - 10s 10ms/step - loss: 0.1939 - acc: 0.9437 - val_loss: 1.1094 - val_acc: 0.7121\n",
            "Epoch 54/100\n",
            "1000/1000 [==============================] - 10s 10ms/step - loss: 0.1825 - acc: 0.9485 - val_loss: 1.1833 - val_acc: 0.7030\n",
            "Epoch 55/100\n",
            "1000/1000 [==============================] - 10s 10ms/step - loss: 0.1726 - acc: 0.9510 - val_loss: 1.1822 - val_acc: 0.7031\n",
            "Epoch 56/100\n",
            "1000/1000 [==============================] - 10s 10ms/step - loss: 0.1625 - acc: 0.9553 - val_loss: 1.1803 - val_acc: 0.7053\n",
            "Epoch 57/100\n",
            "1000/1000 [==============================] - 9s 9ms/step - loss: 0.1511 - acc: 0.9591 - val_loss: 1.2457 - val_acc: 0.6953\n",
            "Epoch 58/100\n",
            "1000/1000 [==============================] - 9s 9ms/step - loss: 0.1421 - acc: 0.9613 - val_loss: 1.2126 - val_acc: 0.7104\n",
            "Epoch 59/100\n",
            "1000/1000 [==============================] - 10s 10ms/step - loss: 0.1315 - acc: 0.9657 - val_loss: 1.2604 - val_acc: 0.7052\n",
            "Epoch 60/100\n",
            "1000/1000 [==============================] - 9s 9ms/step - loss: 0.1212 - acc: 0.9681 - val_loss: 1.2503 - val_acc: 0.7077\n",
            "Epoch 61/100\n",
            "1000/1000 [==============================] - 9s 9ms/step - loss: 0.1145 - acc: 0.9708 - val_loss: 1.3193 - val_acc: 0.7001\n",
            "Epoch 62/100\n",
            "1000/1000 [==============================] - 9s 9ms/step - loss: 0.1054 - acc: 0.9729 - val_loss: 1.3521 - val_acc: 0.6993\n",
            "Epoch 63/100\n",
            "1000/1000 [==============================] - 10s 10ms/step - loss: 0.0984 - acc: 0.9755 - val_loss: 1.3459 - val_acc: 0.7067\n",
            "Epoch 64/100\n",
            "1000/1000 [==============================] - 9s 9ms/step - loss: 0.0910 - acc: 0.9788 - val_loss: 1.4266 - val_acc: 0.6926\n",
            "Epoch 65/100\n",
            "1000/1000 [==============================] - 9s 9ms/step - loss: 0.0839 - acc: 0.9806 - val_loss: 1.3925 - val_acc: 0.7033\n",
            "Epoch 66/100\n",
            "1000/1000 [==============================] - 10s 10ms/step - loss: 0.0773 - acc: 0.9827 - val_loss: 1.4157 - val_acc: 0.7026\n",
            "Epoch 67/100\n",
            "1000/1000 [==============================] - 10s 10ms/step - loss: 0.0716 - acc: 0.9842 - val_loss: 1.4939 - val_acc: 0.7000\n",
            "Epoch 68/100\n",
            "1000/1000 [==============================] - 10s 9ms/step - loss: 0.0659 - acc: 0.9854 - val_loss: 1.5441 - val_acc: 0.6998\n",
            "Epoch 69/100\n",
            "1000/1000 [==============================] - 10s 10ms/step - loss: 0.0611 - acc: 0.9876 - val_loss: 1.5014 - val_acc: 0.7012\n",
            "Epoch 70/100\n",
            "1000/1000 [==============================] - 10s 10ms/step - loss: 0.0554 - acc: 0.9893 - val_loss: 1.5673 - val_acc: 0.6988\n",
            "Epoch 71/100\n",
            "1000/1000 [==============================] - 10s 10ms/step - loss: 0.0516 - acc: 0.9891 - val_loss: 1.5700 - val_acc: 0.7025\n",
            "Epoch 72/100\n",
            "1000/1000 [==============================] - 9s 9ms/step - loss: 0.0470 - acc: 0.9909 - val_loss: 1.6097 - val_acc: 0.7027\n",
            "Epoch 73/100\n",
            "1000/1000 [==============================] - 10s 10ms/step - loss: 0.0429 - acc: 0.9916 - val_loss: 1.6743 - val_acc: 0.6989\n",
            "Epoch 74/100\n",
            "1000/1000 [==============================] - 9s 9ms/step - loss: 0.0396 - acc: 0.9928 - val_loss: 1.6653 - val_acc: 0.7049\n",
            "Epoch 75/100\n",
            "1000/1000 [==============================] - 9s 9ms/step - loss: 0.0365 - acc: 0.9933 - val_loss: 1.7583 - val_acc: 0.6920\n",
            "Epoch 76/100\n",
            "1000/1000 [==============================] - 9s 9ms/step - loss: 0.0337 - acc: 0.9944 - val_loss: 1.7552 - val_acc: 0.6981\n",
            "Epoch 77/100\n",
            "1000/1000 [==============================] - 9s 9ms/step - loss: 0.0308 - acc: 0.9949 - val_loss: 1.7792 - val_acc: 0.7008\n",
            "Epoch 78/100\n",
            "1000/1000 [==============================] - 9s 9ms/step - loss: 0.0289 - acc: 0.9952 - val_loss: 1.8006 - val_acc: 0.7013\n",
            "Epoch 79/100\n",
            "1000/1000 [==============================] - 9s 9ms/step - loss: 0.0264 - acc: 0.9955 - val_loss: 1.8772 - val_acc: 0.7008\n",
            "Epoch 80/100\n",
            "1000/1000 [==============================] - 9s 9ms/step - loss: 0.0242 - acc: 0.9959 - val_loss: 2.0509 - val_acc: 0.6834\n",
            "Epoch 81/100\n",
            "1000/1000 [==============================] - 10s 10ms/step - loss: 0.0222 - acc: 0.9962 - val_loss: 1.8676 - val_acc: 0.7009\n",
            "Epoch 82/100\n",
            "1000/1000 [==============================] - 9s 9ms/step - loss: 0.0206 - acc: 0.9967 - val_loss: 1.8878 - val_acc: 0.7025\n",
            "Epoch 83/100\n",
            "1000/1000 [==============================] - 10s 10ms/step - loss: 0.0185 - acc: 0.9974 - val_loss: 1.9375 - val_acc: 0.7016\n",
            "Epoch 84/100\n",
            "1000/1000 [==============================] - 10s 10ms/step - loss: 0.0179 - acc: 0.9966 - val_loss: 1.9668 - val_acc: 0.6992\n",
            "Epoch 85/100\n",
            "1000/1000 [==============================] - 10s 10ms/step - loss: 0.0159 - acc: 0.9974 - val_loss: 2.0741 - val_acc: 0.6924\n",
            "Epoch 86/100\n",
            "1000/1000 [==============================] - 9s 9ms/step - loss: 0.0153 - acc: 0.9974 - val_loss: 2.0722 - val_acc: 0.7003\n",
            "Epoch 87/100\n",
            "1000/1000 [==============================] - 9s 9ms/step - loss: 0.0145 - acc: 0.9973 - val_loss: 2.0597 - val_acc: 0.7035\n",
            "Epoch 88/100\n",
            "1000/1000 [==============================] - 10s 10ms/step - loss: 0.0134 - acc: 0.9978 - val_loss: 2.1036 - val_acc: 0.7005\n",
            "Epoch 89/100\n",
            "1000/1000 [==============================] - 10s 10ms/step - loss: 0.0125 - acc: 0.9980 - val_loss: 2.1366 - val_acc: 0.7006\n",
            "Epoch 90/100\n",
            "1000/1000 [==============================] - 10s 10ms/step - loss: 0.0119 - acc: 0.9979 - val_loss: 2.1312 - val_acc: 0.7027\n",
            "Epoch 91/100\n",
            "1000/1000 [==============================] - 9s 9ms/step - loss: 0.0107 - acc: 0.9985 - val_loss: 2.1963 - val_acc: 0.7017\n",
            "Epoch 92/100\n",
            "1000/1000 [==============================] - 10s 10ms/step - loss: 0.0102 - acc: 0.9984 - val_loss: 2.3009 - val_acc: 0.6988\n",
            "Epoch 93/100\n",
            "1000/1000 [==============================] - 9s 9ms/step - loss: 0.0097 - acc: 0.9980 - val_loss: 2.4203 - val_acc: 0.6876\n",
            "Epoch 94/100\n",
            "1000/1000 [==============================] - 10s 10ms/step - loss: 0.0098 - acc: 0.9980 - val_loss: 2.2773 - val_acc: 0.7013\n",
            "Epoch 95/100\n",
            "1000/1000 [==============================] - 9s 9ms/step - loss: 0.0090 - acc: 0.9982 - val_loss: 2.2772 - val_acc: 0.6999\n",
            "Epoch 96/100\n",
            "1000/1000 [==============================] - 9s 9ms/step - loss: 0.0090 - acc: 0.9981 - val_loss: 2.3063 - val_acc: 0.7006\n",
            "Epoch 97/100\n",
            "1000/1000 [==============================] - 10s 10ms/step - loss: 0.0081 - acc: 0.9984 - val_loss: 2.3292 - val_acc: 0.6975\n",
            "Epoch 98/100\n",
            "1000/1000 [==============================] - 10s 10ms/step - loss: 0.0088 - acc: 0.9980 - val_loss: 2.4172 - val_acc: 0.6960\n",
            "Epoch 99/100\n",
            "1000/1000 [==============================] - 9s 9ms/step - loss: 0.0071 - acc: 0.9987 - val_loss: 2.5172 - val_acc: 0.6913\n",
            "Epoch 100/100\n",
            "1000/1000 [==============================] - 10s 10ms/step - loss: 0.0072 - acc: 0.9985 - val_loss: 2.4572 - val_acc: 0.6980\n"
          ]
        }
      ],
      "source": [
        "# Train the model and store model parameters/loss values\n",
        "\n",
        "history_orig = model.fit(x_tr, y_tr, batch_size=40, epochs=100, validation_data=(x_val, y_val))\n",
        "model.save('original_model.h5')"
      ]
    },
    {
      "cell_type": "markdown",
      "metadata": {
        "id": "hgI3M_dhWCVM"
      },
      "source": [
        "## 3. Plot the training and validation loss curve versus epochs. (5 points)"
      ]
    },
    {
      "cell_type": "code",
      "execution_count": null,
      "metadata": {
        "colab": {
          "base_uri": "https://localhost:8080/",
          "height": 279
        },
        "id": "J6ONkvzmWCVM",
        "outputId": "080df723-6fe8-4cc4-b0d7-648679ee974a"
      },
      "outputs": [
        {
          "output_type": "display_data",
          "data": {
            "text/plain": [
              "<Figure size 432x288 with 1 Axes>"
            ],
            "image/png": "[encoded data removed]"
          },
          "metadata": {
            "needs_background": "light"
          }
        }
      ],
      "source": [
        "# Plot the loss curve\n",
        "\n",
        "import matplotlib.pyplot as plt\n",
        "%matplotlib inline\n",
        "\n",
        "acc = history_orig.history['acc']\n",
        "val_acc = history_orig.history['val_acc']\n",
        "\n",
        "epochs = range(len(acc))\n",
        "\n",
        "plt.plot(epochs, acc, 'bo', label='Training acc')\n",
        "plt.plot(epochs, val_acc, 'r', label='Validation acc')\n",
        "plt.xlabel('Epochs')\n",
        "plt.ylabel('Accuracy')\n",
        "plt.legend()\n",
        "plt.show()"
      ]
    },
    {
      "cell_type": "markdown",
      "metadata": {
        "id": "QYljmUOcWCVM"
      },
      "source": [
        "## 4. Train (again) and evaluate the model (5 points)\n",
        "\n",
        "- To this end, you have found the \"best\" hyper-parameters. \n",
        "- Now, fix the hyper-parameters and train the network on the entire training set (all the 50K training samples)\n",
        "- Evaluate your model on the test set."
      ]
    },
    {
      "cell_type": "markdown",
      "metadata": {
        "id": "0W73oG3FWCVM"
      },
      "source": [
        "### Train the model on the entire training set\n",
        "\n",
        "Why? Previously, you used 40K samples for training; you wasted 10K samples for the sake of hyper-parameter tuning. Now you already know the hyper-parameters, so why not using all the 50K samples for training?"
      ]
    },
    {
      "cell_type": "code",
      "execution_count": null,
      "metadata": {
        "id": "MyPO7FtmWCVM"
      },
      "outputs": [],
      "source": [
        "#<Compile your model again (using the same hyper-parameters you tuned above)>\n",
        "\n",
        "from keras.layers import Conv2D, MaxPooling2D, Flatten, Dense, Dropout, Activation, BatchNormalization\n",
        "from keras.models import Sequential\n",
        "\n",
        "model = Sequential()\n",
        "model.add(Conv2D(32, (3, 3), activation = 'relu', input_shape=(32, 32, 3)))\n",
        "\n",
        "model.add(MaxPooling2D((2, 2)))\n",
        "\n",
        "model.add(Conv2D(64, (4, 4), activation = 'relu'))\n",
        "\n",
        "model.add(MaxPooling2D((2, 2)))\n",
        "\n",
        "model.add(Flatten())\n",
        "model.add(Dense(256, activation = 'relu'))\n",
        "model.add(Dense(10, activation='softmax'))\n",
        "\n",
        "from tensorflow.keras import optimizers\n",
        "\n",
        "model.compile(loss='categorical_crossentropy', optimizer=optimizers.RMSprop(learning_rate = 0.0001) , metrics=['acc'])"
      ]
    },
    {
      "cell_type": "code",
      "execution_count": null,
      "metadata": {
        "colab": {
          "base_uri": "https://localhost:8080/"
        },
        "id": "cboJi14xWCVM",
        "outputId": "b86854bb-7841-44ac-fcca-54e33555616b"
      },
      "outputs": [
        {
          "output_type": "stream",
          "name": "stdout",
          "text": [
            "Epoch 1/100\n",
            "1250/1250 [==============================] - 11s 8ms/step - loss: 1.7233 - acc: 0.3901\n",
            "Epoch 2/100\n",
            "1250/1250 [==============================] - 11s 8ms/step - loss: 1.4056 - acc: 0.5018\n",
            "Epoch 3/100\n",
            "1250/1250 [==============================] - 11s 8ms/step - loss: 1.2816 - acc: 0.5486\n",
            "Epoch 4/100\n",
            "1250/1250 [==============================] - 11s 9ms/step - loss: 1.1984 - acc: 0.5807\n",
            "Epoch 5/100\n",
            "1250/1250 [==============================] - 11s 9ms/step - loss: 1.1293 - acc: 0.6069\n",
            "Epoch 6/100\n",
            "1250/1250 [==============================] - 11s 9ms/step - loss: 1.0736 - acc: 0.6251\n",
            "Epoch 7/100\n",
            "1250/1250 [==============================] - 13s 11ms/step - loss: 1.0270 - acc: 0.6424\n",
            "Epoch 8/100\n",
            "1250/1250 [==============================] - 12s 10ms/step - loss: 0.9852 - acc: 0.6585\n",
            "Epoch 9/100\n",
            "1250/1250 [==============================] - 11s 9ms/step - loss: 0.9502 - acc: 0.6713\n",
            "Epoch 10/100\n",
            "1250/1250 [==============================] - 11s 9ms/step - loss: 0.9191 - acc: 0.6832\n",
            "Epoch 11/100\n",
            "1250/1250 [==============================] - 12s 9ms/step - loss: 0.8902 - acc: 0.6922\n",
            "Epoch 12/100\n",
            "1250/1250 [==============================] - 13s 11ms/step - loss: 0.8620 - acc: 0.7030\n",
            "Epoch 13/100\n",
            "1250/1250 [==============================] - 14s 11ms/step - loss: 0.8362 - acc: 0.7105\n",
            "Epoch 14/100\n",
            "1250/1250 [==============================] - 12s 10ms/step - loss: 0.8119 - acc: 0.7210\n",
            "Epoch 15/100\n",
            "1250/1250 [==============================] - 11s 9ms/step - loss: 0.7897 - acc: 0.7285\n",
            "Epoch 16/100\n",
            "1250/1250 [==============================] - 11s 9ms/step - loss: 0.7665 - acc: 0.7369\n",
            "Epoch 17/100\n",
            "1250/1250 [==============================] - 11s 9ms/step - loss: 0.7446 - acc: 0.7432\n",
            "Epoch 18/100\n",
            "1250/1250 [==============================] - 11s 9ms/step - loss: 0.7209 - acc: 0.7535\n",
            "Epoch 19/100\n",
            "1250/1250 [==============================] - 12s 9ms/step - loss: 0.7019 - acc: 0.7576\n",
            "Epoch 20/100\n",
            "1250/1250 [==============================] - 12s 9ms/step - loss: 0.6818 - acc: 0.7660\n",
            "Epoch 21/100\n",
            "1250/1250 [==============================] - 11s 9ms/step - loss: 0.6610 - acc: 0.7740\n",
            "Epoch 22/100\n",
            "1250/1250 [==============================] - 12s 10ms/step - loss: 0.6408 - acc: 0.7813\n",
            "Epoch 23/100\n",
            "1250/1250 [==============================] - 10s 8ms/step - loss: 0.6219 - acc: 0.7882\n",
            "Epoch 24/100\n",
            "1250/1250 [==============================] - 11s 8ms/step - loss: 0.6022 - acc: 0.7930\n",
            "Epoch 25/100\n",
            "1250/1250 [==============================] - 11s 8ms/step - loss: 0.5838 - acc: 0.8008\n",
            "Epoch 26/100\n",
            "1250/1250 [==============================] - 11s 8ms/step - loss: 0.5664 - acc: 0.8073\n",
            "Epoch 27/100\n",
            "1250/1250 [==============================] - 11s 9ms/step - loss: 0.5477 - acc: 0.8149\n",
            "Epoch 28/100\n",
            "1250/1250 [==============================] - 11s 9ms/step - loss: 0.5309 - acc: 0.8205\n",
            "Epoch 29/100\n",
            "1250/1250 [==============================] - 11s 8ms/step - loss: 0.5100 - acc: 0.8276\n",
            "Epoch 30/100\n",
            "1250/1250 [==============================] - 11s 9ms/step - loss: 0.4953 - acc: 0.8332\n",
            "Epoch 31/100\n",
            "1250/1250 [==============================] - 11s 9ms/step - loss: 0.4763 - acc: 0.8400\n",
            "Epoch 32/100\n",
            "1250/1250 [==============================] - 11s 9ms/step - loss: 0.4610 - acc: 0.8444\n",
            "Epoch 33/100\n",
            "1250/1250 [==============================] - 11s 8ms/step - loss: 0.4431 - acc: 0.8511\n",
            "Epoch 34/100\n",
            "1250/1250 [==============================] - 11s 9ms/step - loss: 0.4265 - acc: 0.8579\n",
            "Epoch 35/100\n",
            "1250/1250 [==============================] - 11s 9ms/step - loss: 0.4117 - acc: 0.8624\n",
            "Epoch 36/100\n",
            "1250/1250 [==============================] - 11s 9ms/step - loss: 0.3937 - acc: 0.8693\n",
            "Epoch 37/100\n",
            "1250/1250 [==============================] - 11s 9ms/step - loss: 0.3795 - acc: 0.8731\n",
            "Epoch 38/100\n",
            "1250/1250 [==============================] - 11s 9ms/step - loss: 0.3636 - acc: 0.8809\n",
            "Epoch 39/100\n",
            "1250/1250 [==============================] - 11s 9ms/step - loss: 0.3472 - acc: 0.8874\n",
            "Epoch 40/100\n",
            "1250/1250 [==============================] - 11s 9ms/step - loss: 0.3336 - acc: 0.8916\n",
            "Epoch 41/100\n",
            "1250/1250 [==============================] - 11s 8ms/step - loss: 0.3192 - acc: 0.8964\n",
            "Epoch 42/100\n",
            "1250/1250 [==============================] - 11s 9ms/step - loss: 0.3052 - acc: 0.9014\n",
            "Epoch 43/100\n",
            "1250/1250 [==============================] - 11s 9ms/step - loss: 0.2910 - acc: 0.9068\n",
            "Epoch 44/100\n",
            "1250/1250 [==============================] - 11s 8ms/step - loss: 0.2759 - acc: 0.9138\n",
            "Epoch 45/100\n",
            "1250/1250 [==============================] - 11s 8ms/step - loss: 0.2622 - acc: 0.9163\n",
            "Epoch 46/100\n",
            "1250/1250 [==============================] - 11s 8ms/step - loss: 0.2504 - acc: 0.9230\n",
            "Epoch 47/100\n",
            "1250/1250 [==============================] - 11s 8ms/step - loss: 0.2377 - acc: 0.9261\n",
            "Epoch 48/100\n",
            "1250/1250 [==============================] - 11s 9ms/step - loss: 0.2241 - acc: 0.9304\n",
            "Epoch 49/100\n",
            "1250/1250 [==============================] - 11s 9ms/step - loss: 0.2108 - acc: 0.9363\n",
            "Epoch 50/100\n",
            "1250/1250 [==============================] - 11s 9ms/step - loss: 0.2009 - acc: 0.9397\n",
            "Epoch 51/100\n",
            "1250/1250 [==============================] - 11s 9ms/step - loss: 0.1882 - acc: 0.9451\n",
            "Epoch 52/100\n",
            "1250/1250 [==============================] - 11s 9ms/step - loss: 0.1764 - acc: 0.9488\n",
            "Epoch 53/100\n",
            "1250/1250 [==============================] - 11s 9ms/step - loss: 0.1675 - acc: 0.9513\n",
            "Epoch 54/100\n",
            "1250/1250 [==============================] - 11s 9ms/step - loss: 0.1563 - acc: 0.9548\n",
            "Epoch 55/100\n",
            "1250/1250 [==============================] - 11s 9ms/step - loss: 0.1463 - acc: 0.9581\n",
            "Epoch 56/100\n",
            "1250/1250 [==============================] - 11s 9ms/step - loss: 0.1359 - acc: 0.9620\n",
            "Epoch 57/100\n",
            "1250/1250 [==============================] - 11s 9ms/step - loss: 0.1263 - acc: 0.9654\n",
            "Epoch 58/100\n",
            "1250/1250 [==============================] - 11s 9ms/step - loss: 0.1178 - acc: 0.9685\n",
            "Epoch 59/100\n",
            "1250/1250 [==============================] - 11s 9ms/step - loss: 0.1094 - acc: 0.9710\n",
            "Epoch 60/100\n",
            "1250/1250 [==============================] - 11s 9ms/step - loss: 0.1023 - acc: 0.9739\n",
            "Epoch 61/100\n",
            "1250/1250 [==============================] - 11s 9ms/step - loss: 0.0943 - acc: 0.9768\n",
            "Epoch 62/100\n",
            "1250/1250 [==============================] - 11s 8ms/step - loss: 0.0874 - acc: 0.9779\n",
            "Epoch 63/100\n",
            "1250/1250 [==============================] - 11s 9ms/step - loss: 0.0803 - acc: 0.9804\n",
            "Epoch 64/100\n",
            "1250/1250 [==============================] - 11s 9ms/step - loss: 0.0738 - acc: 0.9826\n",
            "Epoch 65/100\n",
            "1250/1250 [==============================] - 11s 9ms/step - loss: 0.0687 - acc: 0.9839\n",
            "Epoch 66/100\n",
            "1250/1250 [==============================] - 11s 9ms/step - loss: 0.0636 - acc: 0.9857\n",
            "Epoch 67/100\n",
            "1250/1250 [==============================] - 11s 9ms/step - loss: 0.0579 - acc: 0.9870\n",
            "Epoch 68/100\n",
            "1250/1250 [==============================] - 11s 9ms/step - loss: 0.0534 - acc: 0.9886\n",
            "Epoch 69/100\n",
            "1250/1250 [==============================] - 11s 9ms/step - loss: 0.0487 - acc: 0.9898\n",
            "Epoch 70/100\n",
            "1250/1250 [==============================] - 11s 9ms/step - loss: 0.0452 - acc: 0.9907\n",
            "Epoch 71/100\n",
            "1250/1250 [==============================] - 11s 8ms/step - loss: 0.0403 - acc: 0.9924\n",
            "Epoch 72/100\n",
            "1250/1250 [==============================] - 11s 9ms/step - loss: 0.0384 - acc: 0.9922\n",
            "Epoch 73/100\n",
            "1250/1250 [==============================] - 11s 9ms/step - loss: 0.0340 - acc: 0.9940\n",
            "Epoch 74/100\n",
            "1250/1250 [==============================] - 11s 9ms/step - loss: 0.0315 - acc: 0.9943\n",
            "Epoch 75/100\n",
            "1250/1250 [==============================] - 11s 9ms/step - loss: 0.0295 - acc: 0.9942\n",
            "Epoch 76/100\n",
            "1250/1250 [==============================] - 11s 9ms/step - loss: 0.0273 - acc: 0.9946\n",
            "Epoch 77/100\n",
            "1250/1250 [==============================] - 11s 9ms/step - loss: 0.0247 - acc: 0.9958\n",
            "Epoch 78/100\n",
            "1250/1250 [==============================] - 11s 9ms/step - loss: 0.0242 - acc: 0.9954\n",
            "Epoch 79/100\n",
            "1250/1250 [==============================] - 11s 9ms/step - loss: 0.0219 - acc: 0.9958\n",
            "Epoch 80/100\n",
            "1250/1250 [==============================] - 11s 9ms/step - loss: 0.0200 - acc: 0.9963\n",
            "Epoch 81/100\n",
            "1250/1250 [==============================] - 11s 9ms/step - loss: 0.0184 - acc: 0.9967\n",
            "Epoch 82/100\n",
            "1250/1250 [==============================] - 11s 9ms/step - loss: 0.0182 - acc: 0.9963\n",
            "Epoch 83/100\n",
            "1250/1250 [==============================] - 11s 9ms/step - loss: 0.0158 - acc: 0.9975\n",
            "Epoch 84/100\n",
            "1250/1250 [==============================] - 11s 8ms/step - loss: 0.0153 - acc: 0.9974\n",
            "Epoch 85/100\n",
            "1250/1250 [==============================] - 11s 9ms/step - loss: 0.0142 - acc: 0.9975\n",
            "Epoch 86/100\n",
            "1250/1250 [==============================] - 11s 8ms/step - loss: 0.0130 - acc: 0.9977\n",
            "Epoch 87/100\n",
            "1250/1250 [==============================] - 11s 9ms/step - loss: 0.0123 - acc: 0.9978\n",
            "Epoch 88/100\n",
            "1250/1250 [==============================] - 11s 9ms/step - loss: 0.0114 - acc: 0.9980\n",
            "Epoch 89/100\n",
            "1250/1250 [==============================] - 11s 9ms/step - loss: 0.0114 - acc: 0.9976\n",
            "Epoch 90/100\n",
            "1250/1250 [==============================] - 11s 9ms/step - loss: 0.0108 - acc: 0.9979\n",
            "Epoch 91/100\n",
            "1250/1250 [==============================] - 11s 9ms/step - loss: 0.0093 - acc: 0.9984\n",
            "Epoch 92/100\n",
            "1250/1250 [==============================] - 11s 9ms/step - loss: 0.0100 - acc: 0.9980\n",
            "Epoch 93/100\n",
            "1250/1250 [==============================] - 11s 9ms/step - loss: 0.0096 - acc: 0.9981\n",
            "Epoch 94/100\n",
            "1250/1250 [==============================] - 11s 9ms/step - loss: 0.0091 - acc: 0.9980\n",
            "Epoch 95/100\n",
            "1250/1250 [==============================] - 11s 9ms/step - loss: 0.0081 - acc: 0.9985\n",
            "Epoch 96/100\n",
            "1250/1250 [==============================] - 11s 9ms/step - loss: 0.0080 - acc: 0.9984\n",
            "Epoch 97/100\n",
            "1250/1250 [==============================] - 11s 9ms/step - loss: 0.0079 - acc: 0.9983\n",
            "Epoch 98/100\n",
            "1250/1250 [==============================] - 11s 9ms/step - loss: 0.0073 - acc: 0.9984\n",
            "Epoch 99/100\n",
            "1250/1250 [==============================] - 11s 9ms/step - loss: 0.0073 - acc: 0.9985\n",
            "Epoch 100/100\n",
            "1250/1250 [==============================] - 11s 9ms/step - loss: 0.0066 - acc: 0.9988\n"
          ]
        }
      ],
      "source": [
        "#<Train your model on the entire training set (50K samples)>\n",
        "\n",
        "history_final = model.fit(x_train, y_train_vec, batch_size=40, epochs=100)\n",
        "model.save('final_model.h5')"
      ]
    },
    {
      "cell_type": "markdown",
      "metadata": {
        "id": "OxY36XYmWCVM"
      },
      "source": [
        "## 5. Evaluate the model on the test set (5 points)\n",
        "\n",
        "Do NOT used the test set until now. Make sure that your model parameters and hyper-parameters are independent of the test set."
      ]
    },
    {
      "cell_type": "code",
      "execution_count": null,
      "metadata": {
        "colab": {
          "base_uri": "https://localhost:8080/"
        },
        "id": "bzAdO2M1WCVM",
        "outputId": "eacb8507-e011-4892-d3f7-152c5b6a11d5"
      },
      "outputs": [
        {
          "output_type": "stream",
          "name": "stdout",
          "text": [
            "313/313 [==============================] - 2s 4ms/step - loss: 2.4996 - acc: 0.6904\n",
            "loss = 2.499619960784912\n",
            "accuracy = 0.6904000043869019\n"
          ]
        }
      ],
      "source": [
        "# Evaluate your model performance (testing accuracy) on testing data.\n",
        "\n",
        "from keras.models import load_model\n",
        "model = load_model('original_model.h5')\n",
        "loss_and_acc = model.evaluate(x_test, y_test_vec)\n",
        "print('loss = ' + str(loss_and_acc[0]))\n",
        "print('accuracy = ' + str(loss_and_acc[1]))"
      ]
    },
    {
      "cell_type": "code",
      "execution_count": null,
      "metadata": {
        "colab": {
          "base_uri": "https://localhost:8080/"
        },
        "id": "Yhfs40D7yo5M",
        "outputId": "f440d425-133b-42f5-c0f6-42f73d9bc18c"
      },
      "outputs": [
        {
          "output_type": "stream",
          "name": "stdout",
          "text": [
            "313/313 [==============================] - 2s 4ms/step - loss: 2.5541 - acc: 0.7035\n",
            "loss = 2.5541446208953857\n",
            "accuracy = 0.703499972820282\n"
          ]
        }
      ],
      "source": [
        "# Evaluate your model performance (testing accuracy) on testing data.\n",
        "\n",
        "from keras.models import load_model\n",
        "model = load_model('final_model.h5')\n",
        "loss_and_acc = model.evaluate(x_test, y_test_vec)\n",
        "print('loss = ' + str(loss_and_acc[0]))\n",
        "print('accuracy = ' + str(loss_and_acc[1]))"
      ]
    },
    {
      "cell_type": "markdown",
      "metadata": {
        "id": "jUjql8w_WCVM"
      },
      "source": [
        "## 6. Building model with new structure (25 points)\n",
        "- In this section, you can build your model with adding new layers (e.g, BN layer or dropout layer, ...).\n",
        "- If you want to regularize a ```Conv/Dense layer```, you should place a ```Dropout layer``` before the ```Conv/Dense layer```.\n",
        "- You can try to compare their loss curve and testing accuracy and analyze your findings.\n",
        "- You need to try at lease two different model structures."
      ]
    },
    {
      "cell_type": "markdown",
      "metadata": {
        "id": "w8fUnkgMj-jb"
      },
      "source": [
        "## Model 1 (BN + Data_Augmentation):"
      ]
    },
    {
      "cell_type": "code",
      "execution_count": null,
      "metadata": {
        "colab": {
          "base_uri": "https://localhost:8080/"
        },
        "id": "YJtXZSyIWCVM",
        "outputId": "6b7ba5c7-d09d-4e61-d6e9-cc2ae0e915b0"
      },
      "outputs": [
        {
          "output_type": "stream",
          "name": "stdout",
          "text": [
            "Model: \"sequential\"\n",
            "_________________________________________________________________\n",
            " Layer (type)                Output Shape              Param #   \n",
            "=================================================================\n",
            " conv2d (Conv2D)             (None, 30, 30, 32)        896       \n",
            "                                                                 \n",
            " batch_normalization (BatchN  (None, 30, 30, 32)       128       \n",
            " ormalization)                                                   \n",
            "                                                                 \n",
            " activation (Activation)     (None, 30, 30, 32)        0         \n",
            "                                                                 \n",
            " max_pooling2d (MaxPooling2D  (None, 15, 15, 32)       0         \n",
            " )                                                               \n",
            "                                                                 \n",
            " conv2d_1 (Conv2D)           (None, 12, 12, 64)        32832     \n",
            "                                                                 \n",
            " batch_normalization_1 (Batc  (None, 12, 12, 64)       256       \n",
            " hNormalization)                                                 \n",
            "                                                                 \n",
            " activation_1 (Activation)   (None, 12, 12, 64)        0         \n",
            "                                                                 \n",
            " max_pooling2d_1 (MaxPooling  (None, 6, 6, 64)         0         \n",
            " 2D)                                                             \n",
            "                                                                 \n",
            " flatten (Flatten)           (None, 2304)              0         \n",
            "                                                                 \n",
            " dense (Dense)               (None, 256)               590080    \n",
            "                                                                 \n",
            " batch_normalization_2 (Batc  (None, 256)              1024      \n",
            " hNormalization)                                                 \n",
            "                                                                 \n",
            " activation_2 (Activation)   (None, 256)               0         \n",
            "                                                                 \n",
            " dense_1 (Dense)             (None, 10)                2570      \n",
            "                                                                 \n",
            "=================================================================\n",
            "Total params: 627,786\n",
            "Trainable params: 627,082\n",
            "Non-trainable params: 704\n",
            "_________________________________________________________________\n"
          ]
        }
      ],
      "source": [
        "# Build the model\n",
        "\n",
        "from keras.layers import Conv2D, MaxPooling2D, Flatten, Dense, Dropout, Activation, BatchNormalization\n",
        "from keras.models import Sequential\n",
        "\n",
        "model = Sequential()\n",
        "model.add(Conv2D(32, (3, 3), input_shape=(32, 32, 3)))\n",
        "model.add(BatchNormalization())\n",
        "model.add(Activation('relu'))\n",
        "\n",
        "model.add(MaxPooling2D((2, 2)))\n",
        "\n",
        "model.add(Conv2D(64, (4, 4)))\n",
        "model.add(BatchNormalization())\n",
        "model.add(Activation('relu'))\n",
        "\n",
        "model.add(MaxPooling2D((2, 2)))\n",
        "\n",
        "model.add(Flatten())\n",
        "model.add(Dense(256))\n",
        "model.add(BatchNormalization())\n",
        "model.add(Activation('relu'))\n",
        "\n",
        "model.add(Dense(10, activation='softmax'))\n",
        "\n",
        "model.summary()"
      ]
    },
    {
      "cell_type": "code",
      "execution_count": null,
      "metadata": {
        "id": "zPZZb7V3O6Ln"
      },
      "outputs": [],
      "source": [
        "# Using data augmentation\n",
        "\n",
        "from tensorflow.keras.preprocessing.image import ImageDataGenerator\n",
        "train_datagen = ImageDataGenerator(\n",
        "    rotation_range=20,\n",
        "    width_shift_range=0.2,\n",
        "    height_shift_range=0.2,\n",
        "    shear_range = 0.2,\n",
        "    zoom_range = 0.2,\n",
        "    horizontal_flip=True)"
      ]
    },
    {
      "cell_type": "code",
      "execution_count": null,
      "metadata": {
        "id": "UrX-iVdvxYW9"
      },
      "outputs": [],
      "source": [
        "# Define model optimizer and loss function\n",
        "from tensorflow.keras import optimizers\n",
        "\n",
        "model.compile(loss='categorical_crossentropy', optimizer=optimizers.RMSprop(learning_rate=1E-3), metrics=['acc'])"
      ]
    },
    {
      "cell_type": "code",
      "execution_count": null,
      "metadata": {
        "id": "HxgiRMjvP_zu",
        "colab": {
          "base_uri": "https://localhost:8080/"
        },
        "outputId": "1fe4aadf-e49b-4b6c-d3bb-89688926aa56"
      },
      "outputs": [
        {
          "output_type": "stream",
          "name": "stdout",
          "text": [
            "Epoch 1/150\n",
            "1000/1000 [==============================] - 48s 37ms/step - loss: 1.5709 - acc: 0.4343 - val_loss: 1.8509 - val_acc: 0.4142\n",
            "Epoch 2/150\n",
            "1000/1000 [==============================] - 39s 39ms/step - loss: 1.3131 - acc: 0.5324 - val_loss: 1.2476 - val_acc: 0.5543\n",
            "Epoch 3/150\n",
            "1000/1000 [==============================] - 37s 37ms/step - loss: 1.2169 - acc: 0.5646 - val_loss: 1.1623 - val_acc: 0.5920\n",
            "Epoch 4/150\n",
            "1000/1000 [==============================] - 37s 37ms/step - loss: 1.1501 - acc: 0.5927 - val_loss: 1.3540 - val_acc: 0.5460\n",
            "Epoch 5/150\n",
            "1000/1000 [==============================] - 37s 37ms/step - loss: 1.1054 - acc: 0.6079 - val_loss: 1.0723 - val_acc: 0.6408\n",
            "Epoch 6/150\n",
            "1000/1000 [==============================] - 37s 37ms/step - loss: 1.0624 - acc: 0.6260 - val_loss: 1.1799 - val_acc: 0.6115\n",
            "Epoch 7/150\n",
            "1000/1000 [==============================] - 37s 37ms/step - loss: 1.0343 - acc: 0.6365 - val_loss: 0.8989 - val_acc: 0.6852\n",
            "Epoch 8/150\n",
            "1000/1000 [==============================] - 37s 37ms/step - loss: 1.0105 - acc: 0.6436 - val_loss: 0.8509 - val_acc: 0.7093\n",
            "Epoch 9/150\n",
            "1000/1000 [==============================] - 37s 37ms/step - loss: 0.9897 - acc: 0.6548 - val_loss: 1.0776 - val_acc: 0.6472\n",
            "Epoch 10/150\n",
            "1000/1000 [==============================] - 37s 37ms/step - loss: 0.9684 - acc: 0.6599 - val_loss: 0.9053 - val_acc: 0.6832\n",
            "Epoch 11/150\n",
            "1000/1000 [==============================] - 37s 37ms/step - loss: 0.9501 - acc: 0.6664 - val_loss: 0.9481 - val_acc: 0.6710\n",
            "Epoch 12/150\n",
            "1000/1000 [==============================] - 38s 38ms/step - loss: 0.9333 - acc: 0.6744 - val_loss: 1.2209 - val_acc: 0.6078\n",
            "Epoch 13/150\n",
            "1000/1000 [==============================] - 37s 37ms/step - loss: 0.9195 - acc: 0.6829 - val_loss: 1.0200 - val_acc: 0.6802\n",
            "Epoch 14/150\n",
            "1000/1000 [==============================] - 38s 38ms/step - loss: 0.9174 - acc: 0.6793 - val_loss: 1.1082 - val_acc: 0.6363\n",
            "Epoch 15/150\n",
            "1000/1000 [==============================] - 37s 37ms/step - loss: 0.9027 - acc: 0.6855 - val_loss: 1.3267 - val_acc: 0.5885\n",
            "Epoch 16/150\n",
            "1000/1000 [==============================] - 37s 37ms/step - loss: 0.8905 - acc: 0.6904 - val_loss: 1.0966 - val_acc: 0.6663\n",
            "Epoch 17/150\n",
            "1000/1000 [==============================] - 38s 38ms/step - loss: 0.8816 - acc: 0.6932 - val_loss: 0.9861 - val_acc: 0.6657\n",
            "Epoch 18/150\n",
            "1000/1000 [==============================] - 38s 38ms/step - loss: 0.8758 - acc: 0.6939 - val_loss: 1.3534 - val_acc: 0.6073\n",
            "Epoch 19/150\n",
            "1000/1000 [==============================] - 37s 37ms/step - loss: 0.8627 - acc: 0.6995 - val_loss: 1.0055 - val_acc: 0.6875\n",
            "Epoch 20/150\n",
            "1000/1000 [==============================] - 37s 37ms/step - loss: 0.8605 - acc: 0.7024 - val_loss: 1.0549 - val_acc: 0.6507\n",
            "Epoch 21/150\n",
            "1000/1000 [==============================] - 37s 37ms/step - loss: 0.8452 - acc: 0.7096 - val_loss: 1.1364 - val_acc: 0.6365\n",
            "Epoch 22/150\n",
            "1000/1000 [==============================] - 37s 37ms/step - loss: 0.8405 - acc: 0.7070 - val_loss: 1.0697 - val_acc: 0.6779\n",
            "Epoch 23/150\n",
            "1000/1000 [==============================] - 37s 37ms/step - loss: 0.8418 - acc: 0.7099 - val_loss: 0.9869 - val_acc: 0.6889\n",
            "Epoch 24/150\n",
            "1000/1000 [==============================] - 37s 37ms/step - loss: 0.8312 - acc: 0.7114 - val_loss: 0.9559 - val_acc: 0.6853\n",
            "Epoch 25/150\n",
            "1000/1000 [==============================] - 37s 37ms/step - loss: 0.8219 - acc: 0.7147 - val_loss: 1.0547 - val_acc: 0.6880\n",
            "Epoch 26/150\n",
            "1000/1000 [==============================] - 37s 37ms/step - loss: 0.8179 - acc: 0.7177 - val_loss: 0.9026 - val_acc: 0.7048\n",
            "Epoch 27/150\n",
            "1000/1000 [==============================] - 36s 36ms/step - loss: 0.8172 - acc: 0.7191 - val_loss: 0.7884 - val_acc: 0.7393\n",
            "Epoch 28/150\n",
            "1000/1000 [==============================] - 38s 38ms/step - loss: 0.8104 - acc: 0.7208 - val_loss: 0.8461 - val_acc: 0.7225\n",
            "Epoch 29/150\n",
            "1000/1000 [==============================] - 38s 38ms/step - loss: 0.8104 - acc: 0.7178 - val_loss: 1.1209 - val_acc: 0.6668\n",
            "Epoch 30/150\n",
            "1000/1000 [==============================] - 38s 38ms/step - loss: 0.8054 - acc: 0.7199 - val_loss: 0.8796 - val_acc: 0.7140\n",
            "Epoch 31/150\n",
            "1000/1000 [==============================] - 37s 37ms/step - loss: 0.8068 - acc: 0.7220 - val_loss: 0.8961 - val_acc: 0.7158\n",
            "Epoch 32/150\n",
            "1000/1000 [==============================] - 37s 37ms/step - loss: 0.7984 - acc: 0.7262 - val_loss: 0.9977 - val_acc: 0.6674\n",
            "Epoch 33/150\n",
            "1000/1000 [==============================] - 37s 37ms/step - loss: 0.7949 - acc: 0.7237 - val_loss: 0.9091 - val_acc: 0.7041\n",
            "Epoch 34/150\n",
            "1000/1000 [==============================] - 37s 37ms/step - loss: 0.7864 - acc: 0.7284 - val_loss: 0.8487 - val_acc: 0.7154\n",
            "Epoch 35/150\n",
            "1000/1000 [==============================] - 37s 37ms/step - loss: 0.7813 - acc: 0.7307 - val_loss: 0.8580 - val_acc: 0.7278\n",
            "Epoch 36/150\n",
            "1000/1000 [==============================] - 37s 37ms/step - loss: 0.7770 - acc: 0.7296 - val_loss: 0.6804 - val_acc: 0.7716\n",
            "Epoch 37/150\n",
            "1000/1000 [==============================] - 37s 37ms/step - loss: 0.7795 - acc: 0.7316 - val_loss: 1.0658 - val_acc: 0.6854\n",
            "Epoch 38/150\n",
            "1000/1000 [==============================] - 37s 37ms/step - loss: 0.7786 - acc: 0.7332 - val_loss: 0.8386 - val_acc: 0.7299\n",
            "Epoch 39/150\n",
            "1000/1000 [==============================] - 37s 37ms/step - loss: 0.7730 - acc: 0.7315 - val_loss: 1.2945 - val_acc: 0.6053\n",
            "Epoch 40/150\n",
            "1000/1000 [==============================] - 37s 37ms/step - loss: 0.7659 - acc: 0.7363 - val_loss: 0.8963 - val_acc: 0.6922\n",
            "Epoch 41/150\n",
            "1000/1000 [==============================] - 37s 37ms/step - loss: 0.7723 - acc: 0.7331 - val_loss: 0.9063 - val_acc: 0.7304\n",
            "Epoch 42/150\n",
            "1000/1000 [==============================] - 37s 37ms/step - loss: 0.7690 - acc: 0.7342 - val_loss: 0.7438 - val_acc: 0.7565\n",
            "Epoch 43/150\n",
            "1000/1000 [==============================] - 37s 37ms/step - loss: 0.7664 - acc: 0.7329 - val_loss: 1.2383 - val_acc: 0.6622\n",
            "Epoch 44/150\n",
            "1000/1000 [==============================] - 37s 37ms/step - loss: 0.7668 - acc: 0.7359 - val_loss: 0.7783 - val_acc: 0.7464\n",
            "Epoch 45/150\n",
            "1000/1000 [==============================] - 37s 37ms/step - loss: 0.7538 - acc: 0.7385 - val_loss: 1.3705 - val_acc: 0.6544\n",
            "Epoch 46/150\n",
            "1000/1000 [==============================] - 37s 37ms/step - loss: 0.7557 - acc: 0.7401 - val_loss: 0.8783 - val_acc: 0.7293\n",
            "Epoch 47/150\n",
            "1000/1000 [==============================] - 37s 37ms/step - loss: 0.7458 - acc: 0.7428 - val_loss: 0.8034 - val_acc: 0.7249\n",
            "Epoch 48/150\n",
            "1000/1000 [==============================] - 37s 37ms/step - loss: 0.7541 - acc: 0.7409 - val_loss: 0.8449 - val_acc: 0.7348\n",
            "Epoch 49/150\n",
            "1000/1000 [==============================] - 37s 37ms/step - loss: 0.7434 - acc: 0.7422 - val_loss: 0.7680 - val_acc: 0.7434\n",
            "Epoch 50/150\n",
            "1000/1000 [==============================] - 37s 37ms/step - loss: 0.7467 - acc: 0.7431 - val_loss: 0.9461 - val_acc: 0.7010\n",
            "Epoch 51/150\n",
            "1000/1000 [==============================] - 37s 37ms/step - loss: 0.7416 - acc: 0.7434 - val_loss: 0.8288 - val_acc: 0.7214\n",
            "Epoch 52/150\n",
            "1000/1000 [==============================] - 38s 38ms/step - loss: 0.7392 - acc: 0.7418 - val_loss: 0.8111 - val_acc: 0.7343\n",
            "Epoch 53/150\n",
            "1000/1000 [==============================] - 38s 38ms/step - loss: 0.7439 - acc: 0.7425 - val_loss: 0.8905 - val_acc: 0.7148\n",
            "Epoch 54/150\n",
            "1000/1000 [==============================] - 37s 37ms/step - loss: 0.7365 - acc: 0.7469 - val_loss: 0.7350 - val_acc: 0.7701\n",
            "Epoch 55/150\n",
            "1000/1000 [==============================] - 37s 37ms/step - loss: 0.7330 - acc: 0.7473 - val_loss: 1.0014 - val_acc: 0.7048\n",
            "Epoch 56/150\n",
            "1000/1000 [==============================] - 37s 37ms/step - loss: 0.7329 - acc: 0.7487 - val_loss: 1.2969 - val_acc: 0.6751\n",
            "Epoch 57/150\n",
            "1000/1000 [==============================] - 37s 37ms/step - loss: 0.7316 - acc: 0.7504 - val_loss: 0.7412 - val_acc: 0.7623\n",
            "Epoch 58/150\n",
            "1000/1000 [==============================] - 37s 37ms/step - loss: 0.7297 - acc: 0.7477 - val_loss: 0.7698 - val_acc: 0.7594\n",
            "Epoch 59/150\n",
            "1000/1000 [==============================] - 38s 38ms/step - loss: 0.7304 - acc: 0.7484 - val_loss: 0.8635 - val_acc: 0.7363\n",
            "Epoch 60/150\n",
            "1000/1000 [==============================] - 38s 38ms/step - loss: 0.7246 - acc: 0.7515 - val_loss: 0.8163 - val_acc: 0.7564\n",
            "Epoch 61/150\n",
            "1000/1000 [==============================] - 38s 38ms/step - loss: 0.7196 - acc: 0.7514 - val_loss: 0.8938 - val_acc: 0.7367\n",
            "Epoch 62/150\n",
            "1000/1000 [==============================] - 38s 38ms/step - loss: 0.7223 - acc: 0.7532 - val_loss: 0.8325 - val_acc: 0.7616\n",
            "Epoch 63/150\n",
            "1000/1000 [==============================] - 38s 38ms/step - loss: 0.7192 - acc: 0.7508 - val_loss: 1.0009 - val_acc: 0.6876\n",
            "Epoch 64/150\n",
            "1000/1000 [==============================] - 38s 38ms/step - loss: 0.7177 - acc: 0.7524 - val_loss: 0.6450 - val_acc: 0.7828\n",
            "Epoch 65/150\n",
            "1000/1000 [==============================] - 37s 37ms/step - loss: 0.7170 - acc: 0.7545 - val_loss: 0.8553 - val_acc: 0.7256\n",
            "Epoch 66/150\n",
            "1000/1000 [==============================] - 38s 38ms/step - loss: 0.7246 - acc: 0.7510 - val_loss: 0.8161 - val_acc: 0.7473\n",
            "Epoch 67/150\n",
            "1000/1000 [==============================] - 38s 38ms/step - loss: 0.7066 - acc: 0.7543 - val_loss: 0.7394 - val_acc: 0.7599\n",
            "Epoch 68/150\n",
            "1000/1000 [==============================] - 38s 38ms/step - loss: 0.7118 - acc: 0.7571 - val_loss: 0.7887 - val_acc: 0.7468\n",
            "Epoch 69/150\n",
            "1000/1000 [==============================] - 38s 38ms/step - loss: 0.7113 - acc: 0.7558 - val_loss: 0.7773 - val_acc: 0.7469\n",
            "Epoch 70/150\n",
            "1000/1000 [==============================] - 38s 38ms/step - loss: 0.7097 - acc: 0.7562 - val_loss: 0.9089 - val_acc: 0.7287\n",
            "Epoch 71/150\n",
            "1000/1000 [==============================] - 38s 38ms/step - loss: 0.7087 - acc: 0.7584 - val_loss: 0.8094 - val_acc: 0.7447\n",
            "Epoch 72/150\n",
            "1000/1000 [==============================] - 38s 38ms/step - loss: 0.7137 - acc: 0.7574 - val_loss: 0.8997 - val_acc: 0.7450\n",
            "Epoch 73/150\n",
            "1000/1000 [==============================] - 38s 38ms/step - loss: 0.7034 - acc: 0.7578 - val_loss: 0.7110 - val_acc: 0.7682\n",
            "Epoch 74/150\n",
            "1000/1000 [==============================] - 38s 38ms/step - loss: 0.7042 - acc: 0.7580 - val_loss: 0.7658 - val_acc: 0.7523\n",
            "Epoch 75/150\n",
            "1000/1000 [==============================] - 38s 38ms/step - loss: 0.7050 - acc: 0.7588 - val_loss: 0.8603 - val_acc: 0.7352\n",
            "Epoch 76/150\n",
            "1000/1000 [==============================] - 37s 37ms/step - loss: 0.7017 - acc: 0.7587 - val_loss: 0.7804 - val_acc: 0.7535\n",
            "Epoch 77/150\n",
            "1000/1000 [==============================] - 38s 38ms/step - loss: 0.7044 - acc: 0.7603 - val_loss: 1.0086 - val_acc: 0.7194\n",
            "Epoch 78/150\n",
            "1000/1000 [==============================] - 37s 37ms/step - loss: 0.6993 - acc: 0.7630 - val_loss: 0.7748 - val_acc: 0.7406\n",
            "Epoch 79/150\n",
            "1000/1000 [==============================] - 37s 37ms/step - loss: 0.7080 - acc: 0.7582 - val_loss: 1.6135 - val_acc: 0.6236\n",
            "Epoch 80/150\n",
            "1000/1000 [==============================] - 37s 37ms/step - loss: 0.6941 - acc: 0.7620 - val_loss: 0.8835 - val_acc: 0.7460\n",
            "Epoch 81/150\n",
            "1000/1000 [==============================] - 38s 38ms/step - loss: 0.7050 - acc: 0.7577 - val_loss: 1.3045 - val_acc: 0.7037\n",
            "Epoch 82/150\n",
            "1000/1000 [==============================] - 38s 37ms/step - loss: 0.6947 - acc: 0.7617 - val_loss: 0.7149 - val_acc: 0.7540\n",
            "Epoch 83/150\n",
            "1000/1000 [==============================] - 37s 37ms/step - loss: 0.6884 - acc: 0.7621 - val_loss: 0.8599 - val_acc: 0.7626\n",
            "Epoch 84/150\n",
            "1000/1000 [==============================] - 38s 38ms/step - loss: 0.6886 - acc: 0.7636 - val_loss: 0.8450 - val_acc: 0.7436\n",
            "Epoch 85/150\n",
            "1000/1000 [==============================] - 37s 37ms/step - loss: 0.6968 - acc: 0.7620 - val_loss: 0.7156 - val_acc: 0.7668\n",
            "Epoch 86/150\n",
            "1000/1000 [==============================] - 37s 37ms/step - loss: 0.6952 - acc: 0.7602 - val_loss: 1.1763 - val_acc: 0.6778\n",
            "Epoch 87/150\n",
            "1000/1000 [==============================] - 37s 37ms/step - loss: 0.6858 - acc: 0.7627 - val_loss: 1.1435 - val_acc: 0.7138\n",
            "Epoch 88/150\n",
            "1000/1000 [==============================] - 37s 37ms/step - loss: 0.6909 - acc: 0.7626 - val_loss: 1.1655 - val_acc: 0.6941\n",
            "Epoch 89/150\n",
            "1000/1000 [==============================] - 38s 38ms/step - loss: 0.6839 - acc: 0.7651 - val_loss: 0.9327 - val_acc: 0.7469\n",
            "Epoch 90/150\n",
            "1000/1000 [==============================] - 38s 37ms/step - loss: 0.6870 - acc: 0.7635 - val_loss: 0.9299 - val_acc: 0.7246\n",
            "Epoch 91/150\n",
            "1000/1000 [==============================] - 38s 37ms/step - loss: 0.6826 - acc: 0.7660 - val_loss: 0.8273 - val_acc: 0.7466\n",
            "Epoch 92/150\n",
            "1000/1000 [==============================] - 37s 37ms/step - loss: 0.6828 - acc: 0.7663 - val_loss: 0.6899 - val_acc: 0.7819\n",
            "Epoch 93/150\n",
            "1000/1000 [==============================] - 38s 38ms/step - loss: 0.6813 - acc: 0.7677 - val_loss: 0.7036 - val_acc: 0.7854\n",
            "Epoch 94/150\n",
            "1000/1000 [==============================] - 38s 38ms/step - loss: 0.6819 - acc: 0.7658 - val_loss: 0.6773 - val_acc: 0.7838\n",
            "Epoch 95/150\n",
            "1000/1000 [==============================] - 38s 38ms/step - loss: 0.6848 - acc: 0.7667 - val_loss: 0.8086 - val_acc: 0.7302\n",
            "Epoch 96/150\n",
            "1000/1000 [==============================] - 37s 37ms/step - loss: 0.6815 - acc: 0.7631 - val_loss: 0.8065 - val_acc: 0.7536\n",
            "Epoch 97/150\n",
            "1000/1000 [==============================] - 38s 38ms/step - loss: 0.6779 - acc: 0.7706 - val_loss: 0.8495 - val_acc: 0.7363\n",
            "Epoch 98/150\n",
            "1000/1000 [==============================] - 37s 37ms/step - loss: 0.6732 - acc: 0.7693 - val_loss: 0.7528 - val_acc: 0.7704\n",
            "Epoch 99/150\n",
            "1000/1000 [==============================] - 37s 37ms/step - loss: 0.6756 - acc: 0.7685 - val_loss: 0.9652 - val_acc: 0.7480\n",
            "Epoch 100/150\n",
            "1000/1000 [==============================] - 37s 37ms/step - loss: 0.6825 - acc: 0.7653 - val_loss: 0.7591 - val_acc: 0.7702\n",
            "Epoch 101/150\n",
            "1000/1000 [==============================] - 38s 38ms/step - loss: 0.6734 - acc: 0.7697 - val_loss: 0.6473 - val_acc: 0.7975\n",
            "Epoch 102/150\n",
            "1000/1000 [==============================] - 37s 37ms/step - loss: 0.6738 - acc: 0.7688 - val_loss: 0.7032 - val_acc: 0.7719\n",
            "Epoch 103/150\n",
            "1000/1000 [==============================] - 37s 37ms/step - loss: 0.6678 - acc: 0.7686 - val_loss: 0.9652 - val_acc: 0.7350\n",
            "Epoch 104/150\n",
            "1000/1000 [==============================] - 38s 38ms/step - loss: 0.6659 - acc: 0.7699 - val_loss: 1.1305 - val_acc: 0.7195\n",
            "Epoch 105/150\n",
            "1000/1000 [==============================] - 38s 38ms/step - loss: 0.6637 - acc: 0.7728 - val_loss: 0.7296 - val_acc: 0.7600\n",
            "Epoch 106/150\n",
            "1000/1000 [==============================] - 37s 37ms/step - loss: 0.6743 - acc: 0.7705 - val_loss: 0.7666 - val_acc: 0.7518\n",
            "Epoch 107/150\n",
            "1000/1000 [==============================] - 37s 37ms/step - loss: 0.6667 - acc: 0.7685 - val_loss: 0.8754 - val_acc: 0.7548\n",
            "Epoch 108/150\n",
            "1000/1000 [==============================] - 38s 38ms/step - loss: 0.6612 - acc: 0.7731 - val_loss: 0.9168 - val_acc: 0.7448\n",
            "Epoch 109/150\n",
            "1000/1000 [==============================] - 37s 37ms/step - loss: 0.6665 - acc: 0.7692 - val_loss: 0.6695 - val_acc: 0.7800\n",
            "Epoch 110/150\n",
            "1000/1000 [==============================] - 38s 38ms/step - loss: 0.6706 - acc: 0.7695 - val_loss: 0.7223 - val_acc: 0.7770\n",
            "Epoch 111/150\n",
            "1000/1000 [==============================] - 38s 38ms/step - loss: 0.6691 - acc: 0.7704 - val_loss: 0.7592 - val_acc: 0.7745\n",
            "Epoch 112/150\n",
            "1000/1000 [==============================] - 38s 38ms/step - loss: 0.6680 - acc: 0.7689 - val_loss: 0.7449 - val_acc: 0.7536\n",
            "Epoch 113/150\n",
            "1000/1000 [==============================] - 38s 38ms/step - loss: 0.6596 - acc: 0.7753 - val_loss: 0.7438 - val_acc: 0.7596\n",
            "Epoch 114/150\n",
            "1000/1000 [==============================] - 37s 37ms/step - loss: 0.6669 - acc: 0.7722 - val_loss: 0.9477 - val_acc: 0.7503\n",
            "Epoch 115/150\n",
            "1000/1000 [==============================] - 38s 38ms/step - loss: 0.6589 - acc: 0.7721 - val_loss: 0.8235 - val_acc: 0.7401\n",
            "Epoch 116/150\n",
            "1000/1000 [==============================] - 38s 38ms/step - loss: 0.6549 - acc: 0.7762 - val_loss: 0.7333 - val_acc: 0.7567\n",
            "Epoch 117/150\n",
            "1000/1000 [==============================] - 38s 38ms/step - loss: 0.6608 - acc: 0.7729 - val_loss: 0.6988 - val_acc: 0.7814\n",
            "Epoch 118/150\n",
            "1000/1000 [==============================] - 37s 37ms/step - loss: 0.6583 - acc: 0.7738 - val_loss: 0.7014 - val_acc: 0.7719\n",
            "Epoch 119/150\n",
            "1000/1000 [==============================] - 38s 38ms/step - loss: 0.6567 - acc: 0.7759 - val_loss: 0.7677 - val_acc: 0.7476\n",
            "Epoch 120/150\n",
            "1000/1000 [==============================] - 38s 38ms/step - loss: 0.6582 - acc: 0.7732 - val_loss: 0.6994 - val_acc: 0.7820\n",
            "Epoch 121/150\n",
            "1000/1000 [==============================] - 37s 37ms/step - loss: 0.6586 - acc: 0.7736 - val_loss: 0.6459 - val_acc: 0.7909\n",
            "Epoch 122/150\n",
            "1000/1000 [==============================] - 38s 38ms/step - loss: 0.6508 - acc: 0.7751 - val_loss: 0.9530 - val_acc: 0.7088\n",
            "Epoch 123/150\n",
            "1000/1000 [==============================] - 38s 38ms/step - loss: 0.6592 - acc: 0.7738 - val_loss: 0.7994 - val_acc: 0.7554\n",
            "Epoch 124/150\n",
            "1000/1000 [==============================] - 38s 38ms/step - loss: 0.6571 - acc: 0.7732 - val_loss: 0.7958 - val_acc: 0.7583\n",
            "Epoch 125/150\n",
            "1000/1000 [==============================] - 38s 38ms/step - loss: 0.6487 - acc: 0.7773 - val_loss: 0.7261 - val_acc: 0.7811\n",
            "Epoch 126/150\n",
            "1000/1000 [==============================] - 38s 38ms/step - loss: 0.6517 - acc: 0.7778 - val_loss: 0.8815 - val_acc: 0.7010\n",
            "Epoch 127/150\n",
            "1000/1000 [==============================] - 38s 38ms/step - loss: 0.6564 - acc: 0.7753 - val_loss: 0.7075 - val_acc: 0.7697\n",
            "Epoch 128/150\n",
            "1000/1000 [==============================] - 38s 38ms/step - loss: 0.6579 - acc: 0.7757 - val_loss: 0.8943 - val_acc: 0.7196\n",
            "Epoch 129/150\n",
            "1000/1000 [==============================] - 38s 38ms/step - loss: 0.6516 - acc: 0.7760 - val_loss: 1.1567 - val_acc: 0.7409\n",
            "Epoch 130/150\n",
            "1000/1000 [==============================] - 38s 38ms/step - loss: 0.6510 - acc: 0.7783 - val_loss: 0.9322 - val_acc: 0.7497\n",
            "Epoch 131/150\n",
            "1000/1000 [==============================] - 38s 38ms/step - loss: 0.6505 - acc: 0.7754 - val_loss: 0.8017 - val_acc: 0.7522\n",
            "Epoch 132/150\n",
            "1000/1000 [==============================] - 38s 38ms/step - loss: 0.6484 - acc: 0.7763 - val_loss: 0.9720 - val_acc: 0.7069\n",
            "Epoch 133/150\n",
            "1000/1000 [==============================] - 38s 38ms/step - loss: 0.6431 - acc: 0.7792 - val_loss: 1.0560 - val_acc: 0.7589\n",
            "Epoch 134/150\n",
            "1000/1000 [==============================] - 38s 38ms/step - loss: 0.6446 - acc: 0.7766 - val_loss: 0.8288 - val_acc: 0.7451\n",
            "Epoch 135/150\n",
            "1000/1000 [==============================] - 38s 38ms/step - loss: 0.6345 - acc: 0.7808 - val_loss: 0.9101 - val_acc: 0.7207\n",
            "Epoch 136/150\n",
            "1000/1000 [==============================] - 38s 38ms/step - loss: 0.6475 - acc: 0.7783 - val_loss: 0.6892 - val_acc: 0.7863\n",
            "Epoch 137/150\n",
            "1000/1000 [==============================] - 38s 38ms/step - loss: 0.6459 - acc: 0.7792 - val_loss: 0.7772 - val_acc: 0.7791\n",
            "Epoch 138/150\n",
            "1000/1000 [==============================] - 38s 38ms/step - loss: 0.6463 - acc: 0.7787 - val_loss: 0.7465 - val_acc: 0.7630\n",
            "Epoch 139/150\n",
            "1000/1000 [==============================] - 38s 38ms/step - loss: 0.6446 - acc: 0.7789 - val_loss: 0.8365 - val_acc: 0.7570\n",
            "Epoch 140/150\n",
            "1000/1000 [==============================] - 38s 38ms/step - loss: 0.6465 - acc: 0.7771 - val_loss: 0.9853 - val_acc: 0.7548\n",
            "Epoch 141/150\n",
            "1000/1000 [==============================] - 38s 38ms/step - loss: 0.6445 - acc: 0.7791 - val_loss: 1.0550 - val_acc: 0.7587\n",
            "Epoch 142/150\n",
            "1000/1000 [==============================] - 38s 38ms/step - loss: 0.6370 - acc: 0.7797 - val_loss: 0.7548 - val_acc: 0.7586\n",
            "Epoch 143/150\n",
            "1000/1000 [==============================] - 38s 38ms/step - loss: 0.6473 - acc: 0.7809 - val_loss: 0.8139 - val_acc: 0.7540\n",
            "Epoch 144/150\n",
            "1000/1000 [==============================] - 38s 38ms/step - loss: 0.6440 - acc: 0.7788 - val_loss: 0.8045 - val_acc: 0.7690\n",
            "Epoch 145/150\n",
            "1000/1000 [==============================] - 38s 38ms/step - loss: 0.6429 - acc: 0.7800 - val_loss: 0.8856 - val_acc: 0.7220\n",
            "Epoch 146/150\n",
            "1000/1000 [==============================] - 38s 38ms/step - loss: 0.6388 - acc: 0.7821 - val_loss: 0.6685 - val_acc: 0.7850\n",
            "Epoch 147/150\n",
            "1000/1000 [==============================] - 38s 38ms/step - loss: 0.6412 - acc: 0.7789 - val_loss: 0.7627 - val_acc: 0.7653\n",
            "Epoch 148/150\n",
            "1000/1000 [==============================] - 38s 38ms/step - loss: 0.6378 - acc: 0.7807 - val_loss: 0.7645 - val_acc: 0.7446\n",
            "Epoch 149/150\n",
            "1000/1000 [==============================] - 38s 38ms/step - loss: 0.6400 - acc: 0.7806 - val_loss: 0.9536 - val_acc: 0.7592\n",
            "Epoch 150/150\n",
            "1000/1000 [==============================] - 37s 37ms/step - loss: 0.6275 - acc: 0.7861 - val_loss: 1.0783 - val_acc: 0.6692\n"
          ]
        }
      ],
      "source": [
        "# Fits the model on batches with real-time data augmentation\n",
        "\n",
        "history_augmt = model.fit(train_datagen.flow(x_tr, y_tr, batch_size=40), steps_per_epoch=x_tr.shape[0] // 40, epochs=150, validation_data=(x_val, y_val), validation_batch_size=x_val.shape[0] // 40)\n",
        "model.save('data_augmt_model.h5')"
      ]
    },
    {
      "cell_type": "markdown",
      "metadata": {
        "id": "NzFyrg0MlfRe"
      },
      "source": [
        "## Plot the training and validation loss curve versus epochs."
      ]
    },
    {
      "cell_type": "code",
      "execution_count": null,
      "metadata": {
        "id": "a6iGRFYJxf-O",
        "colab": {
          "base_uri": "https://localhost:8080/",
          "height": 279
        },
        "outputId": "71307120-2874-4bee-9616-18053e35bb92"
      },
      "outputs": [
        {
          "output_type": "display_data",
          "data": {
            "text/plain": [
              "<Figure size 432x288 with 1 Axes>"
            ],
            "image/png": "[encoded data removed]"
          },
          "metadata": {
            "needs_background": "light"
          }
        }
      ],
      "source": [
        "# Plot the loss curve\n",
        "\n",
        "import matplotlib.pyplot as plt\n",
        "%matplotlib inline\n",
        "\n",
        "acc = history_augmt.history['acc']\n",
        "val_acc = history_augmt.history['val_acc']\n",
        "\n",
        "epochs = range(len(acc))\n",
        "\n",
        "plt.plot(epochs, acc, 'bo', label='Training acc')\n",
        "plt.plot(epochs, val_acc, 'r', label='Validation acc')\n",
        "plt.xlabel('Epochs')\n",
        "plt.ylabel('Accuracy')\n",
        "plt.legend()\n",
        "plt.show()"
      ]
    },
    {
      "cell_type": "markdown",
      "metadata": {
        "id": "FODq4jJkmI3s"
      },
      "source": [
        "## Train (again) and evaluate the model\n",
        "- To this end, you have found the \"best\" hyper-parameters. \n",
        "- Now, fix the hyper-parameters and train the network on the entire training set (all the 50K training samples)\n",
        "- Evaluate your model on the test set."
      ]
    },
    {
      "cell_type": "markdown",
      "metadata": {
        "id": "DbskoYCFmWMj"
      },
      "source": [
        "### Train the model on the entire training set\n",
        "\n",
        "Why? Previously, you used 40K samples for training; you wasted 10K samples for the sake of hyper-parameter tuning. Now you already know the hyper-parameters, so why not using all the 50K samples for training?"
      ]
    },
    {
      "cell_type": "code",
      "execution_count": 10,
      "metadata": {
        "id": "Ss--sTammX0-"
      },
      "outputs": [],
      "source": [
        "#<Compile your model again (using the same hyper-parameters you tuned above)>\n",
        "\n",
        "from keras.layers import Conv2D, MaxPooling2D, Flatten, Dense, Dropout, Activation, BatchNormalization\n",
        "from keras.models import Sequential\n",
        "\n",
        "model = Sequential()\n",
        "model.add(Conv2D(32, (3, 3), input_shape=(32, 32, 3)))\n",
        "model.add(BatchNormalization())\n",
        "model.add(Activation('relu'))\n",
        "\n",
        "model.add(MaxPooling2D((2, 2)))\n",
        "\n",
        "model.add(Conv2D(64, (4, 4)))\n",
        "model.add(BatchNormalization())\n",
        "model.add(Activation('relu'))\n",
        "\n",
        "model.add(MaxPooling2D((2, 2)))\n",
        "\n",
        "model.add(Flatten())\n",
        "model.add(Dense(256))\n",
        "model.add(BatchNormalization())\n",
        "model.add(Activation('relu'))\n",
        "\n",
        "model.add(Dense(10, activation='softmax'))\n",
        "\n",
        "from tensorflow.keras import optimizers\n",
        "\n",
        "model.compile(loss='categorical_crossentropy', optimizer=optimizers.RMSprop(learning_rate = 0.0001) , metrics=['acc'])\n",
        "\n",
        "# using data augmentation\n",
        "from tensorflow.keras.preprocessing.image import ImageDataGenerator\n",
        "train_datagen = ImageDataGenerator(\n",
        "    rotation_range=20,\n",
        "    width_shift_range=0.2,\n",
        "    height_shift_range=0.2,\n",
        "    shear_range = 0.2,\n",
        "    zoom_range = 0.2,\n",
        "    horizontal_flip=True)"
      ]
    },
    {
      "cell_type": "code",
      "execution_count": 12,
      "metadata": {
        "id": "YiHQcf8AnW32",
        "colab": {
          "base_uri": "https://localhost:8080/"
        },
        "outputId": "1451ae6f-0ee8-4770-e27f-3397be5dc49b"
      },
      "outputs": [
        {
          "output_type": "stream",
          "name": "stdout",
          "text": [
            "Epoch 1/150\n",
            "1250/1250 [==============================] - 38s 30ms/step - loss: 1.6466 - acc: 0.4034\n",
            "Epoch 2/150\n",
            "1250/1250 [==============================] - 37s 30ms/step - loss: 1.4427 - acc: 0.4816\n",
            "Epoch 3/150\n",
            "1250/1250 [==============================] - 37s 30ms/step - loss: 1.3547 - acc: 0.5174\n",
            "Epoch 4/150\n",
            "1250/1250 [==============================] - 37s 30ms/step - loss: 1.2874 - acc: 0.5434\n",
            "Epoch 5/150\n",
            "1250/1250 [==============================] - 37s 30ms/step - loss: 1.2400 - acc: 0.5596\n",
            "Epoch 6/150\n",
            "1250/1250 [==============================] - 37s 30ms/step - loss: 1.2068 - acc: 0.5718\n",
            "Epoch 7/150\n",
            "1250/1250 [==============================] - 38s 30ms/step - loss: 1.1824 - acc: 0.5831\n",
            "Epoch 8/150\n",
            "1250/1250 [==============================] - 38s 30ms/step - loss: 1.1539 - acc: 0.5899\n",
            "Epoch 9/150\n",
            "1250/1250 [==============================] - 38s 30ms/step - loss: 1.1277 - acc: 0.6019\n",
            "Epoch 10/150\n",
            "1250/1250 [==============================] - 38s 30ms/step - loss: 1.1102 - acc: 0.6067\n",
            "Epoch 11/150\n",
            "1250/1250 [==============================] - 38s 30ms/step - loss: 1.0965 - acc: 0.6154\n",
            "Epoch 12/150\n",
            "1250/1250 [==============================] - 38s 30ms/step - loss: 1.0785 - acc: 0.6222\n",
            "Epoch 13/150\n",
            "1250/1250 [==============================] - 38s 30ms/step - loss: 1.0686 - acc: 0.6249\n",
            "Epoch 14/150\n",
            "1250/1250 [==============================] - 38s 30ms/step - loss: 1.0502 - acc: 0.6309\n",
            "Epoch 15/150\n",
            "1250/1250 [==============================] - 38s 30ms/step - loss: 1.0401 - acc: 0.6355\n",
            "Epoch 16/150\n",
            "1250/1250 [==============================] - 38s 30ms/step - loss: 1.0250 - acc: 0.6421\n",
            "Epoch 17/150\n",
            "1250/1250 [==============================] - 38s 30ms/step - loss: 1.0113 - acc: 0.6444\n",
            "Epoch 18/150\n",
            "1250/1250 [==============================] - 38s 30ms/step - loss: 1.0046 - acc: 0.6482\n",
            "Epoch 19/150\n",
            "1250/1250 [==============================] - 38s 30ms/step - loss: 0.9917 - acc: 0.6523\n",
            "Epoch 20/150\n",
            "1250/1250 [==============================] - 38s 30ms/step - loss: 0.9800 - acc: 0.6562\n",
            "Epoch 21/150\n",
            "1250/1250 [==============================] - 38s 31ms/step - loss: 0.9669 - acc: 0.6589\n",
            "Epoch 22/150\n",
            "1250/1250 [==============================] - 38s 31ms/step - loss: 0.9572 - acc: 0.6652\n",
            "Epoch 23/150\n",
            "1250/1250 [==============================] - 39s 31ms/step - loss: 0.9545 - acc: 0.6644\n",
            "Epoch 24/150\n",
            "1250/1250 [==============================] - 38s 31ms/step - loss: 0.9429 - acc: 0.6698\n",
            "Epoch 25/150\n",
            "1250/1250 [==============================] - 38s 30ms/step - loss: 0.9321 - acc: 0.6720\n",
            "Epoch 26/150\n",
            "1250/1250 [==============================] - 38s 30ms/step - loss: 0.9286 - acc: 0.6749\n",
            "Epoch 27/150\n",
            "1250/1250 [==============================] - 38s 31ms/step - loss: 0.9225 - acc: 0.6799\n",
            "Epoch 28/150\n",
            "1250/1250 [==============================] - 38s 30ms/step - loss: 0.9145 - acc: 0.6784\n",
            "Epoch 29/150\n",
            "1250/1250 [==============================] - 38s 31ms/step - loss: 0.9060 - acc: 0.6870\n",
            "Epoch 30/150\n",
            "1250/1250 [==============================] - 39s 31ms/step - loss: 0.8989 - acc: 0.6855\n",
            "Epoch 31/150\n",
            "1250/1250 [==============================] - 38s 30ms/step - loss: 0.8938 - acc: 0.6893\n",
            "Epoch 32/150\n",
            "1250/1250 [==============================] - 38s 30ms/step - loss: 0.8897 - acc: 0.6864\n",
            "Epoch 33/150\n",
            "1250/1250 [==============================] - 38s 30ms/step - loss: 0.8822 - acc: 0.6900\n",
            "Epoch 34/150\n",
            "1250/1250 [==============================] - 38s 30ms/step - loss: 0.8799 - acc: 0.6918\n",
            "Epoch 35/150\n",
            "1250/1250 [==============================] - 38s 30ms/step - loss: 0.8751 - acc: 0.6957\n",
            "Epoch 36/150\n",
            "1250/1250 [==============================] - 41s 33ms/step - loss: 0.8687 - acc: 0.6965\n",
            "Epoch 37/150\n",
            "1250/1250 [==============================] - 41s 32ms/step - loss: 0.8640 - acc: 0.6983\n",
            "Epoch 38/150\n",
            "1250/1250 [==============================] - 39s 31ms/step - loss: 0.8563 - acc: 0.7011\n",
            "Epoch 39/150\n",
            "1250/1250 [==============================] - 38s 30ms/step - loss: 0.8562 - acc: 0.7014\n",
            "Epoch 40/150\n",
            "1250/1250 [==============================] - 38s 30ms/step - loss: 0.8524 - acc: 0.7049\n",
            "Epoch 41/150\n",
            "1250/1250 [==============================] - 38s 30ms/step - loss: 0.8491 - acc: 0.7060\n",
            "Epoch 42/150\n",
            "1250/1250 [==============================] - 38s 30ms/step - loss: 0.8405 - acc: 0.7081\n",
            "Epoch 43/150\n",
            "1250/1250 [==============================] - 38s 30ms/step - loss: 0.8337 - acc: 0.7093\n",
            "Epoch 44/150\n",
            "1250/1250 [==============================] - 38s 31ms/step - loss: 0.8357 - acc: 0.7094\n",
            "Epoch 45/150\n",
            "1250/1250 [==============================] - 38s 30ms/step - loss: 0.8291 - acc: 0.7124\n",
            "Epoch 46/150\n",
            "1250/1250 [==============================] - 38s 30ms/step - loss: 0.8219 - acc: 0.7138\n",
            "Epoch 47/150\n",
            "1250/1250 [==============================] - 38s 30ms/step - loss: 0.8218 - acc: 0.7148\n",
            "Epoch 48/150\n",
            "1250/1250 [==============================] - 38s 31ms/step - loss: 0.8219 - acc: 0.7160\n",
            "Epoch 49/150\n",
            "1250/1250 [==============================] - 38s 30ms/step - loss: 0.8187 - acc: 0.7148\n",
            "Epoch 50/150\n",
            "1250/1250 [==============================] - 38s 31ms/step - loss: 0.8121 - acc: 0.7172\n",
            "Epoch 51/150\n",
            "1250/1250 [==============================] - 38s 31ms/step - loss: 0.8125 - acc: 0.7183\n",
            "Epoch 52/150\n",
            "1250/1250 [==============================] - 38s 31ms/step - loss: 0.8080 - acc: 0.7181\n",
            "Epoch 53/150\n",
            "1250/1250 [==============================] - 38s 31ms/step - loss: 0.8007 - acc: 0.7219\n",
            "Epoch 54/150\n",
            "1250/1250 [==============================] - 38s 31ms/step - loss: 0.8038 - acc: 0.7192\n",
            "Epoch 55/150\n",
            "1250/1250 [==============================] - 38s 31ms/step - loss: 0.7943 - acc: 0.7238\n",
            "Epoch 56/150\n",
            "1250/1250 [==============================] - 38s 30ms/step - loss: 0.7973 - acc: 0.7236\n",
            "Epoch 57/150\n",
            "1250/1250 [==============================] - 38s 30ms/step - loss: 0.7917 - acc: 0.7206\n",
            "Epoch 58/150\n",
            "1250/1250 [==============================] - 38s 30ms/step - loss: 0.7864 - acc: 0.7242\n",
            "Epoch 59/150\n",
            "1250/1250 [==============================] - 38s 30ms/step - loss: 0.7879 - acc: 0.7251\n",
            "Epoch 60/150\n",
            "1250/1250 [==============================] - 38s 30ms/step - loss: 0.7862 - acc: 0.7262\n",
            "Epoch 61/150\n",
            "1250/1250 [==============================] - 38s 31ms/step - loss: 0.7857 - acc: 0.7266\n",
            "Epoch 62/150\n",
            "1250/1250 [==============================] - 38s 30ms/step - loss: 0.7811 - acc: 0.7271\n",
            "Epoch 63/150\n",
            "1250/1250 [==============================] - 38s 30ms/step - loss: 0.7771 - acc: 0.7293\n",
            "Epoch 64/150\n",
            "1250/1250 [==============================] - 39s 31ms/step - loss: 0.7772 - acc: 0.7295\n",
            "Epoch 65/150\n",
            "1250/1250 [==============================] - 39s 31ms/step - loss: 0.7736 - acc: 0.7312\n",
            "Epoch 66/150\n",
            "1250/1250 [==============================] - 38s 30ms/step - loss: 0.7646 - acc: 0.7342\n",
            "Epoch 67/150\n",
            "1250/1250 [==============================] - 38s 30ms/step - loss: 0.7699 - acc: 0.7321\n",
            "Epoch 68/150\n",
            "1250/1250 [==============================] - 38s 30ms/step - loss: 0.7604 - acc: 0.7359\n",
            "Epoch 69/150\n",
            "1250/1250 [==============================] - 39s 31ms/step - loss: 0.7650 - acc: 0.7339\n",
            "Epoch 70/150\n",
            "1250/1250 [==============================] - 39s 31ms/step - loss: 0.7663 - acc: 0.7321\n",
            "Epoch 71/150\n",
            "1250/1250 [==============================] - 39s 31ms/step - loss: 0.7583 - acc: 0.7373\n",
            "Epoch 72/150\n",
            "1250/1250 [==============================] - 39s 31ms/step - loss: 0.7565 - acc: 0.7354\n",
            "Epoch 73/150\n",
            "1250/1250 [==============================] - 39s 31ms/step - loss: 0.7546 - acc: 0.7366\n",
            "Epoch 74/150\n",
            "1250/1250 [==============================] - 39s 31ms/step - loss: 0.7555 - acc: 0.7382\n",
            "Epoch 75/150\n",
            "1250/1250 [==============================] - 39s 31ms/step - loss: 0.7501 - acc: 0.7392\n",
            "Epoch 76/150\n",
            "1250/1250 [==============================] - 39s 31ms/step - loss: 0.7453 - acc: 0.7436\n",
            "Epoch 77/150\n",
            "1250/1250 [==============================] - 39s 31ms/step - loss: 0.7431 - acc: 0.7406\n",
            "Epoch 78/150\n",
            "1250/1250 [==============================] - 39s 31ms/step - loss: 0.7467 - acc: 0.7408\n",
            "Epoch 79/150\n",
            "1250/1250 [==============================] - 39s 31ms/step - loss: 0.7392 - acc: 0.7429\n",
            "Epoch 80/150\n",
            "1250/1250 [==============================] - 39s 31ms/step - loss: 0.7410 - acc: 0.7433\n",
            "Epoch 81/150\n",
            "1250/1250 [==============================] - 40s 32ms/step - loss: 0.7445 - acc: 0.7420\n",
            "Epoch 82/150\n",
            "1250/1250 [==============================] - 40s 32ms/step - loss: 0.7393 - acc: 0.7437\n",
            "Epoch 83/150\n",
            "1250/1250 [==============================] - 40s 32ms/step - loss: 0.7336 - acc: 0.7459\n",
            "Epoch 84/150\n",
            "1250/1250 [==============================] - 40s 32ms/step - loss: 0.7335 - acc: 0.7443\n",
            "Epoch 85/150\n",
            "1250/1250 [==============================] - 39s 31ms/step - loss: 0.7347 - acc: 0.7450\n",
            "Epoch 86/150\n",
            "1250/1250 [==============================] - 40s 32ms/step - loss: 0.7335 - acc: 0.7454\n",
            "Epoch 87/150\n",
            "1250/1250 [==============================] - 40s 32ms/step - loss: 0.7295 - acc: 0.7453\n",
            "Epoch 88/150\n",
            "1250/1250 [==============================] - 39s 31ms/step - loss: 0.7274 - acc: 0.7465\n",
            "Epoch 89/150\n",
            "1250/1250 [==============================] - 39s 31ms/step - loss: 0.7272 - acc: 0.7471\n",
            "Epoch 90/150\n",
            "1250/1250 [==============================] - 38s 31ms/step - loss: 0.7262 - acc: 0.7469\n",
            "Epoch 91/150\n",
            "1250/1250 [==============================] - 38s 30ms/step - loss: 0.7232 - acc: 0.7489\n",
            "Epoch 92/150\n",
            "1250/1250 [==============================] - 38s 30ms/step - loss: 0.7221 - acc: 0.7491\n",
            "Epoch 93/150\n",
            "1250/1250 [==============================] - 38s 30ms/step - loss: 0.7273 - acc: 0.7473\n",
            "Epoch 94/150\n",
            "1250/1250 [==============================] - 38s 30ms/step - loss: 0.7142 - acc: 0.7529\n",
            "Epoch 95/150\n",
            "1250/1250 [==============================] - 38s 30ms/step - loss: 0.7126 - acc: 0.7517\n",
            "Epoch 96/150\n",
            "1250/1250 [==============================] - 38s 30ms/step - loss: 0.7188 - acc: 0.7510\n",
            "Epoch 97/150\n",
            "1250/1250 [==============================] - 38s 30ms/step - loss: 0.7179 - acc: 0.7509\n",
            "Epoch 98/150\n",
            "1250/1250 [==============================] - 38s 30ms/step - loss: 0.7133 - acc: 0.7525\n",
            "Epoch 99/150\n",
            "1250/1250 [==============================] - 38s 30ms/step - loss: 0.7117 - acc: 0.7533\n",
            "Epoch 100/150\n",
            "1250/1250 [==============================] - 38s 31ms/step - loss: 0.7092 - acc: 0.7537\n",
            "Epoch 101/150\n",
            "1250/1250 [==============================] - 38s 31ms/step - loss: 0.7116 - acc: 0.7535\n",
            "Epoch 102/150\n",
            "1250/1250 [==============================] - 38s 31ms/step - loss: 0.6994 - acc: 0.7563\n",
            "Epoch 103/150\n",
            "1250/1250 [==============================] - 38s 30ms/step - loss: 0.7064 - acc: 0.7545\n",
            "Epoch 104/150\n",
            "1250/1250 [==============================] - 38s 31ms/step - loss: 0.7108 - acc: 0.7552\n",
            "Epoch 105/150\n",
            "1250/1250 [==============================] - 38s 30ms/step - loss: 0.7056 - acc: 0.7533\n",
            "Epoch 106/150\n",
            "1250/1250 [==============================] - 38s 31ms/step - loss: 0.7023 - acc: 0.7555\n",
            "Epoch 107/150\n",
            "1250/1250 [==============================] - 38s 31ms/step - loss: 0.7017 - acc: 0.7566\n",
            "Epoch 108/150\n",
            "1250/1250 [==============================] - 38s 31ms/step - loss: 0.7021 - acc: 0.7562\n",
            "Epoch 109/150\n",
            "1250/1250 [==============================] - 38s 30ms/step - loss: 0.7010 - acc: 0.7578\n",
            "Epoch 110/150\n",
            "1250/1250 [==============================] - 38s 30ms/step - loss: 0.6984 - acc: 0.7580\n",
            "Epoch 111/150\n",
            "1250/1250 [==============================] - 38s 31ms/step - loss: 0.6946 - acc: 0.7580\n",
            "Epoch 112/150\n",
            "1250/1250 [==============================] - 38s 30ms/step - loss: 0.6981 - acc: 0.7575\n",
            "Epoch 113/150\n",
            "1250/1250 [==============================] - 38s 30ms/step - loss: 0.6976 - acc: 0.7584\n",
            "Epoch 114/150\n",
            "1250/1250 [==============================] - 38s 30ms/step - loss: 0.6925 - acc: 0.7612\n",
            "Epoch 115/150\n",
            "1250/1250 [==============================] - 38s 30ms/step - loss: 0.6891 - acc: 0.7591\n",
            "Epoch 116/150\n",
            "1250/1250 [==============================] - 38s 30ms/step - loss: 0.6920 - acc: 0.7596\n",
            "Epoch 117/150\n",
            "1250/1250 [==============================] - 38s 31ms/step - loss: 0.6867 - acc: 0.7601\n",
            "Epoch 118/150\n",
            "1250/1250 [==============================] - 38s 31ms/step - loss: 0.6872 - acc: 0.7613\n",
            "Epoch 119/150\n",
            "1250/1250 [==============================] - 38s 31ms/step - loss: 0.6899 - acc: 0.7621\n",
            "Epoch 120/150\n",
            "1250/1250 [==============================] - 39s 31ms/step - loss: 0.6905 - acc: 0.7606\n",
            "Epoch 121/150\n",
            "1250/1250 [==============================] - 39s 31ms/step - loss: 0.6806 - acc: 0.7641\n",
            "Epoch 122/150\n",
            "1250/1250 [==============================] - 39s 31ms/step - loss: 0.6863 - acc: 0.7603\n",
            "Epoch 123/150\n",
            "1250/1250 [==============================] - 38s 31ms/step - loss: 0.6831 - acc: 0.7619\n",
            "Epoch 124/150\n",
            "1250/1250 [==============================] - 38s 31ms/step - loss: 0.6827 - acc: 0.7614\n",
            "Epoch 125/150\n",
            "1250/1250 [==============================] - 38s 30ms/step - loss: 0.6753 - acc: 0.7655\n",
            "Epoch 126/150\n",
            "1250/1250 [==============================] - 38s 31ms/step - loss: 0.6813 - acc: 0.7648\n",
            "Epoch 127/150\n",
            "1250/1250 [==============================] - 38s 31ms/step - loss: 0.6831 - acc: 0.7644\n",
            "Epoch 128/150\n",
            "1250/1250 [==============================] - 39s 31ms/step - loss: 0.6776 - acc: 0.7634\n",
            "Epoch 129/150\n",
            "1250/1250 [==============================] - 38s 31ms/step - loss: 0.6778 - acc: 0.7637\n",
            "Epoch 130/150\n",
            "1250/1250 [==============================] - 38s 31ms/step - loss: 0.6788 - acc: 0.7647\n",
            "Epoch 131/150\n",
            "1250/1250 [==============================] - 38s 31ms/step - loss: 0.6728 - acc: 0.7679\n",
            "Epoch 132/150\n",
            "1250/1250 [==============================] - 38s 31ms/step - loss: 0.6766 - acc: 0.7628\n",
            "Epoch 133/150\n",
            "1250/1250 [==============================] - 39s 32ms/step - loss: 0.6719 - acc: 0.7670\n",
            "Epoch 134/150\n",
            "1250/1250 [==============================] - 39s 31ms/step - loss: 0.6726 - acc: 0.7664\n",
            "Epoch 135/150\n",
            "1250/1250 [==============================] - 39s 31ms/step - loss: 0.6733 - acc: 0.7666\n",
            "Epoch 136/150\n",
            "1250/1250 [==============================] - 39s 31ms/step - loss: 0.6756 - acc: 0.7655\n",
            "Epoch 137/150\n",
            "1250/1250 [==============================] - 39s 31ms/step - loss: 0.6666 - acc: 0.7691\n",
            "Epoch 138/150\n",
            "1250/1250 [==============================] - 39s 31ms/step - loss: 0.6696 - acc: 0.7681\n",
            "Epoch 139/150\n",
            "1250/1250 [==============================] - 40s 32ms/step - loss: 0.6706 - acc: 0.7673\n",
            "Epoch 140/150\n",
            "1250/1250 [==============================] - 39s 31ms/step - loss: 0.6652 - acc: 0.7698\n",
            "Epoch 141/150\n",
            "1250/1250 [==============================] - 39s 31ms/step - loss: 0.6635 - acc: 0.7705\n",
            "Epoch 142/150\n",
            "1250/1250 [==============================] - 39s 31ms/step - loss: 0.6684 - acc: 0.7678\n",
            "Epoch 143/150\n",
            "1250/1250 [==============================] - 38s 31ms/step - loss: 0.6643 - acc: 0.7687\n",
            "Epoch 144/150\n",
            "1250/1250 [==============================] - 38s 31ms/step - loss: 0.6636 - acc: 0.7697\n",
            "Epoch 145/150\n",
            "1250/1250 [==============================] - 39s 31ms/step - loss: 0.6652 - acc: 0.7714\n",
            "Epoch 146/150\n",
            "1250/1250 [==============================] - 38s 31ms/step - loss: 0.6654 - acc: 0.7678\n",
            "Epoch 147/150\n",
            "1250/1250 [==============================] - 39s 31ms/step - loss: 0.6677 - acc: 0.7675\n",
            "Epoch 148/150\n",
            "1250/1250 [==============================] - 39s 31ms/step - loss: 0.6584 - acc: 0.7711\n",
            "Epoch 149/150\n",
            "1250/1250 [==============================] - 39s 31ms/step - loss: 0.6650 - acc: 0.7711\n",
            "Epoch 150/150\n",
            "1250/1250 [==============================] - 39s 31ms/step - loss: 0.6609 - acc: 0.7703\n"
          ]
        }
      ],
      "source": [
        "# Train the model and store model parameters/loss values\n",
        "\n",
        "history_final_augmt = model.fit(train_datagen.flow(x_train, y_train_vec, batch_size=40), steps_per_epoch=x_tr.shape[0] // 32, epochs=150)\n",
        "model.save('final_data_augmt_model.h5')"
      ]
    },
    {
      "cell_type": "markdown",
      "metadata": {
        "id": "xF5g8Ut5jVey"
      },
      "source": [
        "## Evaluate the model on the test set\n",
        "\n",
        "Do NOT used the test set until now. Make sure that your model parameters and hyper-parameters are independent of the test set."
      ]
    },
    {
      "cell_type": "code",
      "execution_count": null,
      "metadata": {
        "id": "GCU9xHzrxfyR",
        "colab": {
          "base_uri": "https://localhost:8080/"
        },
        "outputId": "df08dd63-8a68-4646-856a-48337307f5d4"
      },
      "outputs": [
        {
          "output_type": "stream",
          "name": "stdout",
          "text": [
            "313/313 [==============================] - 2s 5ms/step - loss: 1.1030 - acc: 0.6632\n",
            "loss = 1.1030269861221313\n",
            "accuracy = 0.6632000207901001\n"
          ]
        }
      ],
      "source": [
        "# Evaluate your model performance (testing accuracy) on testing data.\n",
        "\n",
        "from keras.models import load_model\n",
        "model = load_model('data_augmt_model.h5')\n",
        "loss_and_acc = model.evaluate(x_test, y_test_vec)\n",
        "print('loss = ' + str(loss_and_acc[0]))\n",
        "print('accuracy = ' + str(loss_and_acc[1]))"
      ]
    },
    {
      "cell_type": "code",
      "execution_count": 13,
      "metadata": {
        "id": "dQJdtdcUjmJw",
        "colab": {
          "base_uri": "https://localhost:8080/"
        },
        "outputId": "039279fe-d934-41c6-e862-9825fa51f923"
      },
      "outputs": [
        {
          "output_type": "stream",
          "name": "stdout",
          "text": [
            "313/313 [==============================] - 2s 5ms/step - loss: 0.6504 - acc: 0.7792\n",
            "loss = 0.6504468321800232\n",
            "accuracy = 0.77920001745224\n"
          ]
        }
      ],
      "source": [
        "# Evaluate your model performance (testing accuracy) on testing data.\n",
        "\n",
        "from keras.models import load_model\n",
        "model = load_model('final_data_augmt_model.h5')\n",
        "loss_and_acc = model.evaluate(x_test, y_test_vec)\n",
        "print('loss = ' + str(loss_and_acc[0]))\n",
        "print('accuracy = ' + str(loss_and_acc[1]))"
      ]
    },
    {
      "cell_type": "markdown",
      "metadata": {
        "id": "x6maaDzvkJep"
      },
      "source": [
        "## Model 2 (BN + Dropout):"
      ]
    },
    {
      "cell_type": "code",
      "execution_count": null,
      "metadata": {
        "colab": {
          "base_uri": "https://localhost:8080/"
        },
        "id": "NK5g8oPUSUsh",
        "outputId": "2ac309d0-6b04-4481-a11c-a6f1351a0d3a"
      },
      "outputs": [
        {
          "output_type": "stream",
          "name": "stdout",
          "text": [
            "Model: \"sequential\"\n",
            "_________________________________________________________________\n",
            " Layer (type)                Output Shape              Param #   \n",
            "=================================================================\n",
            " conv2d (Conv2D)             (None, 30, 30, 32)        896       \n",
            "                                                                 \n",
            " batch_normalization (BatchN  (None, 30, 30, 32)       128       \n",
            " ormalization)                                                   \n",
            "                                                                 \n",
            " activation (Activation)     (None, 30, 30, 32)        0         \n",
            "                                                                 \n",
            " max_pooling2d (MaxPooling2D  (None, 15, 15, 32)       0         \n",
            " )                                                               \n",
            "                                                                 \n",
            " conv2d_1 (Conv2D)           (None, 12, 12, 64)        32832     \n",
            "                                                                 \n",
            " batch_normalization_1 (Batc  (None, 12, 12, 64)       256       \n",
            " hNormalization)                                                 \n",
            "                                                                 \n",
            " activation_1 (Activation)   (None, 12, 12, 64)        0         \n",
            "                                                                 \n",
            " max_pooling2d_1 (MaxPooling  (None, 6, 6, 64)         0         \n",
            " 2D)                                                             \n",
            "                                                                 \n",
            " flatten (Flatten)           (None, 2304)              0         \n",
            "                                                                 \n",
            " dropout (Dropout)           (None, 2304)              0         \n",
            "                                                                 \n",
            " dense (Dense)               (None, 256)               590080    \n",
            "                                                                 \n",
            " batch_normalization_2 (Batc  (None, 256)              1024      \n",
            " hNormalization)                                                 \n",
            "                                                                 \n",
            " activation_2 (Activation)   (None, 256)               0         \n",
            "                                                                 \n",
            " dense_1 (Dense)             (None, 10)                2570      \n",
            "                                                                 \n",
            "=================================================================\n",
            "Total params: 627,786\n",
            "Trainable params: 627,082\n",
            "Non-trainable params: 704\n",
            "_________________________________________________________________\n"
          ]
        }
      ],
      "source": [
        "# Build the model\n",
        "\n",
        "from keras.layers import Conv2D, MaxPooling2D, Flatten, Dense, Dropout, Activation, BatchNormalization\n",
        "from keras.models import Sequential\n",
        "\n",
        "model = Sequential()\n",
        "model.add(Conv2D(32, (3, 3), input_shape=(32, 32, 3)))\n",
        "model.add(BatchNormalization())\n",
        "model.add(Activation('relu'))\n",
        "\n",
        "model.add(MaxPooling2D((2, 2)))\n",
        "\n",
        "model.add(Conv2D(64, (4, 4)))\n",
        "model.add(BatchNormalization())\n",
        "model.add(Activation('relu'))\n",
        "\n",
        "model.add(MaxPooling2D((2, 2)))\n",
        "\n",
        "model.add(Flatten())\n",
        "model.add(Dropout(0.5))\n",
        "model.add(Dense(256))\n",
        "model.add(BatchNormalization())\n",
        "model.add(Activation('relu'))\n",
        "\n",
        "model.add(Dense(10, activation='softmax'))\n",
        "\n",
        "model.summary()"
      ]
    },
    {
      "cell_type": "code",
      "execution_count": null,
      "metadata": {
        "id": "trBXxU8bUVtc"
      },
      "outputs": [],
      "source": [
        "# Define model optimizer and loss function\n",
        "\n",
        "from tensorflow.keras import optimizers\n",
        "\n",
        "model.compile(loss='categorical_crossentropy', optimizer=optimizers.RMSprop(learning_rate=1E-4), metrics=['acc'])"
      ]
    },
    {
      "cell_type": "code",
      "execution_count": null,
      "metadata": {
        "colab": {
          "base_uri": "https://localhost:8080/"
        },
        "id": "yquECgX7VPs5",
        "outputId": "1ef6b059-f164-4892-c105-7e831c4e9df3"
      },
      "outputs": [
        {
          "output_type": "stream",
          "name": "stdout",
          "text": [
            "Epoch 1/100\n",
            "1000/1000 [==============================] - 24s 13ms/step - loss: 1.7040 - acc: 0.3880 - val_loss: 1.3660 - val_acc: 0.5193\n",
            "Epoch 2/100\n",
            "1000/1000 [==============================] - 12s 12ms/step - loss: 1.3742 - acc: 0.5095 - val_loss: 1.1906 - val_acc: 0.5855\n",
            "Epoch 3/100\n",
            "1000/1000 [==============================] - 12s 12ms/step - loss: 1.2522 - acc: 0.5553 - val_loss: 1.1191 - val_acc: 0.6135\n",
            "Epoch 4/100\n",
            "1000/1000 [==============================] - 12s 12ms/step - loss: 1.1671 - acc: 0.5859 - val_loss: 1.0684 - val_acc: 0.6276\n",
            "Epoch 5/100\n",
            "1000/1000 [==============================] - 13s 13ms/step - loss: 1.1046 - acc: 0.6089 - val_loss: 1.0469 - val_acc: 0.6293\n",
            "Epoch 6/100\n",
            "1000/1000 [==============================] - 12s 12ms/step - loss: 1.0523 - acc: 0.6282 - val_loss: 1.0066 - val_acc: 0.6422\n",
            "Epoch 7/100\n",
            "1000/1000 [==============================] - 12s 12ms/step - loss: 1.0140 - acc: 0.6443 - val_loss: 0.9483 - val_acc: 0.6655\n",
            "Epoch 8/100\n",
            "1000/1000 [==============================] - 12s 12ms/step - loss: 0.9842 - acc: 0.6540 - val_loss: 0.9235 - val_acc: 0.6756\n",
            "Epoch 9/100\n",
            "1000/1000 [==============================] - 12s 12ms/step - loss: 0.9523 - acc: 0.6636 - val_loss: 0.8803 - val_acc: 0.6930\n",
            "Epoch 10/100\n",
            "1000/1000 [==============================] - 12s 12ms/step - loss: 0.9250 - acc: 0.6772 - val_loss: 0.9160 - val_acc: 0.6748\n",
            "Epoch 11/100\n",
            "1000/1000 [==============================] - 12s 12ms/step - loss: 0.9027 - acc: 0.6822 - val_loss: 0.9591 - val_acc: 0.6602\n",
            "Epoch 12/100\n",
            "1000/1000 [==============================] - 12s 12ms/step - loss: 0.8807 - acc: 0.6909 - val_loss: 0.8610 - val_acc: 0.6982\n",
            "Epoch 13/100\n",
            "1000/1000 [==============================] - 12s 12ms/step - loss: 0.8621 - acc: 0.6963 - val_loss: 0.8488 - val_acc: 0.6997\n",
            "Epoch 14/100\n",
            "1000/1000 [==============================] - 12s 12ms/step - loss: 0.8435 - acc: 0.7062 - val_loss: 0.8221 - val_acc: 0.7056\n",
            "Epoch 15/100\n",
            "1000/1000 [==============================] - 12s 12ms/step - loss: 0.8195 - acc: 0.7138 - val_loss: 0.8080 - val_acc: 0.7180\n",
            "Epoch 16/100\n",
            "1000/1000 [==============================] - 12s 12ms/step - loss: 0.8013 - acc: 0.7219 - val_loss: 0.8280 - val_acc: 0.7148\n",
            "Epoch 17/100\n",
            "1000/1000 [==============================] - 13s 13ms/step - loss: 0.7827 - acc: 0.7292 - val_loss: 0.8167 - val_acc: 0.7087\n",
            "Epoch 18/100\n",
            "1000/1000 [==============================] - 12s 12ms/step - loss: 0.7777 - acc: 0.7288 - val_loss: 0.7724 - val_acc: 0.7322\n",
            "Epoch 19/100\n",
            "1000/1000 [==============================] - 12s 12ms/step - loss: 0.7606 - acc: 0.7362 - val_loss: 0.7725 - val_acc: 0.7342\n",
            "Epoch 20/100\n",
            "1000/1000 [==============================] - 12s 12ms/step - loss: 0.7417 - acc: 0.7424 - val_loss: 0.7946 - val_acc: 0.7286\n",
            "Epoch 21/100\n",
            "1000/1000 [==============================] - 12s 12ms/step - loss: 0.7319 - acc: 0.7450 - val_loss: 0.7899 - val_acc: 0.7227\n",
            "Epoch 22/100\n",
            "1000/1000 [==============================] - 12s 12ms/step - loss: 0.7154 - acc: 0.7516 - val_loss: 0.7483 - val_acc: 0.7417\n",
            "Epoch 23/100\n",
            "1000/1000 [==============================] - 12s 12ms/step - loss: 0.7046 - acc: 0.7533 - val_loss: 0.7359 - val_acc: 0.7460\n",
            "Epoch 24/100\n",
            "1000/1000 [==============================] - 12s 12ms/step - loss: 0.6928 - acc: 0.7580 - val_loss: 0.8648 - val_acc: 0.7117\n",
            "Epoch 25/100\n",
            "1000/1000 [==============================] - 12s 12ms/step - loss: 0.6738 - acc: 0.7659 - val_loss: 0.7693 - val_acc: 0.7328\n",
            "Epoch 26/100\n",
            "1000/1000 [==============================] - 12s 12ms/step - loss: 0.6667 - acc: 0.7703 - val_loss: 0.7154 - val_acc: 0.7566\n",
            "Epoch 27/100\n",
            "1000/1000 [==============================] - 12s 12ms/step - loss: 0.6599 - acc: 0.7716 - val_loss: 0.7636 - val_acc: 0.7341\n",
            "Epoch 28/100\n",
            "1000/1000 [==============================] - 12s 12ms/step - loss: 0.6474 - acc: 0.7761 - val_loss: 0.7245 - val_acc: 0.7493\n",
            "Epoch 29/100\n",
            "1000/1000 [==============================] - 12s 12ms/step - loss: 0.6364 - acc: 0.7790 - val_loss: 0.7019 - val_acc: 0.7572\n",
            "Epoch 30/100\n",
            "1000/1000 [==============================] - 12s 12ms/step - loss: 0.6241 - acc: 0.7822 - val_loss: 0.7398 - val_acc: 0.7423\n",
            "Epoch 31/100\n",
            "1000/1000 [==============================] - 12s 12ms/step - loss: 0.6146 - acc: 0.7866 - val_loss: 0.7429 - val_acc: 0.7441\n",
            "Epoch 32/100\n",
            "1000/1000 [==============================] - 12s 12ms/step - loss: 0.6092 - acc: 0.7884 - val_loss: 0.7060 - val_acc: 0.7582\n",
            "Epoch 33/100\n",
            "1000/1000 [==============================] - 13s 13ms/step - loss: 0.5970 - acc: 0.7933 - val_loss: 0.7214 - val_acc: 0.7545\n",
            "Epoch 34/100\n",
            "1000/1000 [==============================] - 13s 13ms/step - loss: 0.5849 - acc: 0.7966 - val_loss: 0.7178 - val_acc: 0.7543\n",
            "Epoch 35/100\n",
            "1000/1000 [==============================] - 12s 12ms/step - loss: 0.5795 - acc: 0.7994 - val_loss: 0.6954 - val_acc: 0.7585\n",
            "Epoch 36/100\n",
            "1000/1000 [==============================] - 12s 12ms/step - loss: 0.5717 - acc: 0.8003 - val_loss: 0.7419 - val_acc: 0.7456\n",
            "Epoch 37/100\n",
            "1000/1000 [==============================] - 12s 12ms/step - loss: 0.5615 - acc: 0.8029 - val_loss: 0.6835 - val_acc: 0.7693\n",
            "Epoch 38/100\n",
            "1000/1000 [==============================] - 12s 12ms/step - loss: 0.5518 - acc: 0.8084 - val_loss: 0.6824 - val_acc: 0.7659\n",
            "Epoch 39/100\n",
            "1000/1000 [==============================] - 12s 12ms/step - loss: 0.5446 - acc: 0.8111 - val_loss: 0.6702 - val_acc: 0.7682\n",
            "Epoch 40/100\n",
            "1000/1000 [==============================] - 12s 12ms/step - loss: 0.5382 - acc: 0.8149 - val_loss: 0.6832 - val_acc: 0.7683\n",
            "Epoch 41/100\n",
            "1000/1000 [==============================] - 12s 12ms/step - loss: 0.5278 - acc: 0.8174 - val_loss: 0.7126 - val_acc: 0.7589\n",
            "Epoch 42/100\n",
            "1000/1000 [==============================] - 12s 12ms/step - loss: 0.5197 - acc: 0.8186 - val_loss: 0.7524 - val_acc: 0.7481\n",
            "Epoch 43/100\n",
            "1000/1000 [==============================] - 12s 12ms/step - loss: 0.5114 - acc: 0.8225 - val_loss: 0.7067 - val_acc: 0.7574\n",
            "Epoch 44/100\n",
            "1000/1000 [==============================] - 12s 12ms/step - loss: 0.5062 - acc: 0.8236 - val_loss: 0.7460 - val_acc: 0.7465\n",
            "Epoch 45/100\n",
            "1000/1000 [==============================] - 12s 12ms/step - loss: 0.5020 - acc: 0.8258 - val_loss: 0.6656 - val_acc: 0.7752\n",
            "Epoch 46/100\n",
            "1000/1000 [==============================] - 12s 12ms/step - loss: 0.4925 - acc: 0.8275 - val_loss: 0.6965 - val_acc: 0.7640\n",
            "Epoch 47/100\n",
            "1000/1000 [==============================] - 12s 12ms/step - loss: 0.4869 - acc: 0.8332 - val_loss: 0.7278 - val_acc: 0.7536\n",
            "Epoch 48/100\n",
            "1000/1000 [==============================] - 12s 12ms/step - loss: 0.4773 - acc: 0.8352 - val_loss: 0.6779 - val_acc: 0.7696\n",
            "Epoch 49/100\n",
            "1000/1000 [==============================] - 12s 12ms/step - loss: 0.4746 - acc: 0.8363 - val_loss: 0.7929 - val_acc: 0.7369\n",
            "Epoch 50/100\n",
            "1000/1000 [==============================] - 12s 12ms/step - loss: 0.4649 - acc: 0.8406 - val_loss: 0.7003 - val_acc: 0.7598\n",
            "Epoch 51/100\n",
            "1000/1000 [==============================] - 12s 12ms/step - loss: 0.4617 - acc: 0.8422 - val_loss: 0.7338 - val_acc: 0.7508\n",
            "Epoch 52/100\n",
            "1000/1000 [==============================] - 12s 12ms/step - loss: 0.4546 - acc: 0.8450 - val_loss: 0.7171 - val_acc: 0.7514\n",
            "Epoch 53/100\n",
            "1000/1000 [==============================] - 12s 12ms/step - loss: 0.4432 - acc: 0.8462 - val_loss: 0.6712 - val_acc: 0.7703\n",
            "Epoch 54/100\n",
            "1000/1000 [==============================] - 12s 12ms/step - loss: 0.4422 - acc: 0.8472 - val_loss: 0.6414 - val_acc: 0.7814\n",
            "Epoch 55/100\n",
            "1000/1000 [==============================] - 12s 12ms/step - loss: 0.4398 - acc: 0.8485 - val_loss: 0.6455 - val_acc: 0.7779\n",
            "Epoch 56/100\n",
            "1000/1000 [==============================] - 12s 12ms/step - loss: 0.4284 - acc: 0.8510 - val_loss: 0.6621 - val_acc: 0.7787\n",
            "Epoch 57/100\n",
            "1000/1000 [==============================] - 12s 12ms/step - loss: 0.4242 - acc: 0.8547 - val_loss: 0.8166 - val_acc: 0.7352\n",
            "Epoch 58/100\n",
            "1000/1000 [==============================] - 12s 12ms/step - loss: 0.4181 - acc: 0.8570 - val_loss: 0.6570 - val_acc: 0.7796\n",
            "Epoch 59/100\n",
            "1000/1000 [==============================] - 16s 16ms/step - loss: 0.4140 - acc: 0.8557 - val_loss: 0.6628 - val_acc: 0.7750\n",
            "Epoch 60/100\n",
            "1000/1000 [==============================] - 13s 13ms/step - loss: 0.4062 - acc: 0.8604 - val_loss: 0.7828 - val_acc: 0.7464\n",
            "Epoch 61/100\n",
            "1000/1000 [==============================] - 12s 12ms/step - loss: 0.4058 - acc: 0.8601 - val_loss: 0.7846 - val_acc: 0.7423\n",
            "Epoch 62/100\n",
            "1000/1000 [==============================] - 12s 12ms/step - loss: 0.3975 - acc: 0.8644 - val_loss: 0.7174 - val_acc: 0.7660\n",
            "Epoch 63/100\n",
            "1000/1000 [==============================] - 12s 12ms/step - loss: 0.3905 - acc: 0.8640 - val_loss: 0.6950 - val_acc: 0.7666\n",
            "Epoch 64/100\n",
            "1000/1000 [==============================] - 12s 12ms/step - loss: 0.3935 - acc: 0.8661 - val_loss: 0.7038 - val_acc: 0.7708\n",
            "Epoch 65/100\n",
            "1000/1000 [==============================] - 12s 12ms/step - loss: 0.3878 - acc: 0.8654 - val_loss: 0.6466 - val_acc: 0.7815\n",
            "Epoch 66/100\n",
            "1000/1000 [==============================] - 13s 13ms/step - loss: 0.3813 - acc: 0.8682 - val_loss: 0.6414 - val_acc: 0.7849\n",
            "Epoch 67/100\n",
            "1000/1000 [==============================] - 12s 12ms/step - loss: 0.3835 - acc: 0.8683 - val_loss: 0.7575 - val_acc: 0.7544\n",
            "Epoch 68/100\n",
            "1000/1000 [==============================] - 12s 12ms/step - loss: 0.3722 - acc: 0.8713 - val_loss: 0.6492 - val_acc: 0.7849\n",
            "Epoch 69/100\n",
            "1000/1000 [==============================] - 12s 12ms/step - loss: 0.3689 - acc: 0.8728 - val_loss: 0.7663 - val_acc: 0.7502\n",
            "Epoch 70/100\n",
            "1000/1000 [==============================] - 12s 12ms/step - loss: 0.3640 - acc: 0.8756 - val_loss: 0.6564 - val_acc: 0.7892\n",
            "Epoch 71/100\n",
            "1000/1000 [==============================] - 12s 12ms/step - loss: 0.3609 - acc: 0.8763 - val_loss: 0.6462 - val_acc: 0.7866\n",
            "Epoch 72/100\n",
            "1000/1000 [==============================] - 12s 12ms/step - loss: 0.3580 - acc: 0.8770 - val_loss: 0.6548 - val_acc: 0.7830\n",
            "Epoch 73/100\n",
            "1000/1000 [==============================] - 12s 12ms/step - loss: 0.3515 - acc: 0.8797 - val_loss: 0.7387 - val_acc: 0.7681\n",
            "Epoch 74/100\n",
            "1000/1000 [==============================] - 12s 12ms/step - loss: 0.3486 - acc: 0.8799 - val_loss: 0.6677 - val_acc: 0.7770\n",
            "Epoch 75/100\n",
            "1000/1000 [==============================] - 14s 14ms/step - loss: 0.3437 - acc: 0.8801 - val_loss: 0.6879 - val_acc: 0.7795\n",
            "Epoch 76/100\n",
            "1000/1000 [==============================] - 13s 13ms/step - loss: 0.3342 - acc: 0.8855 - val_loss: 0.7173 - val_acc: 0.7605\n",
            "Epoch 77/100\n",
            "1000/1000 [==============================] - 12s 12ms/step - loss: 0.3361 - acc: 0.8865 - val_loss: 0.6395 - val_acc: 0.7866\n",
            "Epoch 78/100\n",
            "1000/1000 [==============================] - 12s 12ms/step - loss: 0.3317 - acc: 0.8866 - val_loss: 0.6860 - val_acc: 0.7805\n",
            "Epoch 79/100\n",
            "1000/1000 [==============================] - 12s 12ms/step - loss: 0.3289 - acc: 0.8874 - val_loss: 0.7070 - val_acc: 0.7640\n",
            "Epoch 80/100\n",
            "1000/1000 [==============================] - 12s 12ms/step - loss: 0.3267 - acc: 0.8874 - val_loss: 0.6917 - val_acc: 0.7788\n",
            "Epoch 81/100\n",
            "1000/1000 [==============================] - 13s 13ms/step - loss: 0.3230 - acc: 0.8886 - val_loss: 0.7223 - val_acc: 0.7748\n",
            "Epoch 82/100\n",
            "1000/1000 [==============================] - 12s 12ms/step - loss: 0.3233 - acc: 0.8882 - val_loss: 0.6497 - val_acc: 0.7900\n",
            "Epoch 83/100\n",
            "1000/1000 [==============================] - 13s 13ms/step - loss: 0.3174 - acc: 0.8918 - val_loss: 0.7188 - val_acc: 0.7695\n",
            "Epoch 84/100\n",
            "1000/1000 [==============================] - 12s 12ms/step - loss: 0.3116 - acc: 0.8921 - val_loss: 0.6681 - val_acc: 0.7771\n",
            "Epoch 85/100\n",
            "1000/1000 [==============================] - 12s 12ms/step - loss: 0.3132 - acc: 0.8927 - val_loss: 0.6722 - val_acc: 0.7865\n",
            "Epoch 86/100\n",
            "1000/1000 [==============================] - 12s 12ms/step - loss: 0.3082 - acc: 0.8955 - val_loss: 0.7259 - val_acc: 0.7734\n",
            "Epoch 87/100\n",
            "1000/1000 [==============================] - 12s 12ms/step - loss: 0.3065 - acc: 0.8947 - val_loss: 0.7262 - val_acc: 0.7753\n",
            "Epoch 88/100\n",
            "1000/1000 [==============================] - 12s 12ms/step - loss: 0.3085 - acc: 0.8938 - val_loss: 0.6651 - val_acc: 0.7862\n",
            "Epoch 89/100\n",
            "1000/1000 [==============================] - 12s 12ms/step - loss: 0.3009 - acc: 0.8980 - val_loss: 0.6699 - val_acc: 0.7821\n",
            "Epoch 90/100\n",
            "1000/1000 [==============================] - 12s 12ms/step - loss: 0.2962 - acc: 0.8994 - val_loss: 0.6654 - val_acc: 0.7804\n",
            "Epoch 91/100\n",
            "1000/1000 [==============================] - 12s 12ms/step - loss: 0.2915 - acc: 0.8985 - val_loss: 0.6982 - val_acc: 0.7791\n",
            "Epoch 92/100\n",
            "1000/1000 [==============================] - 12s 12ms/step - loss: 0.2904 - acc: 0.9004 - val_loss: 0.6765 - val_acc: 0.7806\n",
            "Epoch 93/100\n",
            "1000/1000 [==============================] - 12s 12ms/step - loss: 0.2921 - acc: 0.8965 - val_loss: 0.6644 - val_acc: 0.7817\n",
            "Epoch 94/100\n",
            "1000/1000 [==============================] - 12s 12ms/step - loss: 0.2833 - acc: 0.9026 - val_loss: 0.6792 - val_acc: 0.7843\n",
            "Epoch 95/100\n",
            "1000/1000 [==============================] - 12s 12ms/step - loss: 0.2838 - acc: 0.9017 - val_loss: 0.6548 - val_acc: 0.7873\n",
            "Epoch 96/100\n",
            "1000/1000 [==============================] - 12s 12ms/step - loss: 0.2793 - acc: 0.9047 - val_loss: 0.7371 - val_acc: 0.7608\n",
            "Epoch 97/100\n",
            "1000/1000 [==============================] - 12s 12ms/step - loss: 0.2793 - acc: 0.9039 - val_loss: 0.6673 - val_acc: 0.7877\n",
            "Epoch 98/100\n",
            "1000/1000 [==============================] - 12s 12ms/step - loss: 0.2770 - acc: 0.9036 - val_loss: 0.8245 - val_acc: 0.7562\n",
            "Epoch 99/100\n",
            "1000/1000 [==============================] - 12s 12ms/step - loss: 0.2728 - acc: 0.9060 - val_loss: 0.7120 - val_acc: 0.7789\n",
            "Epoch 100/100\n",
            "1000/1000 [==============================] - 13s 13ms/step - loss: 0.2736 - acc: 0.9067 - val_loss: 0.6660 - val_acc: 0.7850\n"
          ]
        }
      ],
      "source": [
        "# Train the model and store model parameters/loss values\n",
        "\n",
        "history_bn_dropout = model.fit(x_tr, y_tr, batch_size=40, epochs=100, validation_data=(x_val, y_val))\n",
        "model.save('bn_dropout_model.h5')"
      ]
    },
    {
      "cell_type": "markdown",
      "metadata": {
        "id": "JvB3zvKHlq0b"
      },
      "source": [
        "## Plot the training and validation loss curve versus epochs."
      ]
    },
    {
      "cell_type": "code",
      "execution_count": null,
      "metadata": {
        "id": "QGAjrUIOlvvH",
        "colab": {
          "base_uri": "https://localhost:8080/",
          "height": 279
        },
        "outputId": "a0537781-633c-4f6a-9c53-bac6bc806762"
      },
      "outputs": [
        {
          "output_type": "display_data",
          "data": {
            "text/plain": [
              "<Figure size 432x288 with 1 Axes>"
            ],
            "image/png": "[encoded data removed]"
          },
          "metadata": {
            "needs_background": "light"
          }
        }
      ],
      "source": [
        "# Plot the loss curve\n",
        "\n",
        "import matplotlib.pyplot as plt\n",
        "%matplotlib inline\n",
        "\n",
        "acc = history_bn_dropout.history['acc']\n",
        "val_acc = history_bn_dropout.history['val_acc']\n",
        "\n",
        "epochs = range(len(acc))\n",
        "\n",
        "plt.plot(epochs, acc, 'bo', label='Training acc')\n",
        "plt.plot(epochs, val_acc, 'r', label='Validation acc')\n",
        "plt.xlabel('Epochs')\n",
        "plt.ylabel('Accuracy')\n",
        "plt.legend()\n",
        "plt.show()"
      ]
    },
    {
      "cell_type": "markdown",
      "metadata": {
        "id": "BaL358TXmgcA"
      },
      "source": [
        "## Train (again) and evaluate the model\n",
        "- To this end, you have found the \"best\" hyper-parameters. \n",
        "- Now, fix the hyper-parameters and train the network on the entire training set (all the 50K training samples)\n",
        "- Evaluate your model on the test set."
      ]
    },
    {
      "cell_type": "markdown",
      "metadata": {
        "id": "kMWTGOEWmk6_"
      },
      "source": [
        "### Train the model on the entire training set\n",
        "\n",
        "Why? Previously, you used 40K samples for training; you wasted 10K samples for the sake of hyper-parameter tuning. Now you already know the hyper-parameters, so why not using all the 50K samples for training?"
      ]
    },
    {
      "cell_type": "code",
      "execution_count": null,
      "metadata": {
        "id": "GfPOOPNpn_wO"
      },
      "outputs": [],
      "source": [
        "#<Compile your model again (using the same hyper-parameters you tuned above)>\n",
        "\n",
        "from keras.layers import Conv2D, MaxPooling2D, Flatten, Dense, Dropout, Activation, BatchNormalization\n",
        "from keras.models import Sequential\n",
        "\n",
        "model = Sequential()\n",
        "model.add(Conv2D(32, (3, 3), input_shape=(32, 32, 3)))\n",
        "model.add(BatchNormalization())\n",
        "model.add(Activation('relu'))\n",
        "\n",
        "model.add(MaxPooling2D((2, 2)))\n",
        "\n",
        "model.add(Conv2D(64, (4, 4)))\n",
        "model.add(BatchNormalization())\n",
        "model.add(Activation('relu'))\n",
        "\n",
        "model.add(MaxPooling2D((2, 2)))\n",
        "\n",
        "model.add(Flatten())\n",
        "model.add(Dropout(0.5))\n",
        "model.add(Dense(256))\n",
        "model.add(BatchNormalization())\n",
        "model.add(Activation('relu'))\n",
        "\n",
        "model.add(Dense(10, activation='softmax'))\n",
        "\n",
        "from tensorflow.keras import optimizers\n",
        "\n",
        "model.compile(loss='categorical_crossentropy', optimizer=optimizers.RMSprop(learning_rate=1E-4), metrics=['acc'])"
      ]
    },
    {
      "cell_type": "code",
      "source": [
        "# Train the model and store model parameters/loss values\n",
        "\n",
        "history_bn_dropout = model.fit(x_train, y_train_vec, batch_size=40, epochs=100)\n",
        "model.save('final_bn_dropout_model.h5')"
      ],
      "metadata": {
        "id": "m9mxYJEmxEyM",
        "colab": {
          "base_uri": "https://localhost:8080/"
        },
        "outputId": "fa6393c1-12c0-4e17-ec9d-5c2555204631"
      },
      "execution_count": null,
      "outputs": [
        {
          "output_type": "stream",
          "name": "stdout",
          "text": [
            "Epoch 1/100\n",
            "1250/1250 [==============================] - 25s 11ms/step - loss: 1.6303 - acc: 0.4181\n",
            "Epoch 2/100\n",
            "1250/1250 [==============================] - 14s 11ms/step - loss: 1.2876 - acc: 0.5449\n",
            "Epoch 3/100\n",
            "1250/1250 [==============================] - 15s 12ms/step - loss: 1.1565 - acc: 0.5913\n",
            "Epoch 4/100\n",
            "1250/1250 [==============================] - 19s 15ms/step - loss: 1.0758 - acc: 0.6216\n",
            "Epoch 5/100\n",
            "1250/1250 [==============================] - 15s 12ms/step - loss: 1.0230 - acc: 0.6397\n",
            "Epoch 6/100\n",
            "1250/1250 [==============================] - 14s 11ms/step - loss: 0.9755 - acc: 0.6581\n",
            "Epoch 7/100\n",
            "1250/1250 [==============================] - 14s 11ms/step - loss: 0.9426 - acc: 0.6685\n",
            "Epoch 8/100\n",
            "1250/1250 [==============================] - 14s 11ms/step - loss: 0.9091 - acc: 0.6832\n",
            "Epoch 9/100\n",
            "1250/1250 [==============================] - 14s 11ms/step - loss: 0.8833 - acc: 0.6879\n",
            "Epoch 10/100\n",
            "1250/1250 [==============================] - 14s 11ms/step - loss: 0.8603 - acc: 0.6982\n",
            "Epoch 11/100\n",
            "1250/1250 [==============================] - 14s 11ms/step - loss: 0.8399 - acc: 0.7050\n",
            "Epoch 12/100\n",
            "1250/1250 [==============================] - 15s 12ms/step - loss: 0.8178 - acc: 0.7133\n",
            "Epoch 13/100\n",
            "1250/1250 [==============================] - 14s 11ms/step - loss: 0.8020 - acc: 0.7199\n",
            "Epoch 14/100\n",
            "1250/1250 [==============================] - 14s 11ms/step - loss: 0.7809 - acc: 0.7271\n",
            "Epoch 15/100\n",
            "1250/1250 [==============================] - 14s 11ms/step - loss: 0.7633 - acc: 0.7349\n",
            "Epoch 16/100\n",
            "1250/1250 [==============================] - 14s 11ms/step - loss: 0.7480 - acc: 0.7370\n",
            "Epoch 17/100\n",
            "1250/1250 [==============================] - 14s 11ms/step - loss: 0.7313 - acc: 0.7453\n",
            "Epoch 18/100\n",
            "1250/1250 [==============================] - 14s 11ms/step - loss: 0.7196 - acc: 0.7480\n",
            "Epoch 19/100\n",
            "1250/1250 [==============================] - 14s 11ms/step - loss: 0.7084 - acc: 0.7518\n",
            "Epoch 20/100\n",
            "1250/1250 [==============================] - 14s 11ms/step - loss: 0.6898 - acc: 0.7598\n",
            "Epoch 21/100\n",
            "1250/1250 [==============================] - 14s 11ms/step - loss: 0.6831 - acc: 0.7640\n",
            "Epoch 22/100\n",
            "1250/1250 [==============================] - 14s 11ms/step - loss: 0.6692 - acc: 0.7674\n",
            "Epoch 23/100\n",
            "1250/1250 [==============================] - 14s 11ms/step - loss: 0.6527 - acc: 0.7732\n",
            "Epoch 24/100\n",
            "1250/1250 [==============================] - 14s 11ms/step - loss: 0.6452 - acc: 0.7745\n",
            "Epoch 25/100\n",
            "1250/1250 [==============================] - 14s 11ms/step - loss: 0.6336 - acc: 0.7797\n",
            "Epoch 26/100\n",
            "1250/1250 [==============================] - 14s 11ms/step - loss: 0.6254 - acc: 0.7822\n",
            "Epoch 27/100\n",
            "1250/1250 [==============================] - 14s 11ms/step - loss: 0.6170 - acc: 0.7857\n",
            "Epoch 28/100\n",
            "1250/1250 [==============================] - 14s 11ms/step - loss: 0.6048 - acc: 0.7900\n",
            "Epoch 29/100\n",
            "1250/1250 [==============================] - 14s 11ms/step - loss: 0.5988 - acc: 0.7943\n",
            "Epoch 30/100\n",
            "1250/1250 [==============================] - 14s 11ms/step - loss: 0.5889 - acc: 0.7967\n",
            "Epoch 31/100\n",
            "1250/1250 [==============================] - 14s 11ms/step - loss: 0.5793 - acc: 0.7997\n",
            "Epoch 32/100\n",
            "1250/1250 [==============================] - 14s 11ms/step - loss: 0.5691 - acc: 0.8041\n",
            "Epoch 33/100\n",
            "1250/1250 [==============================] - 14s 11ms/step - loss: 0.5627 - acc: 0.8059\n",
            "Epoch 34/100\n",
            "1250/1250 [==============================] - 14s 11ms/step - loss: 0.5530 - acc: 0.8096\n",
            "Epoch 35/100\n",
            "1250/1250 [==============================] - 14s 11ms/step - loss: 0.5415 - acc: 0.8137\n",
            "Epoch 36/100\n",
            "1250/1250 [==============================] - 14s 11ms/step - loss: 0.5391 - acc: 0.8131\n",
            "Epoch 37/100\n",
            "1250/1250 [==============================] - 14s 11ms/step - loss: 0.5339 - acc: 0.8150\n",
            "Epoch 38/100\n",
            "1250/1250 [==============================] - 14s 12ms/step - loss: 0.5191 - acc: 0.8209\n",
            "Epoch 39/100\n",
            "1250/1250 [==============================] - 14s 11ms/step - loss: 0.5129 - acc: 0.8225\n",
            "Epoch 40/100\n",
            "1250/1250 [==============================] - 14s 11ms/step - loss: 0.5065 - acc: 0.8242\n",
            "Epoch 41/100\n",
            "1250/1250 [==============================] - 14s 11ms/step - loss: 0.5001 - acc: 0.8296\n",
            "Epoch 42/100\n",
            "1250/1250 [==============================] - 14s 11ms/step - loss: 0.4940 - acc: 0.8297\n",
            "Epoch 43/100\n",
            "1250/1250 [==============================] - 14s 11ms/step - loss: 0.4888 - acc: 0.8325\n",
            "Epoch 44/100\n",
            "1250/1250 [==============================] - 14s 11ms/step - loss: 0.4829 - acc: 0.8311\n",
            "Epoch 45/100\n",
            "1250/1250 [==============================] - 14s 11ms/step - loss: 0.4777 - acc: 0.8358\n",
            "Epoch 46/100\n",
            "1250/1250 [==============================] - 14s 11ms/step - loss: 0.4648 - acc: 0.8390\n",
            "Epoch 47/100\n",
            "1250/1250 [==============================] - 14s 11ms/step - loss: 0.4672 - acc: 0.8364\n",
            "Epoch 48/100\n",
            "1250/1250 [==============================] - 14s 11ms/step - loss: 0.4605 - acc: 0.8427\n",
            "Epoch 49/100\n",
            "1250/1250 [==============================] - 14s 11ms/step - loss: 0.4491 - acc: 0.8439\n",
            "Epoch 50/100\n",
            "1250/1250 [==============================] - 14s 11ms/step - loss: 0.4485 - acc: 0.8450\n",
            "Epoch 51/100\n",
            "1250/1250 [==============================] - 14s 11ms/step - loss: 0.4402 - acc: 0.8476\n",
            "Epoch 52/100\n",
            "1250/1250 [==============================] - 14s 11ms/step - loss: 0.4367 - acc: 0.8486\n",
            "Epoch 53/100\n",
            "1250/1250 [==============================] - 14s 11ms/step - loss: 0.4310 - acc: 0.8516\n",
            "Epoch 54/100\n",
            "1250/1250 [==============================] - 14s 11ms/step - loss: 0.4253 - acc: 0.8529\n",
            "Epoch 55/100\n",
            "1250/1250 [==============================] - 14s 12ms/step - loss: 0.4239 - acc: 0.8534\n",
            "Epoch 56/100\n",
            "1250/1250 [==============================] - 14s 11ms/step - loss: 0.4112 - acc: 0.8586\n",
            "Epoch 57/100\n",
            "1250/1250 [==============================] - 14s 11ms/step - loss: 0.4120 - acc: 0.8574\n",
            "Epoch 58/100\n",
            "1250/1250 [==============================] - 14s 11ms/step - loss: 0.4062 - acc: 0.8596\n",
            "Epoch 59/100\n",
            "1250/1250 [==============================] - 14s 11ms/step - loss: 0.4005 - acc: 0.8622\n",
            "Epoch 60/100\n",
            "1250/1250 [==============================] - 14s 11ms/step - loss: 0.3974 - acc: 0.8636\n",
            "Epoch 61/100\n",
            "1250/1250 [==============================] - 14s 11ms/step - loss: 0.3915 - acc: 0.8639\n",
            "Epoch 62/100\n",
            "1250/1250 [==============================] - 14s 11ms/step - loss: 0.3917 - acc: 0.8652\n",
            "Epoch 63/100\n",
            "1250/1250 [==============================] - 14s 11ms/step - loss: 0.3876 - acc: 0.8667\n",
            "Epoch 64/100\n",
            "1250/1250 [==============================] - 14s 11ms/step - loss: 0.3797 - acc: 0.8708\n",
            "Epoch 65/100\n",
            "1250/1250 [==============================] - 14s 11ms/step - loss: 0.3770 - acc: 0.8693\n",
            "Epoch 66/100\n",
            "1250/1250 [==============================] - 14s 11ms/step - loss: 0.3730 - acc: 0.8720\n",
            "Epoch 67/100\n",
            "1250/1250 [==============================] - 14s 11ms/step - loss: 0.3690 - acc: 0.8735\n",
            "Epoch 68/100\n",
            "1250/1250 [==============================] - 14s 11ms/step - loss: 0.3669 - acc: 0.8745\n",
            "Epoch 69/100\n",
            "1250/1250 [==============================] - 14s 11ms/step - loss: 0.3587 - acc: 0.8750\n",
            "Epoch 70/100\n",
            "1250/1250 [==============================] - 14s 11ms/step - loss: 0.3580 - acc: 0.8758\n",
            "Epoch 71/100\n",
            "1250/1250 [==============================] - 14s 11ms/step - loss: 0.3529 - acc: 0.8785\n",
            "Epoch 72/100\n",
            "1250/1250 [==============================] - 14s 11ms/step - loss: 0.3522 - acc: 0.8796\n",
            "Epoch 73/100\n",
            "1250/1250 [==============================] - 14s 11ms/step - loss: 0.3490 - acc: 0.8777\n",
            "Epoch 74/100\n",
            "1250/1250 [==============================] - 14s 11ms/step - loss: 0.3459 - acc: 0.8803\n",
            "Epoch 75/100\n",
            "1250/1250 [==============================] - 14s 11ms/step - loss: 0.3412 - acc: 0.8820\n",
            "Epoch 76/100\n",
            "1250/1250 [==============================] - 14s 11ms/step - loss: 0.3369 - acc: 0.8832\n",
            "Epoch 77/100\n",
            "1250/1250 [==============================] - 14s 11ms/step - loss: 0.3322 - acc: 0.8862\n",
            "Epoch 78/100\n",
            "1250/1250 [==============================] - 14s 11ms/step - loss: 0.3378 - acc: 0.8815\n",
            "Epoch 79/100\n",
            "1250/1250 [==============================] - 14s 11ms/step - loss: 0.3275 - acc: 0.8862\n",
            "Epoch 80/100\n",
            "1250/1250 [==============================] - 14s 11ms/step - loss: 0.3235 - acc: 0.8893\n",
            "Epoch 81/100\n",
            "1250/1250 [==============================] - 14s 11ms/step - loss: 0.3226 - acc: 0.8878\n",
            "Epoch 82/100\n",
            "1250/1250 [==============================] - 14s 11ms/step - loss: 0.3160 - acc: 0.8907\n",
            "Epoch 83/100\n",
            "1250/1250 [==============================] - 14s 11ms/step - loss: 0.3157 - acc: 0.8912\n",
            "Epoch 84/100\n",
            "1250/1250 [==============================] - 14s 11ms/step - loss: 0.3106 - acc: 0.8941\n",
            "Epoch 85/100\n",
            "1250/1250 [==============================] - 14s 11ms/step - loss: 0.3135 - acc: 0.8921\n",
            "Epoch 86/100\n",
            "1250/1250 [==============================] - 14s 11ms/step - loss: 0.3129 - acc: 0.8921\n",
            "Epoch 87/100\n",
            "1250/1250 [==============================] - 14s 11ms/step - loss: 0.3101 - acc: 0.8931\n",
            "Epoch 88/100\n",
            "1250/1250 [==============================] - 14s 11ms/step - loss: 0.3087 - acc: 0.8917\n",
            "Epoch 89/100\n",
            "1250/1250 [==============================] - 14s 11ms/step - loss: 0.3013 - acc: 0.8952\n",
            "Epoch 90/100\n",
            "1250/1250 [==============================] - 14s 11ms/step - loss: 0.3025 - acc: 0.8968\n",
            "Epoch 91/100\n",
            "1250/1250 [==============================] - 14s 11ms/step - loss: 0.3011 - acc: 0.8956\n",
            "Epoch 92/100\n",
            "1250/1250 [==============================] - 14s 11ms/step - loss: 0.3005 - acc: 0.8959\n",
            "Epoch 93/100\n",
            "1250/1250 [==============================] - 14s 11ms/step - loss: 0.2983 - acc: 0.8971\n",
            "Epoch 94/100\n",
            "1250/1250 [==============================] - 14s 11ms/step - loss: 0.2918 - acc: 0.8994\n",
            "Epoch 95/100\n",
            "1250/1250 [==============================] - 14s 11ms/step - loss: 0.2933 - acc: 0.8979\n",
            "Epoch 96/100\n",
            "1250/1250 [==============================] - 14s 11ms/step - loss: 0.2910 - acc: 0.8997\n",
            "Epoch 97/100\n",
            "1250/1250 [==============================] - 14s 11ms/step - loss: 0.2882 - acc: 0.9018\n",
            "Epoch 98/100\n",
            "1250/1250 [==============================] - 14s 11ms/step - loss: 0.2862 - acc: 0.9011\n",
            "Epoch 99/100\n",
            "1250/1250 [==============================] - 14s 11ms/step - loss: 0.2822 - acc: 0.9021\n",
            "Epoch 100/100\n",
            "1250/1250 [==============================] - 14s 11ms/step - loss: 0.2813 - acc: 0.9018\n"
          ]
        }
      ]
    },
    {
      "cell_type": "markdown",
      "metadata": {
        "id": "N2u-gWd8kQsn"
      },
      "source": [
        "##  Evaluate the model on the test set\n",
        "\n",
        "Do NOT used the test set until now. Make sure that your model parameters and hyper-parameters are independent of the test set.\n"
      ]
    },
    {
      "cell_type": "code",
      "execution_count": null,
      "metadata": {
        "id": "l8k7gqRrkZIc",
        "colab": {
          "base_uri": "https://localhost:8080/"
        },
        "outputId": "98ef1dd9-79c4-431c-d8de-042922a7de56"
      },
      "outputs": [
        {
          "output_type": "stream",
          "name": "stdout",
          "text": [
            "313/313 [==============================] - 2s 5ms/step - loss: 0.6877 - acc: 0.7817\n",
            "loss = 0.6877126097679138\n",
            "accuracy = 0.7817000150680542\n"
          ]
        }
      ],
      "source": [
        "# Evaluate your model performance (testing accuracy) on testing data.\n",
        "\n",
        "from keras.models import load_model\n",
        "model = load_model('bn_dropout_model.h5')\n",
        "loss_and_acc = model.evaluate(x_test, y_test_vec)\n",
        "print('loss = ' + str(loss_and_acc[0]))\n",
        "print('accuracy = ' + str(loss_and_acc[1]))"
      ]
    },
    {
      "cell_type": "code",
      "execution_count": null,
      "metadata": {
        "id": "qEDGxtHTkdgF",
        "colab": {
          "base_uri": "https://localhost:8080/"
        },
        "outputId": "3dc7bdd3-19ea-44a8-b9b1-d8b9d3df541f"
      },
      "outputs": [
        {
          "output_type": "stream",
          "name": "stdout",
          "text": [
            "313/313 [==============================] - 2s 5ms/step - loss: 0.6445 - acc: 0.7943\n",
            "loss = 0.6444640159606934\n",
            "accuracy = 0.7943000197410583\n"
          ]
        }
      ],
      "source": [
        "# Evaluate your model performance (testing accuracy) on testing data.\n",
        "\n",
        "from keras.models import load_model\n",
        "model = load_model('final_bn_dropout_model.h5')\n",
        "loss_and_acc = model.evaluate(x_test, y_test_vec)\n",
        "print('loss = ' + str(loss_and_acc[0]))\n",
        "print('accuracy = ' + str(loss_and_acc[1]))"
      ]
    },
    {
      "cell_type": "markdown",
      "source": [
        "## Comparision and Analysis:"
      ],
      "metadata": {
        "id": "mtbj2BDevXsu"
      }
    },
    {
      "cell_type": "markdown",
      "source": [
        "- ***Original CNN model:*** has a accuracy of **69.04 %** and after training the network on the entire training set has accuracy of **70.35 %**.\n",
        "- ***Model 1 (BN + Data_Augmentation):*** has a accuracy of **66.32 %** and after training the network on the entire training set has accuracy of **77.92** %. \n",
        "- ***Model 2 (BN + Dropout):*** has a accuracy of **78.17 %** and after training the network on the entire training set has accuracy of **79.43 %**.\n",
        "\n",
        "**~** Clearly ***Model 2*** achieves the best accuracy amongst the above models.\n",
        "\n",
        "**~** Model 1 may achieve more accuracy if the model is trained for more epochs but it is not possible due to limited access to GPU in Google Colab \n",
        "\n"
      ],
      "metadata": {
        "id": "uCsG0mvrveLz"
      }
    }
  ],
  "metadata": {
    "accelerator": "GPU",
    "colab": {
      "collapsed_sections": [],
      "name": "Assignment_2.ipynb",
      "provenance": []
    },
    "kernelspec": {
      "display_name": "Python 3",
      "language": "python",
      "name": "python3"
    },
    "language_info": {
      "codemirror_mode": {
        "name": "ipython",
        "version": 3
      },
      "file_extension": ".py",
      "mimetype": "text/x-python",
      "name": "python",
      "nbconvert_exporter": "python",
      "pygments_lexer": "ipython3",
      "version": "3.8.8"
    }
  },
  "nbformat": 4,
  "nbformat_minor": 0
}